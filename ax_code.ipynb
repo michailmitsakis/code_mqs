{
  "cells": [
    {
      "cell_type": "markdown",
      "metadata": {},
      "source": [
        "Include global stopping strategy: \n",
        "https://ax.dev/tutorials/gss.html\n",
        "\n",
        "Also note warnings:\n",
        "\n",
        "- FutureWarning: The behavior of DataFrame concatenation with empty or all-NA entries is deprecated. In a future version, this will no longer exclude empty or all-NA columns when determining the result dtypes. To retain the old behavior, exclude the relevant entries before the concat operation.\n",
        "  return cls(df=pd.concat(dfs, axis=0, sort=True))\n",
        "\n",
        "- FutureWarning: Passing literal json to 'read_json' is deprecated and will be removed in a future version. To read from a literal string, wrap it in a 'StringIO' object. args[\"df\"] = pd.read_json(args[\"df\"][\"value\"], dtype=False)\n",
        "\n",
        "- The default behavior of `get_pareto_frontier_and_configs` when `transform_outcomes_and_configs` is not specified has changed. Previously, the default was `transform_outcomes_and_configs=True`; now this argument is deprecated and behavior is as if `transform_outcomes_and_configs=False`. You did not specify `transform_outcomes_and_configs`, so this warning requires no action.\n",
        "\n"
      ]
    },
    {
      "cell_type": "markdown",
      "metadata": {},
      "source": [
        "### Imports"
      ]
    },
    {
      "cell_type": "code",
      "execution_count": 1,
      "metadata": {
        "colab": {
          "base_uri": "https://localhost:8080/",
          "height": 269
        },
        "id": "frb6kTSIpZug",
        "outputId": "c80669f5-08d4-4e65-89ad-6aa5f8bf5f0c"
      },
      "outputs": [],
      "source": [
        "import numpy as np\n",
        "import pandas as pd\n",
        "import matplotlib.pyplot as plt\n",
        "\n",
        "import ax\n",
        "# import botorch\n",
        "# import gpytorch\n",
        "\n",
        "from ax.service.ax_client import AxClient\n",
        "from ax.service.utils.instantiation import ObjectiveProperties\n",
        "\n",
        "from ax.modelbridge.generation_strategy import GenerationStrategy, GenerationStep\n",
        "from ax.modelbridge.registry import Models"
      ]
    },
    {
      "cell_type": "markdown",
      "metadata": {},
      "source": [
        "### Training Data and Parameters"
      ]
    },
    {
      "cell_type": "code",
      "execution_count": 2,
      "metadata": {},
      "outputs": [
        {
          "data": {
            "text/html": [
              "<div>\n",
              "<style scoped>\n",
              "    .dataframe tbody tr th:only-of-type {\n",
              "        vertical-align: middle;\n",
              "    }\n",
              "\n",
              "    .dataframe tbody tr th {\n",
              "        vertical-align: top;\n",
              "    }\n",
              "\n",
              "    .dataframe thead th {\n",
              "        text-align: right;\n",
              "    }\n",
              "</style>\n",
              "<table border=\"1\" class=\"dataframe\">\n",
              "  <thead>\n",
              "    <tr style=\"text-align: right;\">\n",
              "      <th></th>\n",
              "      <th>tungstate_concentration</th>\n",
              "      <th>current_density</th>\n",
              "      <th>deposition_time</th>\n",
              "      <th>pH</th>\n",
              "    </tr>\n",
              "  </thead>\n",
              "  <tbody>\n",
              "    <tr>\n",
              "      <th>0</th>\n",
              "      <td>0.05</td>\n",
              "      <td>10.0</td>\n",
              "      <td>500.0</td>\n",
              "      <td>5.0</td>\n",
              "    </tr>\n",
              "    <tr>\n",
              "      <th>1</th>\n",
              "      <td>0.05</td>\n",
              "      <td>50.0</td>\n",
              "      <td>300.0</td>\n",
              "      <td>6.0</td>\n",
              "    </tr>\n",
              "    <tr>\n",
              "      <th>2</th>\n",
              "      <td>0.10</td>\n",
              "      <td>10.0</td>\n",
              "      <td>300.0</td>\n",
              "      <td>7.0</td>\n",
              "    </tr>\n",
              "    <tr>\n",
              "      <th>3</th>\n",
              "      <td>0.10</td>\n",
              "      <td>10.0</td>\n",
              "      <td>600.0</td>\n",
              "      <td>8.0</td>\n",
              "    </tr>\n",
              "    <tr>\n",
              "      <th>4</th>\n",
              "      <td>0.10</td>\n",
              "      <td>50.0</td>\n",
              "      <td>600.0</td>\n",
              "      <td>7.5</td>\n",
              "    </tr>\n",
              "    <tr>\n",
              "      <th>5</th>\n",
              "      <td>0.10</td>\n",
              "      <td>100.0</td>\n",
              "      <td>600.0</td>\n",
              "      <td>10.0</td>\n",
              "    </tr>\n",
              "    <tr>\n",
              "      <th>6</th>\n",
              "      <td>0.10</td>\n",
              "      <td>50.0</td>\n",
              "      <td>400.0</td>\n",
              "      <td>6.5</td>\n",
              "    </tr>\n",
              "    <tr>\n",
              "      <th>7</th>\n",
              "      <td>0.10</td>\n",
              "      <td>30.0</td>\n",
              "      <td>600.0</td>\n",
              "      <td>8.5</td>\n",
              "    </tr>\n",
              "    <tr>\n",
              "      <th>8</th>\n",
              "      <td>0.15</td>\n",
              "      <td>10.0</td>\n",
              "      <td>600.0</td>\n",
              "      <td>9.5</td>\n",
              "    </tr>\n",
              "    <tr>\n",
              "      <th>9</th>\n",
              "      <td>0.15</td>\n",
              "      <td>50.0</td>\n",
              "      <td>300.0</td>\n",
              "      <td>9.5</td>\n",
              "    </tr>\n",
              "  </tbody>\n",
              "</table>\n",
              "</div>"
            ],
            "text/plain": [
              "   tungstate_concentration  current_density  deposition_time    pH\n",
              "0                     0.05             10.0            500.0   5.0\n",
              "1                     0.05             50.0            300.0   6.0\n",
              "2                     0.10             10.0            300.0   7.0\n",
              "3                     0.10             10.0            600.0   8.0\n",
              "4                     0.10             50.0            600.0   7.5\n",
              "5                     0.10            100.0            600.0  10.0\n",
              "6                     0.10             50.0            400.0   6.5\n",
              "7                     0.10             30.0            600.0   8.5\n",
              "8                     0.15             10.0            600.0   9.5\n",
              "9                     0.15             50.0            300.0   9.5"
            ]
          },
          "execution_count": 2,
          "metadata": {},
          "output_type": "execute_result"
        }
      ],
      "source": [
        "unique_parameters = [\"tungstate_concentration\", \"current_density\", \"deposition_time\", \"pH\"] \n",
        "# temperature avoided, kept constant at 25 C\n",
        "\n",
        "# EXAMPLE, here use actual data\n",
        "X_train = np.array([[0.05, 10, 500, 5],\n",
        "               [0.05, 50, 300, 6],\n",
        "               [0.1, 10, 300, 7],\n",
        "               [0.1, 10, 600, 8],\n",
        "               \n",
        "               [0.1, 50, 600, 7.5],\n",
        "               [0.1, 100, 600, 10],\n",
        "               [0.1, 50, 400, 6.5],\n",
        "               [0.1, 30, 600, 8.5],\n",
        "               [0.15, 10, 600, 9.5],\n",
        "               [0.15, 50, 300, 9.5],\n",
        "               \n",
        "               # NEW OPTIMIZATION DATA    \n",
        "               ])\n",
        "\n",
        "# Convert to dataframe\n",
        "X_train = pd.DataFrame(X_train, columns=unique_parameters)\n",
        "X_train"
      ]
    },
    {
      "cell_type": "code",
      "execution_count": 3,
      "metadata": {
        "colab": {
          "base_uri": "https://localhost:8080/"
        },
        "id": "9T4ugJ-Jqr3m",
        "outputId": "60993244-cb60-4c43-facd-b096918e9e71"
      },
      "outputs": [
        {
          "data": {
            "text/html": [
              "<div>\n",
              "<style scoped>\n",
              "    .dataframe tbody tr th:only-of-type {\n",
              "        vertical-align: middle;\n",
              "    }\n",
              "\n",
              "    .dataframe tbody tr th {\n",
              "        vertical-align: top;\n",
              "    }\n",
              "\n",
              "    .dataframe thead th {\n",
              "        text-align: right;\n",
              "    }\n",
              "</style>\n",
              "<table border=\"1\" class=\"dataframe\">\n",
              "  <thead>\n",
              "    <tr style=\"text-align: right;\">\n",
              "      <th></th>\n",
              "      <th>overpotential</th>\n",
              "      <th>overpotential_slope</th>\n",
              "    </tr>\n",
              "  </thead>\n",
              "  <tbody>\n",
              "    <tr>\n",
              "      <th>0</th>\n",
              "      <td>-358.0</td>\n",
              "      <td>0.000150</td>\n",
              "    </tr>\n",
              "    <tr>\n",
              "      <th>1</th>\n",
              "      <td>-319.0</td>\n",
              "      <td>0.000066</td>\n",
              "    </tr>\n",
              "    <tr>\n",
              "      <th>2</th>\n",
              "      <td>-377.0</td>\n",
              "      <td>0.000100</td>\n",
              "    </tr>\n",
              "    <tr>\n",
              "      <th>3</th>\n",
              "      <td>-319.0</td>\n",
              "      <td>-0.000518</td>\n",
              "    </tr>\n",
              "    <tr>\n",
              "      <th>4</th>\n",
              "      <td>-286.0</td>\n",
              "      <td>0.000080</td>\n",
              "    </tr>\n",
              "    <tr>\n",
              "      <th>5</th>\n",
              "      <td>-312.0</td>\n",
              "      <td>0.000029</td>\n",
              "    </tr>\n",
              "    <tr>\n",
              "      <th>6</th>\n",
              "      <td>-309.0</td>\n",
              "      <td>-0.000057</td>\n",
              "    </tr>\n",
              "    <tr>\n",
              "      <th>7</th>\n",
              "      <td>-290.0</td>\n",
              "      <td>0.001656</td>\n",
              "    </tr>\n",
              "    <tr>\n",
              "      <th>8</th>\n",
              "      <td>-329.0</td>\n",
              "      <td>0.000131</td>\n",
              "    </tr>\n",
              "    <tr>\n",
              "      <th>9</th>\n",
              "      <td>-305.0</td>\n",
              "      <td>-0.000064</td>\n",
              "    </tr>\n",
              "  </tbody>\n",
              "</table>\n",
              "</div>"
            ],
            "text/plain": [
              "   overpotential  overpotential_slope\n",
              "0         -358.0             0.000150\n",
              "1         -319.0             0.000066\n",
              "2         -377.0             0.000100\n",
              "3         -319.0            -0.000518\n",
              "4         -286.0             0.000080\n",
              "5         -312.0             0.000029\n",
              "6         -309.0            -0.000057\n",
              "7         -290.0             0.001656\n",
              "8         -329.0             0.000131\n",
              "9         -305.0            -0.000064"
            ]
          },
          "execution_count": 3,
          "metadata": {},
          "output_type": "execute_result"
        }
      ],
      "source": [
        "# Number of data points\n",
        "n_train = X_train.shape[0]\n",
        "\n",
        "unique_objectives = [\"overpotential\", \"overpotential_slope\"]\n",
        "\n",
        "# EXAMPLE, here use actual observations\n",
        "y_train = np.array([[-358,0.00015], \n",
        "                    [-319,0.000066], \n",
        "                    [-377,0.0001], \n",
        "                    [-319,-0.000518],\n",
        "                    [-286,0.00008], \n",
        "                    [-312,0.000029], \n",
        "                    [-309,-0.000057], \n",
        "                    [-290,0.001656],\n",
        "                    [-329,0.000131], \n",
        "                    [-305,-0.000064],\n",
        "\n",
        "                    # NEW OPTIMIZATION DATA                    \n",
        "                    ])\n",
        "\n",
        "# Convert to dataframe\n",
        "y_train = pd.DataFrame(y_train, columns=unique_objectives)\n",
        "y_train"
      ]
    },
    {
      "cell_type": "code",
      "execution_count": 4,
      "metadata": {},
      "outputs": [],
      "source": [
        "parameters=[\n",
        "        {\n",
        "            \"name\": \"tungstate_concentration\",\n",
        "            \"type\": \"range\",\n",
        "            \"bounds\": [0.05, 0.2],\n",
        "        },\n",
        "        {\n",
        "            \"name\": \"current_density\",\n",
        "            \"type\": \"range\",\n",
        "            \"bounds\": [5, 125],\n",
        "        },\n",
        "        {\n",
        "            \"name\": \"deposition_time\",\n",
        "            \"type\": \"range\",\n",
        "            \"bounds\": [60, 600],\n",
        "        },\n",
        "        {\n",
        "            \"name\": \"pH\",\n",
        "            \"type\": \"range\",\n",
        "            \"bounds\": [5, 10],\n",
        "        }\n",
        "        ]"
      ]
    },
    {
      "cell_type": "markdown",
      "metadata": {},
      "source": [
        "### Generation Strategy"
      ]
    },
    {
      "cell_type": "code",
      "execution_count": 5,
      "metadata": {
        "colab": {
          "base_uri": "https://localhost:8080/"
        },
        "id": "npCeW3_9pjyG",
        "outputId": "541a9786-46ec-4bc8-d125-6709f14e237c"
      },
      "outputs": [],
      "source": [
        "# Specify a custom generation strategy - Skips the pseudo-random initial suggested points \n",
        "gs = GenerationStrategy(\n",
        "    steps=[\n",
        "        # Quasi-random Sobol sequence along with my initial data\n",
        "        # GenerationStep(\n",
        "            # model=Models.SOBOL, \n",
        "            # num_trials=5,  # How many trials to produce during generation step\n",
        "            # min_trials_observed=3,  # How many trials to be completed before next model\n",
        "            # max_parallelism=5  # Max parallelism for this step\n",
        "        # ),\n",
        "        ################\n",
        "        # Skips SOBOL sampling step (which is the default first step) and uses the initial data provided\n",
        "        # Bayesian optimization step (requires data obtained from previous phase and learns\n",
        "        # from all data available at the time of each new candidate generation call)\n",
        "        GenerationStep(\n",
        "            model = Models.MOO,\n",
        "            # Uses qNEHVI by default, use instead of GPEI (for single) and PAREGO (for multi but worse than qNEHVI)\n",
        "            # Not passing any information about the observation noise; so the model is inferring a Gaussian noise level on the observations - SingleTaskGP\n",
        "            num_trials=-1,  # No limitation on how many trials should be produced from this step\n",
        "            max_parallelism=3  # BATCH/Parallelism limit for this step, often lower than for Sobol\n",
        "                    )\n",
        "            ]\n",
        ")"
      ]
    },
    {
      "cell_type": "markdown",
      "metadata": {},
      "source": [
        "### Setup the experiment"
      ]
    },
    {
      "cell_type": "code",
      "execution_count": 6,
      "metadata": {},
      "outputs": [
        {
          "name": "stderr",
          "output_type": "stream",
          "text": [
            "[INFO 02-04 14:41:20] ax.service.ax_client: Starting optimization with verbose logging. To disable logging, set the `verbose_logging` argument to `False`. Note that float values in the logs are rounded to 6 decimal points.\n",
            "[INFO 02-04 14:41:20] ax.service.utils.instantiation: Inferred value type of ParameterType.FLOAT for parameter tungstate_concentration. If that is not the expected value type, you can explicitly specify 'value_type' ('int', 'float', 'bool' or 'str') in parameter dict.\n",
            "[INFO 02-04 14:41:20] ax.service.utils.instantiation: Inferred value type of ParameterType.INT for parameter current_density. If that is not the expected value type, you can explicitly specify 'value_type' ('int', 'float', 'bool' or 'str') in parameter dict.\n",
            "[INFO 02-04 14:41:20] ax.service.utils.instantiation: Inferred value type of ParameterType.INT for parameter deposition_time. If that is not the expected value type, you can explicitly specify 'value_type' ('int', 'float', 'bool' or 'str') in parameter dict.\n",
            "[INFO 02-04 14:41:20] ax.service.utils.instantiation: Inferred value type of ParameterType.INT for parameter pH. If that is not the expected value type, you can explicitly specify 'value_type' ('int', 'float', 'bool' or 'str') in parameter dict.\n",
            "[INFO 02-04 14:41:20] ax.service.utils.instantiation: Created search space: SearchSpace(parameters=[RangeParameter(name='tungstate_concentration', parameter_type=FLOAT, range=[0.05, 0.2]), RangeParameter(name='current_density', parameter_type=INT, range=[5, 125]), RangeParameter(name='deposition_time', parameter_type=INT, range=[60, 600]), RangeParameter(name='pH', parameter_type=INT, range=[5, 10])], parameter_constraints=[]).\n"
          ]
        }
      ],
      "source": [
        "ax_client = AxClient(generation_strategy=gs)\n",
        "ax_client.create_experiment(\n",
        "    name=\"NiW\",\n",
        "    parameters=parameters,\n",
        "    objectives={\n",
        "        \"overpotential\": ObjectiveProperties(minimize=False, threshold = -350), # How ambitious + what is max (min) allowable value?\n",
        "        \"overpotential_slope\": ObjectiveProperties(minimize=False, threshold = -0.001) # Not clear, looking for >=0 if possible\n",
        "    },\n",
        "    overwrite_existing_experiment=False, # I am saving my data anyway, but just to make sure\n",
        "    is_test = False, # Set this to False when running a REAL experiment\n",
        "    choose_generation_strategy_kwargs = {\"max_parallelism_override\": 3} # Parallel/Batch evaluation, max batch size = 3\n",
        ")"
      ]
    },
    {
      "cell_type": "markdown",
      "metadata": {},
      "source": [
        "### Input training data (run this only the FIRST time)"
      ]
    },
    {
      "cell_type": "markdown",
      "metadata": {},
      "source": [
        "Doing this manually while also specifying parameter data types, instead of the simply structure in the tutorial, to avoid odd errors (e.g. initial data is one type, while in the dataframe it is another + need to use iloc function to iterate through dataframe)."
      ]
    },
    {
      "cell_type": "code",
      "execution_count": 7,
      "metadata": {},
      "outputs": [
        {
          "name": "stderr",
          "output_type": "stream",
          "text": [
            "[INFO 02-04 14:41:22] ax.core.experiment: Attached custom parameterizations [{'tungstate_concentration': 0.05, 'current_density': 10, 'deposition_time': 500, 'pH': 5}] as trial 0.\n",
            "[INFO 02-04 14:41:22] ax.service.ax_client: Completed trial 0 with data: {'overpotential': (-358.0, None), 'overpotential_slope': (0.00015, None)}.\n",
            "[INFO 02-04 14:41:22] ax.core.experiment: Attached custom parameterizations [{'tungstate_concentration': 0.05, 'current_density': 50, 'deposition_time': 300, 'pH': 6}] as trial 1.\n",
            "[INFO 02-04 14:41:22] ax.service.ax_client: Completed trial 1 with data: {'overpotential': (-319.0, None), 'overpotential_slope': (6.6e-05, None)}.\n",
            "[INFO 02-04 14:41:22] ax.core.experiment: Attached custom parameterizations [{'tungstate_concentration': 0.1, 'current_density': 10, 'deposition_time': 300, 'pH': 7}] as trial 2.\n",
            "[INFO 02-04 14:41:22] ax.service.ax_client: Completed trial 2 with data: {'overpotential': (-377.0, None), 'overpotential_slope': (0.0001, None)}.\n",
            "[INFO 02-04 14:41:22] ax.core.experiment: Attached custom parameterizations [{'tungstate_concentration': 0.1, 'current_density': 10, 'deposition_time': 600, 'pH': 8}] as trial 3.\n",
            "[INFO 02-04 14:41:22] ax.service.ax_client: Completed trial 3 with data: {'overpotential': (-319.0, None), 'overpotential_slope': (-0.000518, None)}.\n",
            "[INFO 02-04 14:41:22] ax.core.experiment: Attached custom parameterizations [{'tungstate_concentration': 0.1, 'current_density': 50, 'deposition_time': 600, 'pH': 7}] as trial 4.\n",
            "[INFO 02-04 14:41:22] ax.service.ax_client: Completed trial 4 with data: {'overpotential': (-286.0, None), 'overpotential_slope': (8e-05, None)}.\n",
            "[INFO 02-04 14:41:22] ax.core.experiment: Attached custom parameterizations [{'tungstate_concentration': 0.1, 'current_density': 100, 'deposition_time': 600, 'pH': 10}] as trial 5.\n",
            "[INFO 02-04 14:41:22] ax.service.ax_client: Completed trial 5 with data: {'overpotential': (-312.0, None), 'overpotential_slope': (2.9e-05, None)}.\n",
            "[INFO 02-04 14:41:22] ax.core.experiment: Attached custom parameterizations [{'tungstate_concentration': 0.1, 'current_density': 50, 'deposition_time': 400, 'pH': 6}] as trial 6.\n",
            "[INFO 02-04 14:41:22] ax.service.ax_client: Completed trial 6 with data: {'overpotential': (-309.0, None), 'overpotential_slope': (-5.7e-05, None)}.\n",
            "[INFO 02-04 14:41:22] ax.core.experiment: Attached custom parameterizations [{'tungstate_concentration': 0.1, 'current_density': 30, 'deposition_time': 600, 'pH': 8}] as trial 7.\n",
            "[INFO 02-04 14:41:22] ax.service.ax_client: Completed trial 7 with data: {'overpotential': (-290.0, None), 'overpotential_slope': (0.001656, None)}.\n",
            "[INFO 02-04 14:41:22] ax.core.experiment: Attached custom parameterizations [{'tungstate_concentration': 0.15, 'current_density': 10, 'deposition_time': 600, 'pH': 9}] as trial 8.\n",
            "[INFO 02-04 14:41:22] ax.service.ax_client: Completed trial 8 with data: {'overpotential': (-329.0, None), 'overpotential_slope': (0.000131, None)}.\n",
            "[INFO 02-04 14:41:22] ax.core.experiment: Attached custom parameterizations [{'tungstate_concentration': 0.15, 'current_density': 50, 'deposition_time': 300, 'pH': 9}] as trial 9.\n",
            "[INFO 02-04 14:41:22] ax.service.ax_client: Completed trial 9 with data: {'overpotential': (-305.0, None), 'overpotential_slope': (-6.4e-05, None)}.\n"
          ]
        }
      ],
      "source": [
        "# Initialize trial index\n",
        "trial_index = 0\n",
        "\n",
        "# Attach the training data\n",
        "for i in range(n_train):\n",
        "    trial_parameters = {\n",
        "        param: int(value) if param in [\"current_density\", \"deposition_time\", \"pH\"] else float(value)\n",
        "        for param, value in X_train.iloc[i, :].items()\n",
        "    }\n",
        "    \n",
        "    # Create a dictionary with the raw data for each objective\n",
        "    trial_raw_data = {obj: float(value) for obj, value in zip(unique_objectives, y_train.iloc[i])}\n",
        "    \n",
        "    # Attach trial and complete it\n",
        "    ax_client.attach_trial(trial_parameters)\n",
        "    ax_client.complete_trial(trial_index=trial_index, raw_data=trial_raw_data)\n",
        "    \n",
        "    # Increment trial index\n",
        "    trial_index += 1"
      ]
    },
    {
      "cell_type": "markdown",
      "metadata": {},
      "source": [
        "### Run optimization and get next suggestions (repeat cell as needed)"
      ]
    },
    {
      "cell_type": "code",
      "execution_count": 8,
      "metadata": {},
      "outputs": [
        {
          "name": "stderr",
          "output_type": "stream",
          "text": [
            "[INFO 02-04 14:41:28] ax.service.ax_client: Generated new trial 10 with parameters {'tungstate_concentration': 0.09584, 'current_density': 49, 'deposition_time': 600, 'pH': 9}.\n",
            "c:\\Users\\lordm\\Desktop\\Projects\\code_mqs\\.venv\\lib\\site-packages\\ax\\core\\data.py:284: FutureWarning: The behavior of DataFrame concatenation with empty or all-NA entries is deprecated. In a future version, this will no longer exclude empty or all-NA columns when determining the result dtypes. To retain the old behavior, exclude the relevant entries before the concat operation.\n",
            "  return cls(df=pd.concat(dfs, axis=0, sort=True))\n",
            "[INFO 02-04 14:41:28] ax.modelbridge.torch: The observations are identical to the last set of observations used to fit the model. Skipping model fitting.\n"
          ]
        },
        {
          "name": "stdout",
          "output_type": "stream",
          "text": [
            "next suggested experiment:  {'tungstate_concentration': 0.09583970693987534, 'current_density': 49, 'deposition_time': 600, 'pH': 9}\n"
          ]
        },
        {
          "name": "stderr",
          "output_type": "stream",
          "text": [
            "[INFO 02-04 14:41:31] ax.service.ax_client: Generated new trial 11 with parameters {'tungstate_concentration': 0.132893, 'current_density': 50, 'deposition_time': 600, 'pH': 8}.\n",
            "c:\\Users\\lordm\\Desktop\\Projects\\code_mqs\\.venv\\lib\\site-packages\\ax\\core\\data.py:284: FutureWarning: The behavior of DataFrame concatenation with empty or all-NA entries is deprecated. In a future version, this will no longer exclude empty or all-NA columns when determining the result dtypes. To retain the old behavior, exclude the relevant entries before the concat operation.\n",
            "  return cls(df=pd.concat(dfs, axis=0, sort=True))\n",
            "[INFO 02-04 14:41:31] ax.modelbridge.torch: The observations are identical to the last set of observations used to fit the model. Skipping model fitting.\n"
          ]
        },
        {
          "name": "stdout",
          "output_type": "stream",
          "text": [
            "next suggested experiment:  {'tungstate_concentration': 0.13289313283346882, 'current_density': 50, 'deposition_time': 600, 'pH': 8}\n"
          ]
        },
        {
          "name": "stderr",
          "output_type": "stream",
          "text": [
            "[INFO 02-04 14:41:35] ax.service.ax_client: Generated new trial 12 with parameters {'tungstate_concentration': 0.055994, 'current_density': 46, 'deposition_time': 600, 'pH': 8}.\n"
          ]
        },
        {
          "name": "stdout",
          "output_type": "stream",
          "text": [
            "next suggested experiment:  {'tungstate_concentration': 0.0559944442894985, 'current_density': 46, 'deposition_time': 600, 'pH': 8}\n"
          ]
        }
      ],
      "source": [
        "for i in range(3): # generate a batch of 3 new trials\n",
        "    next_experiment, trial_index = ax_client.get_next_trial() \n",
        "    print(\"next suggested experiment: \", next_experiment)"
      ]
    },
    {
      "cell_type": "code",
      "execution_count": 9,
      "metadata": {},
      "outputs": [
        {
          "name": "stderr",
          "output_type": "stream",
          "text": [
            "[INFO 02-04 14:41:37] ax.modelbridge.generation_strategy: Note that parameter values in dataframe are rounded to 2 decimal points; the values in the dataframe are thus not the exact ones suggested by Ax in trials.\n"
          ]
        },
        {
          "data": {
            "text/html": [
              "<div>\n",
              "<style scoped>\n",
              "    .dataframe tbody tr th:only-of-type {\n",
              "        vertical-align: middle;\n",
              "    }\n",
              "\n",
              "    .dataframe tbody tr th {\n",
              "        vertical-align: top;\n",
              "    }\n",
              "\n",
              "    .dataframe thead th {\n",
              "        text-align: right;\n",
              "    }\n",
              "</style>\n",
              "<table border=\"1\" class=\"dataframe\">\n",
              "  <thead>\n",
              "    <tr style=\"text-align: right;\">\n",
              "      <th></th>\n",
              "      <th>Generation Step</th>\n",
              "      <th>Generation Model</th>\n",
              "      <th>Trial Index</th>\n",
              "      <th>Trial Status</th>\n",
              "      <th>Arm Parameterizations</th>\n",
              "    </tr>\n",
              "  </thead>\n",
              "  <tbody>\n",
              "    <tr>\n",
              "      <th>0</th>\n",
              "      <td>GenerationStep_0</td>\n",
              "      <td>MOO</td>\n",
              "      <td>10</td>\n",
              "      <td>RUNNING</td>\n",
              "      <td>{'10_0': {'tungstate_concentration': 0.1, 'cur...</td>\n",
              "    </tr>\n",
              "    <tr>\n",
              "      <th>1</th>\n",
              "      <td>GenerationStep_0</td>\n",
              "      <td>MOO</td>\n",
              "      <td>11</td>\n",
              "      <td>RUNNING</td>\n",
              "      <td>{'11_0': {'tungstate_concentration': 0.13, 'cu...</td>\n",
              "    </tr>\n",
              "    <tr>\n",
              "      <th>2</th>\n",
              "      <td>GenerationStep_0</td>\n",
              "      <td>MOO</td>\n",
              "      <td>12</td>\n",
              "      <td>RUNNING</td>\n",
              "      <td>{'12_0': {'tungstate_concentration': 0.06, 'cu...</td>\n",
              "    </tr>\n",
              "  </tbody>\n",
              "</table>\n",
              "</div>"
            ],
            "text/plain": [
              "    Generation Step Generation Model  Trial Index Trial Status  \\\n",
              "0  GenerationStep_0              MOO           10      RUNNING   \n",
              "1  GenerationStep_0              MOO           11      RUNNING   \n",
              "2  GenerationStep_0              MOO           12      RUNNING   \n",
              "\n",
              "                               Arm Parameterizations  \n",
              "0  {'10_0': {'tungstate_concentration': 0.1, 'cur...  \n",
              "1  {'11_0': {'tungstate_concentration': 0.13, 'cu...  \n",
              "2  {'12_0': {'tungstate_concentration': 0.06, 'cu...  "
            ]
          },
          "execution_count": 9,
          "metadata": {},
          "output_type": "execute_result"
        }
      ],
      "source": [
        "# Confirm runnign trials\n",
        "ax_client.generation_strategy.trials_as_df"
      ]
    },
    {
      "cell_type": "markdown",
      "metadata": {},
      "source": [
        "### Perform lab experiments and get new objectives"
      ]
    },
    {
      "cell_type": "code",
      "execution_count": 10,
      "metadata": {},
      "outputs": [
        {
          "name": "stderr",
          "output_type": "stream",
          "text": [
            "[INFO 02-04 14:41:39] ax.service.ax_client: Completed trial 10 with data: {'overpotential': (-260.0, None), 'overpotential_slope': (-0.002, None)}.\n",
            "[INFO 02-04 14:41:39] ax.service.ax_client: Completed trial 11 with data: {'overpotential': (-255.0, None), 'overpotential_slope': (-0.02, None)}.\n",
            "[INFO 02-04 14:41:39] ax.service.ax_client: Completed trial 12 with data: {'overpotential': (-245.0, None), 'overpotential_slope': (-0.0004, None)}.\n"
          ]
        }
      ],
      "source": [
        "# Complete pendings trials\n",
        "# We manually set SEM = None to indicate that we know the function to be noisy, but would like Ax to estimate the noise for us.\n",
        "ax_client.complete_trial(trial_index=10, raw_data={'overpotential': (-260.0, None), 'overpotential_slope': (-0.002, None)})\n",
        "ax_client.complete_trial(trial_index=11, raw_data={'overpotential': (-255.0, None), 'overpotential_slope': (-0.02, None)})\n",
        "ax_client.complete_trial(trial_index=12, raw_data={'overpotential': (-245.0, None), 'overpotential_slope': (-0.0004, None)})"
      ]
    },
    {
      "cell_type": "code",
      "execution_count": 11,
      "metadata": {},
      "outputs": [
        {
          "name": "stderr",
          "output_type": "stream",
          "text": [
            "[INFO 02-04 14:41:41] ax.modelbridge.generation_strategy: Note that parameter values in dataframe are rounded to 2 decimal points; the values in the dataframe are thus not the exact ones suggested by Ax in trials.\n"
          ]
        },
        {
          "data": {
            "text/html": [
              "<div>\n",
              "<style scoped>\n",
              "    .dataframe tbody tr th:only-of-type {\n",
              "        vertical-align: middle;\n",
              "    }\n",
              "\n",
              "    .dataframe tbody tr th {\n",
              "        vertical-align: top;\n",
              "    }\n",
              "\n",
              "    .dataframe thead th {\n",
              "        text-align: right;\n",
              "    }\n",
              "</style>\n",
              "<table border=\"1\" class=\"dataframe\">\n",
              "  <thead>\n",
              "    <tr style=\"text-align: right;\">\n",
              "      <th></th>\n",
              "      <th>Generation Step</th>\n",
              "      <th>Generation Model</th>\n",
              "      <th>Trial Index</th>\n",
              "      <th>Trial Status</th>\n",
              "      <th>Arm Parameterizations</th>\n",
              "    </tr>\n",
              "  </thead>\n",
              "  <tbody>\n",
              "    <tr>\n",
              "      <th>0</th>\n",
              "      <td>GenerationStep_0</td>\n",
              "      <td>MOO</td>\n",
              "      <td>10</td>\n",
              "      <td>COMPLETED</td>\n",
              "      <td>{'10_0': {'tungstate_concentration': 0.1, 'cur...</td>\n",
              "    </tr>\n",
              "    <tr>\n",
              "      <th>1</th>\n",
              "      <td>GenerationStep_0</td>\n",
              "      <td>MOO</td>\n",
              "      <td>11</td>\n",
              "      <td>COMPLETED</td>\n",
              "      <td>{'11_0': {'tungstate_concentration': 0.13, 'cu...</td>\n",
              "    </tr>\n",
              "    <tr>\n",
              "      <th>2</th>\n",
              "      <td>GenerationStep_0</td>\n",
              "      <td>MOO</td>\n",
              "      <td>12</td>\n",
              "      <td>COMPLETED</td>\n",
              "      <td>{'12_0': {'tungstate_concentration': 0.06, 'cu...</td>\n",
              "    </tr>\n",
              "  </tbody>\n",
              "</table>\n",
              "</div>"
            ],
            "text/plain": [
              "    Generation Step Generation Model  Trial Index Trial Status  \\\n",
              "0  GenerationStep_0              MOO           10    COMPLETED   \n",
              "1  GenerationStep_0              MOO           11    COMPLETED   \n",
              "2  GenerationStep_0              MOO           12    COMPLETED   \n",
              "\n",
              "                               Arm Parameterizations  \n",
              "0  {'10_0': {'tungstate_concentration': 0.1, 'cur...  \n",
              "1  {'11_0': {'tungstate_concentration': 0.13, 'cu...  \n",
              "2  {'12_0': {'tungstate_concentration': 0.06, 'cu...  "
            ]
          },
          "execution_count": 11,
          "metadata": {},
          "output_type": "execute_result"
        }
      ],
      "source": [
        "# Confirm completed trials\n",
        "ax_client.generation_strategy.trials_as_df"
      ]
    },
    {
      "cell_type": "markdown",
      "metadata": {},
      "source": [
        "#### Repeat etc."
      ]
    },
    {
      "cell_type": "code",
      "execution_count": 12,
      "metadata": {},
      "outputs": [
        {
          "name": "stderr",
          "output_type": "stream",
          "text": [
            "[INFO 02-04 14:41:48] ax.service.ax_client: Generated new trial 13 with parameters {'tungstate_concentration': 0.104944, 'current_density': 52, 'deposition_time': 575, 'pH': 8}.\n",
            "c:\\Users\\lordm\\Desktop\\Projects\\code_mqs\\.venv\\lib\\site-packages\\ax\\core\\data.py:284: FutureWarning: The behavior of DataFrame concatenation with empty or all-NA entries is deprecated. In a future version, this will no longer exclude empty or all-NA columns when determining the result dtypes. To retain the old behavior, exclude the relevant entries before the concat operation.\n",
            "  return cls(df=pd.concat(dfs, axis=0, sort=True))\n",
            "[INFO 02-04 14:41:48] ax.modelbridge.torch: The observations are identical to the last set of observations used to fit the model. Skipping model fitting.\n"
          ]
        },
        {
          "name": "stdout",
          "output_type": "stream",
          "text": [
            "next suggested experiment:  {'tungstate_concentration': 0.10494403518861209, 'current_density': 52, 'deposition_time': 575, 'pH': 8}\n"
          ]
        },
        {
          "name": "stderr",
          "output_type": "stream",
          "text": [
            "[INFO 02-04 14:41:53] ax.service.ax_client: Generated new trial 14 with parameters {'tungstate_concentration': 0.158626, 'current_density': 54, 'deposition_time': 585, 'pH': 8}.\n",
            "c:\\Users\\lordm\\Desktop\\Projects\\code_mqs\\.venv\\lib\\site-packages\\ax\\core\\data.py:284: FutureWarning: The behavior of DataFrame concatenation with empty or all-NA entries is deprecated. In a future version, this will no longer exclude empty or all-NA columns when determining the result dtypes. To retain the old behavior, exclude the relevant entries before the concat operation.\n",
            "  return cls(df=pd.concat(dfs, axis=0, sort=True))\n",
            "[INFO 02-04 14:41:53] ax.modelbridge.torch: The observations are identical to the last set of observations used to fit the model. Skipping model fitting.\n"
          ]
        },
        {
          "name": "stdout",
          "output_type": "stream",
          "text": [
            "next suggested experiment:  {'tungstate_concentration': 0.15862630288242435, 'current_density': 54, 'deposition_time': 585, 'pH': 8}\n"
          ]
        },
        {
          "name": "stderr",
          "output_type": "stream",
          "text": [
            "[INFO 02-04 14:41:57] ax.service.ax_client: Generated new trial 15 with parameters {'tungstate_concentration': 0.069787, 'current_density': 52, 'deposition_time': 600, 'pH': 8}.\n"
          ]
        },
        {
          "name": "stdout",
          "output_type": "stream",
          "text": [
            "next suggested experiment:  {'tungstate_concentration': 0.06978719511751183, 'current_density': 52, 'deposition_time': 600, 'pH': 8}\n"
          ]
        }
      ],
      "source": [
        "for i in range(3): # generate a batch of 3 new trials\n",
        "    next_experiment, trial_index = ax_client.get_next_trial() \n",
        "    print(\"next suggested experiment: \", next_experiment)"
      ]
    },
    {
      "cell_type": "code",
      "execution_count": 13,
      "metadata": {},
      "outputs": [
        {
          "name": "stderr",
          "output_type": "stream",
          "text": [
            "[INFO 02-04 14:42:00] ax.service.ax_client: Completed trial 13 with data: {'overpotential': (-245.0, None), 'overpotential_slope': (-0.002, None)}.\n",
            "[INFO 02-04 14:42:00] ax.service.ax_client: Completed trial 14 with data: {'overpotential': (-259.0, None), 'overpotential_slope': (4e-05, None)}.\n",
            "[INFO 02-04 14:42:00] ax.service.ax_client: Completed trial 15 with data: {'overpotential': (-269.0, None), 'overpotential_slope': (-0.0034, None)}.\n"
          ]
        }
      ],
      "source": [
        "ax_client.complete_trial(trial_index=13, raw_data={'overpotential': (-245.0, None), 'overpotential_slope': (-0.002, None)})\n",
        "ax_client.complete_trial(trial_index=14, raw_data={'overpotential': (-259.0, None), 'overpotential_slope': (+0.00004, None)})\n",
        "ax_client.complete_trial(trial_index=15, raw_data={'overpotential': (-269.0, None), 'overpotential_slope': (-0.0034, None)})"
      ]
    },
    {
      "cell_type": "code",
      "execution_count": 14,
      "metadata": {},
      "outputs": [
        {
          "name": "stderr",
          "output_type": "stream",
          "text": [
            "[INFO 02-04 14:42:01] ax.modelbridge.generation_strategy: Note that parameter values in dataframe are rounded to 2 decimal points; the values in the dataframe are thus not the exact ones suggested by Ax in trials.\n"
          ]
        },
        {
          "data": {
            "text/html": [
              "<div>\n",
              "<style scoped>\n",
              "    .dataframe tbody tr th:only-of-type {\n",
              "        vertical-align: middle;\n",
              "    }\n",
              "\n",
              "    .dataframe tbody tr th {\n",
              "        vertical-align: top;\n",
              "    }\n",
              "\n",
              "    .dataframe thead th {\n",
              "        text-align: right;\n",
              "    }\n",
              "</style>\n",
              "<table border=\"1\" class=\"dataframe\">\n",
              "  <thead>\n",
              "    <tr style=\"text-align: right;\">\n",
              "      <th></th>\n",
              "      <th>Generation Step</th>\n",
              "      <th>Generation Model</th>\n",
              "      <th>Trial Index</th>\n",
              "      <th>Trial Status</th>\n",
              "      <th>Arm Parameterizations</th>\n",
              "    </tr>\n",
              "  </thead>\n",
              "  <tbody>\n",
              "    <tr>\n",
              "      <th>0</th>\n",
              "      <td>GenerationStep_0</td>\n",
              "      <td>MOO</td>\n",
              "      <td>10</td>\n",
              "      <td>COMPLETED</td>\n",
              "      <td>{'10_0': {'tungstate_concentration': 0.1, 'cur...</td>\n",
              "    </tr>\n",
              "    <tr>\n",
              "      <th>1</th>\n",
              "      <td>GenerationStep_0</td>\n",
              "      <td>MOO</td>\n",
              "      <td>11</td>\n",
              "      <td>COMPLETED</td>\n",
              "      <td>{'11_0': {'tungstate_concentration': 0.13, 'cu...</td>\n",
              "    </tr>\n",
              "    <tr>\n",
              "      <th>2</th>\n",
              "      <td>GenerationStep_0</td>\n",
              "      <td>MOO</td>\n",
              "      <td>12</td>\n",
              "      <td>COMPLETED</td>\n",
              "      <td>{'12_0': {'tungstate_concentration': 0.06, 'cu...</td>\n",
              "    </tr>\n",
              "    <tr>\n",
              "      <th>3</th>\n",
              "      <td>GenerationStep_0</td>\n",
              "      <td>MOO</td>\n",
              "      <td>13</td>\n",
              "      <td>COMPLETED</td>\n",
              "      <td>{'13_0': {'tungstate_concentration': 0.1, 'cur...</td>\n",
              "    </tr>\n",
              "    <tr>\n",
              "      <th>4</th>\n",
              "      <td>GenerationStep_0</td>\n",
              "      <td>MOO</td>\n",
              "      <td>14</td>\n",
              "      <td>COMPLETED</td>\n",
              "      <td>{'14_0': {'tungstate_concentration': 0.16, 'cu...</td>\n",
              "    </tr>\n",
              "    <tr>\n",
              "      <th>5</th>\n",
              "      <td>GenerationStep_0</td>\n",
              "      <td>MOO</td>\n",
              "      <td>15</td>\n",
              "      <td>COMPLETED</td>\n",
              "      <td>{'15_0': {'tungstate_concentration': 0.07, 'cu...</td>\n",
              "    </tr>\n",
              "  </tbody>\n",
              "</table>\n",
              "</div>"
            ],
            "text/plain": [
              "    Generation Step Generation Model  Trial Index Trial Status  \\\n",
              "0  GenerationStep_0              MOO           10    COMPLETED   \n",
              "1  GenerationStep_0              MOO           11    COMPLETED   \n",
              "2  GenerationStep_0              MOO           12    COMPLETED   \n",
              "3  GenerationStep_0              MOO           13    COMPLETED   \n",
              "4  GenerationStep_0              MOO           14    COMPLETED   \n",
              "5  GenerationStep_0              MOO           15    COMPLETED   \n",
              "\n",
              "                               Arm Parameterizations  \n",
              "0  {'10_0': {'tungstate_concentration': 0.1, 'cur...  \n",
              "1  {'11_0': {'tungstate_concentration': 0.13, 'cu...  \n",
              "2  {'12_0': {'tungstate_concentration': 0.06, 'cu...  \n",
              "3  {'13_0': {'tungstate_concentration': 0.1, 'cur...  \n",
              "4  {'14_0': {'tungstate_concentration': 0.16, 'cu...  \n",
              "5  {'15_0': {'tungstate_concentration': 0.07, 'cu...  "
            ]
          },
          "execution_count": 14,
          "metadata": {},
          "output_type": "execute_result"
        }
      ],
      "source": [
        "ax_client.generation_strategy.trials_as_df"
      ]
    },
    {
      "cell_type": "markdown",
      "metadata": {},
      "source": [
        "### Save/Load the experiment"
      ]
    },
    {
      "cell_type": "code",
      "execution_count": 15,
      "metadata": {},
      "outputs": [
        {
          "name": "stderr",
          "output_type": "stream",
          "text": [
            "[INFO 02-04 14:42:02] ax.service.ax_client: Saved JSON-serialized state of optimization to `ax_client_snapshot.json`.\n"
          ]
        }
      ],
      "source": [
        "# Save the experiment state to disk.\n",
        "ax_client.save_to_json_file(\"ax_client_snapshot.json\")  "
      ]
    },
    {
      "cell_type": "code",
      "execution_count": 16,
      "metadata": {},
      "outputs": [
        {
          "name": "stderr",
          "output_type": "stream",
          "text": [
            "c:\\Users\\lordm\\Desktop\\Projects\\code_mqs\\.venv\\lib\\site-packages\\ax\\core\\data.py:203: FutureWarning: Passing literal json to 'read_json' is deprecated and will be removed in a future version. To read from a literal string, wrap it in a 'StringIO' object.\n",
            "  args[\"df\"] = pd.read_json(args[\"df\"][\"value\"], dtype=False)\n",
            "c:\\Users\\lordm\\Desktop\\Projects\\code_mqs\\.venv\\lib\\site-packages\\ax\\core\\data.py:203: FutureWarning: Passing literal json to 'read_json' is deprecated and will be removed in a future version. To read from a literal string, wrap it in a 'StringIO' object.\n",
            "  args[\"df\"] = pd.read_json(args[\"df\"][\"value\"], dtype=False)\n",
            "c:\\Users\\lordm\\Desktop\\Projects\\code_mqs\\.venv\\lib\\site-packages\\ax\\core\\data.py:203: FutureWarning: Passing literal json to 'read_json' is deprecated and will be removed in a future version. To read from a literal string, wrap it in a 'StringIO' object.\n",
            "  args[\"df\"] = pd.read_json(args[\"df\"][\"value\"], dtype=False)\n",
            "c:\\Users\\lordm\\Desktop\\Projects\\code_mqs\\.venv\\lib\\site-packages\\ax\\core\\data.py:203: FutureWarning: Passing literal json to 'read_json' is deprecated and will be removed in a future version. To read from a literal string, wrap it in a 'StringIO' object.\n",
            "  args[\"df\"] = pd.read_json(args[\"df\"][\"value\"], dtype=False)\n",
            "c:\\Users\\lordm\\Desktop\\Projects\\code_mqs\\.venv\\lib\\site-packages\\ax\\core\\data.py:203: FutureWarning: Passing literal json to 'read_json' is deprecated and will be removed in a future version. To read from a literal string, wrap it in a 'StringIO' object.\n",
            "  args[\"df\"] = pd.read_json(args[\"df\"][\"value\"], dtype=False)\n",
            "c:\\Users\\lordm\\Desktop\\Projects\\code_mqs\\.venv\\lib\\site-packages\\ax\\core\\data.py:203: FutureWarning: Passing literal json to 'read_json' is deprecated and will be removed in a future version. To read from a literal string, wrap it in a 'StringIO' object.\n",
            "  args[\"df\"] = pd.read_json(args[\"df\"][\"value\"], dtype=False)\n",
            "c:\\Users\\lordm\\Desktop\\Projects\\code_mqs\\.venv\\lib\\site-packages\\ax\\core\\data.py:203: FutureWarning: Passing literal json to 'read_json' is deprecated and will be removed in a future version. To read from a literal string, wrap it in a 'StringIO' object.\n",
            "  args[\"df\"] = pd.read_json(args[\"df\"][\"value\"], dtype=False)\n",
            "c:\\Users\\lordm\\Desktop\\Projects\\code_mqs\\.venv\\lib\\site-packages\\ax\\core\\data.py:203: FutureWarning: Passing literal json to 'read_json' is deprecated and will be removed in a future version. To read from a literal string, wrap it in a 'StringIO' object.\n",
            "  args[\"df\"] = pd.read_json(args[\"df\"][\"value\"], dtype=False)\n",
            "c:\\Users\\lordm\\Desktop\\Projects\\code_mqs\\.venv\\lib\\site-packages\\ax\\core\\data.py:203: FutureWarning: Passing literal json to 'read_json' is deprecated and will be removed in a future version. To read from a literal string, wrap it in a 'StringIO' object.\n",
            "  args[\"df\"] = pd.read_json(args[\"df\"][\"value\"], dtype=False)\n",
            "c:\\Users\\lordm\\Desktop\\Projects\\code_mqs\\.venv\\lib\\site-packages\\ax\\core\\data.py:203: FutureWarning: Passing literal json to 'read_json' is deprecated and will be removed in a future version. To read from a literal string, wrap it in a 'StringIO' object.\n",
            "  args[\"df\"] = pd.read_json(args[\"df\"][\"value\"], dtype=False)\n",
            "c:\\Users\\lordm\\Desktop\\Projects\\code_mqs\\.venv\\lib\\site-packages\\ax\\core\\data.py:203: FutureWarning: Passing literal json to 'read_json' is deprecated and will be removed in a future version. To read from a literal string, wrap it in a 'StringIO' object.\n",
            "  args[\"df\"] = pd.read_json(args[\"df\"][\"value\"], dtype=False)\n",
            "c:\\Users\\lordm\\Desktop\\Projects\\code_mqs\\.venv\\lib\\site-packages\\ax\\core\\data.py:203: FutureWarning: Passing literal json to 'read_json' is deprecated and will be removed in a future version. To read from a literal string, wrap it in a 'StringIO' object.\n",
            "  args[\"df\"] = pd.read_json(args[\"df\"][\"value\"], dtype=False)\n",
            "c:\\Users\\lordm\\Desktop\\Projects\\code_mqs\\.venv\\lib\\site-packages\\ax\\core\\data.py:203: FutureWarning: Passing literal json to 'read_json' is deprecated and will be removed in a future version. To read from a literal string, wrap it in a 'StringIO' object.\n",
            "  args[\"df\"] = pd.read_json(args[\"df\"][\"value\"], dtype=False)\n",
            "c:\\Users\\lordm\\Desktop\\Projects\\code_mqs\\.venv\\lib\\site-packages\\ax\\core\\data.py:203: FutureWarning: Passing literal json to 'read_json' is deprecated and will be removed in a future version. To read from a literal string, wrap it in a 'StringIO' object.\n",
            "  args[\"df\"] = pd.read_json(args[\"df\"][\"value\"], dtype=False)\n",
            "c:\\Users\\lordm\\Desktop\\Projects\\code_mqs\\.venv\\lib\\site-packages\\ax\\core\\data.py:203: FutureWarning: Passing literal json to 'read_json' is deprecated and will be removed in a future version. To read from a literal string, wrap it in a 'StringIO' object.\n",
            "  args[\"df\"] = pd.read_json(args[\"df\"][\"value\"], dtype=False)\n",
            "c:\\Users\\lordm\\Desktop\\Projects\\code_mqs\\.venv\\lib\\site-packages\\ax\\core\\data.py:203: FutureWarning: Passing literal json to 'read_json' is deprecated and will be removed in a future version. To read from a literal string, wrap it in a 'StringIO' object.\n",
            "  args[\"df\"] = pd.read_json(args[\"df\"][\"value\"], dtype=False)\n",
            "[INFO 02-04 14:42:03] ax.service.ax_client: Starting optimization with verbose logging. To disable logging, set the `verbose_logging` argument to `False`. Note that float values in the logs are rounded to 6 decimal points.\n"
          ]
        }
      ],
      "source": [
        "# Restore the experiment state from disk.  \n",
        "ax_client = AxClient.load_from_json_file(\"ax_client_snapshot.json\") \n",
        "# For custom filepath, pass `filepath` argument.\n",
        "# For any loading issues: https://github.com/facebook/Ax/issues/1565"
      ]
    },
    {
      "cell_type": "markdown",
      "metadata": {},
      "source": [
        "### Confirm model instantiation and data so far"
      ]
    },
    {
      "cell_type": "code",
      "execution_count": 17,
      "metadata": {},
      "outputs": [
        {
          "name": "stderr",
          "output_type": "stream",
          "text": [
            "[INFO 02-04 14:42:06] ax.service.ax_client: get_model_predictions() has been called when no model is instantiated. Attempting to instantiate the model for the first time.\n"
          ]
        },
        {
          "name": "stdout",
          "output_type": "stream",
          "text": [
            "model: None\n"
          ]
        },
        {
          "name": "stderr",
          "output_type": "stream",
          "text": [
            "[INFO 02-04 14:42:07] ax.service.ax_client: Successfully instantiated a model for the first time.\n",
            "[INFO 02-04 14:42:07] ax.modelbridge.torch: The observations are identical to the last set of observations used to fit the model. Skipping model fitting.\n"
          ]
        }
      ],
      "source": [
        "print('model:', ax_client.generation_strategy.model)\n",
        "ax_client.fit_model()"
      ]
    },
    {
      "cell_type": "code",
      "execution_count": 18,
      "metadata": {},
      "outputs": [
        {
          "data": {
            "text/html": [
              "<div>\n",
              "<style scoped>\n",
              "    .dataframe tbody tr th:only-of-type {\n",
              "        vertical-align: middle;\n",
              "    }\n",
              "\n",
              "    .dataframe tbody tr th {\n",
              "        vertical-align: top;\n",
              "    }\n",
              "\n",
              "    .dataframe thead th {\n",
              "        text-align: right;\n",
              "    }\n",
              "</style>\n",
              "<table border=\"1\" class=\"dataframe\">\n",
              "  <thead>\n",
              "    <tr style=\"text-align: right;\">\n",
              "      <th></th>\n",
              "      <th>arm_name</th>\n",
              "      <th>metric_name</th>\n",
              "      <th>mean</th>\n",
              "      <th>sem</th>\n",
              "      <th>trial_index</th>\n",
              "    </tr>\n",
              "  </thead>\n",
              "  <tbody>\n",
              "    <tr>\n",
              "      <th>0</th>\n",
              "      <td>0_0</td>\n",
              "      <td>overpotential</td>\n",
              "      <td>-358.000000</td>\n",
              "      <td>NaN</td>\n",
              "      <td>0</td>\n",
              "    </tr>\n",
              "    <tr>\n",
              "      <th>1</th>\n",
              "      <td>0_0</td>\n",
              "      <td>overpotential_slope</td>\n",
              "      <td>0.000150</td>\n",
              "      <td>NaN</td>\n",
              "      <td>0</td>\n",
              "    </tr>\n",
              "    <tr>\n",
              "      <th>2</th>\n",
              "      <td>1_0</td>\n",
              "      <td>overpotential</td>\n",
              "      <td>-319.000000</td>\n",
              "      <td>NaN</td>\n",
              "      <td>1</td>\n",
              "    </tr>\n",
              "    <tr>\n",
              "      <th>3</th>\n",
              "      <td>1_0</td>\n",
              "      <td>overpotential_slope</td>\n",
              "      <td>0.000066</td>\n",
              "      <td>NaN</td>\n",
              "      <td>1</td>\n",
              "    </tr>\n",
              "    <tr>\n",
              "      <th>4</th>\n",
              "      <td>2_0</td>\n",
              "      <td>overpotential</td>\n",
              "      <td>-377.000000</td>\n",
              "      <td>NaN</td>\n",
              "      <td>2</td>\n",
              "    </tr>\n",
              "    <tr>\n",
              "      <th>5</th>\n",
              "      <td>2_0</td>\n",
              "      <td>overpotential_slope</td>\n",
              "      <td>0.000100</td>\n",
              "      <td>NaN</td>\n",
              "      <td>2</td>\n",
              "    </tr>\n",
              "    <tr>\n",
              "      <th>6</th>\n",
              "      <td>3_0</td>\n",
              "      <td>overpotential</td>\n",
              "      <td>-319.000000</td>\n",
              "      <td>NaN</td>\n",
              "      <td>3</td>\n",
              "    </tr>\n",
              "    <tr>\n",
              "      <th>7</th>\n",
              "      <td>3_0</td>\n",
              "      <td>overpotential_slope</td>\n",
              "      <td>-0.000518</td>\n",
              "      <td>NaN</td>\n",
              "      <td>3</td>\n",
              "    </tr>\n",
              "    <tr>\n",
              "      <th>8</th>\n",
              "      <td>4_0</td>\n",
              "      <td>overpotential</td>\n",
              "      <td>-286.000000</td>\n",
              "      <td>NaN</td>\n",
              "      <td>4</td>\n",
              "    </tr>\n",
              "    <tr>\n",
              "      <th>9</th>\n",
              "      <td>4_0</td>\n",
              "      <td>overpotential_slope</td>\n",
              "      <td>0.000080</td>\n",
              "      <td>NaN</td>\n",
              "      <td>4</td>\n",
              "    </tr>\n",
              "    <tr>\n",
              "      <th>10</th>\n",
              "      <td>5_0</td>\n",
              "      <td>overpotential</td>\n",
              "      <td>-312.000000</td>\n",
              "      <td>NaN</td>\n",
              "      <td>5</td>\n",
              "    </tr>\n",
              "    <tr>\n",
              "      <th>11</th>\n",
              "      <td>5_0</td>\n",
              "      <td>overpotential_slope</td>\n",
              "      <td>0.000029</td>\n",
              "      <td>NaN</td>\n",
              "      <td>5</td>\n",
              "    </tr>\n",
              "    <tr>\n",
              "      <th>12</th>\n",
              "      <td>6_0</td>\n",
              "      <td>overpotential</td>\n",
              "      <td>-309.000000</td>\n",
              "      <td>NaN</td>\n",
              "      <td>6</td>\n",
              "    </tr>\n",
              "    <tr>\n",
              "      <th>13</th>\n",
              "      <td>6_0</td>\n",
              "      <td>overpotential_slope</td>\n",
              "      <td>-0.000057</td>\n",
              "      <td>NaN</td>\n",
              "      <td>6</td>\n",
              "    </tr>\n",
              "    <tr>\n",
              "      <th>14</th>\n",
              "      <td>7_0</td>\n",
              "      <td>overpotential</td>\n",
              "      <td>-290.000000</td>\n",
              "      <td>NaN</td>\n",
              "      <td>7</td>\n",
              "    </tr>\n",
              "    <tr>\n",
              "      <th>15</th>\n",
              "      <td>7_0</td>\n",
              "      <td>overpotential_slope</td>\n",
              "      <td>0.001656</td>\n",
              "      <td>NaN</td>\n",
              "      <td>7</td>\n",
              "    </tr>\n",
              "    <tr>\n",
              "      <th>16</th>\n",
              "      <td>8_0</td>\n",
              "      <td>overpotential</td>\n",
              "      <td>-329.000000</td>\n",
              "      <td>NaN</td>\n",
              "      <td>8</td>\n",
              "    </tr>\n",
              "    <tr>\n",
              "      <th>17</th>\n",
              "      <td>8_0</td>\n",
              "      <td>overpotential_slope</td>\n",
              "      <td>0.000131</td>\n",
              "      <td>NaN</td>\n",
              "      <td>8</td>\n",
              "    </tr>\n",
              "    <tr>\n",
              "      <th>18</th>\n",
              "      <td>9_0</td>\n",
              "      <td>overpotential</td>\n",
              "      <td>-305.000000</td>\n",
              "      <td>NaN</td>\n",
              "      <td>9</td>\n",
              "    </tr>\n",
              "    <tr>\n",
              "      <th>19</th>\n",
              "      <td>9_0</td>\n",
              "      <td>overpotential_slope</td>\n",
              "      <td>-0.000064</td>\n",
              "      <td>NaN</td>\n",
              "      <td>9</td>\n",
              "    </tr>\n",
              "    <tr>\n",
              "      <th>20</th>\n",
              "      <td>10_0</td>\n",
              "      <td>overpotential</td>\n",
              "      <td>-260.000000</td>\n",
              "      <td>NaN</td>\n",
              "      <td>10</td>\n",
              "    </tr>\n",
              "    <tr>\n",
              "      <th>21</th>\n",
              "      <td>10_0</td>\n",
              "      <td>overpotential_slope</td>\n",
              "      <td>-0.002000</td>\n",
              "      <td>NaN</td>\n",
              "      <td>10</td>\n",
              "    </tr>\n",
              "    <tr>\n",
              "      <th>22</th>\n",
              "      <td>11_0</td>\n",
              "      <td>overpotential</td>\n",
              "      <td>-255.000000</td>\n",
              "      <td>NaN</td>\n",
              "      <td>11</td>\n",
              "    </tr>\n",
              "    <tr>\n",
              "      <th>23</th>\n",
              "      <td>11_0</td>\n",
              "      <td>overpotential_slope</td>\n",
              "      <td>-0.020000</td>\n",
              "      <td>NaN</td>\n",
              "      <td>11</td>\n",
              "    </tr>\n",
              "    <tr>\n",
              "      <th>24</th>\n",
              "      <td>12_0</td>\n",
              "      <td>overpotential</td>\n",
              "      <td>-245.000000</td>\n",
              "      <td>NaN</td>\n",
              "      <td>12</td>\n",
              "    </tr>\n",
              "    <tr>\n",
              "      <th>25</th>\n",
              "      <td>12_0</td>\n",
              "      <td>overpotential_slope</td>\n",
              "      <td>-0.000400</td>\n",
              "      <td>NaN</td>\n",
              "      <td>12</td>\n",
              "    </tr>\n",
              "    <tr>\n",
              "      <th>26</th>\n",
              "      <td>13_0</td>\n",
              "      <td>overpotential</td>\n",
              "      <td>-245.000000</td>\n",
              "      <td>NaN</td>\n",
              "      <td>13</td>\n",
              "    </tr>\n",
              "    <tr>\n",
              "      <th>27</th>\n",
              "      <td>13_0</td>\n",
              "      <td>overpotential_slope</td>\n",
              "      <td>-0.002000</td>\n",
              "      <td>NaN</td>\n",
              "      <td>13</td>\n",
              "    </tr>\n",
              "    <tr>\n",
              "      <th>28</th>\n",
              "      <td>14_0</td>\n",
              "      <td>overpotential</td>\n",
              "      <td>-259.000000</td>\n",
              "      <td>NaN</td>\n",
              "      <td>14</td>\n",
              "    </tr>\n",
              "    <tr>\n",
              "      <th>29</th>\n",
              "      <td>14_0</td>\n",
              "      <td>overpotential_slope</td>\n",
              "      <td>0.000040</td>\n",
              "      <td>NaN</td>\n",
              "      <td>14</td>\n",
              "    </tr>\n",
              "    <tr>\n",
              "      <th>30</th>\n",
              "      <td>15_0</td>\n",
              "      <td>overpotential</td>\n",
              "      <td>-269.000000</td>\n",
              "      <td>NaN</td>\n",
              "      <td>15</td>\n",
              "    </tr>\n",
              "    <tr>\n",
              "      <th>31</th>\n",
              "      <td>15_0</td>\n",
              "      <td>overpotential_slope</td>\n",
              "      <td>-0.003400</td>\n",
              "      <td>NaN</td>\n",
              "      <td>15</td>\n",
              "    </tr>\n",
              "  </tbody>\n",
              "</table>\n",
              "</div>"
            ],
            "text/plain": [
              "   arm_name          metric_name        mean  sem  trial_index\n",
              "0       0_0        overpotential -358.000000  NaN            0\n",
              "1       0_0  overpotential_slope    0.000150  NaN            0\n",
              "2       1_0        overpotential -319.000000  NaN            1\n",
              "3       1_0  overpotential_slope    0.000066  NaN            1\n",
              "4       2_0        overpotential -377.000000  NaN            2\n",
              "5       2_0  overpotential_slope    0.000100  NaN            2\n",
              "6       3_0        overpotential -319.000000  NaN            3\n",
              "7       3_0  overpotential_slope   -0.000518  NaN            3\n",
              "8       4_0        overpotential -286.000000  NaN            4\n",
              "9       4_0  overpotential_slope    0.000080  NaN            4\n",
              "10      5_0        overpotential -312.000000  NaN            5\n",
              "11      5_0  overpotential_slope    0.000029  NaN            5\n",
              "12      6_0        overpotential -309.000000  NaN            6\n",
              "13      6_0  overpotential_slope   -0.000057  NaN            6\n",
              "14      7_0        overpotential -290.000000  NaN            7\n",
              "15      7_0  overpotential_slope    0.001656  NaN            7\n",
              "16      8_0        overpotential -329.000000  NaN            8\n",
              "17      8_0  overpotential_slope    0.000131  NaN            8\n",
              "18      9_0        overpotential -305.000000  NaN            9\n",
              "19      9_0  overpotential_slope   -0.000064  NaN            9\n",
              "20     10_0        overpotential -260.000000  NaN           10\n",
              "21     10_0  overpotential_slope   -0.002000  NaN           10\n",
              "22     11_0        overpotential -255.000000  NaN           11\n",
              "23     11_0  overpotential_slope   -0.020000  NaN           11\n",
              "24     12_0        overpotential -245.000000  NaN           12\n",
              "25     12_0  overpotential_slope   -0.000400  NaN           12\n",
              "26     13_0        overpotential -245.000000  NaN           13\n",
              "27     13_0  overpotential_slope   -0.002000  NaN           13\n",
              "28     14_0        overpotential -259.000000  NaN           14\n",
              "29     14_0  overpotential_slope    0.000040  NaN           14\n",
              "30     15_0        overpotential -269.000000  NaN           15\n",
              "31     15_0  overpotential_slope   -0.003400  NaN           15"
            ]
          },
          "execution_count": 18,
          "metadata": {},
          "output_type": "execute_result"
        }
      ],
      "source": [
        "ax_client.experiment.fetch_data().df"
      ]
    },
    {
      "cell_type": "markdown",
      "metadata": {},
      "source": [
        "### Get Pareto optimal parameters"
      ]
    },
    {
      "cell_type": "code",
      "execution_count": null,
      "metadata": {
        "colab": {
          "base_uri": "https://localhost:8080/"
        },
        "id": "6Uh9FZFuq-mR",
        "outputId": "736d8511-54f5-469a-d112-57be5a6cc60a"
      },
      "outputs": [],
      "source": [
        "pareto_optimal_params = ax_client.get_pareto_optimal_parameters(use_model_predictions=True) \n",
        "# use_model_predictions=True by default, also try False?\n",
        "print(\"Pareto optimal parameters:\", pareto_optimal_params)"
      ]
    },
    {
      "cell_type": "markdown",
      "metadata": {},
      "source": [
        "### Plot (Posterior) Pareto front "
      ]
    },
    {
      "cell_type": "code",
      "execution_count": null,
      "metadata": {},
      "outputs": [],
      "source": [
        "# Plotting imports and initialization\n",
        "from ax.utils.notebook.plotting import render, init_notebook_plotting\n",
        "from ax.plot.pareto_utils import compute_posterior_pareto_frontier\n",
        "from ax.plot.pareto_frontier import plot_pareto_frontier"
      ]
    },
    {
      "cell_type": "code",
      "execution_count": null,
      "metadata": {},
      "outputs": [],
      "source": [
        "objectives = ax_client.experiment.optimization_config.objective.objectives\n",
        "frontier = compute_posterior_pareto_frontier(\n",
        "    experiment=ax_client.experiment,\n",
        "    data=ax_client.experiment.fetch_data(),\n",
        "    primary_objective=objectives[1].metric,\n",
        "    secondary_objective=objectives[0].metric,\n",
        "    absolute_metrics=[\"overpotential\", \"overpotential_slope\"],\n",
        "    num_points=16\n",
        ")\n",
        "render(plot_pareto_frontier(frontier, CI_level=0.90))"
      ]
    },
    {
      "cell_type": "markdown",
      "metadata": {},
      "source": [
        "## Hypervolume: Evaluating the Quality of a Pareto Front"
      ]
    },
    {
      "cell_type": "markdown",
      "metadata": {},
      "source": [
        "#### Hypervolume for specific trial"
      ]
    },
    {
      "cell_type": "code",
      "execution_count": null,
      "metadata": {},
      "outputs": [],
      "source": [
        "# Do this for every trial - by default calculates hypervolume UP TO and INCLUDING the current trial\n",
        "# Observe difference betweeen use_model_predictions=True/False\n",
        "\n",
        "trial_indices = [15]\n",
        "model_true = ax_client.get_hypervolume(trial_indices = trial_indices, use_model_predictions=True)\n",
        "model_false = ax_client.get_hypervolume(trial_indices = trial_indices, use_model_predictions=False)\n",
        "\n",
        "print(f'Hypervolume With Model Predictions: {model_true}, Without: {model_false}, For trial: {trial_indices}')"
      ]
    },
    {
      "cell_type": "code",
      "execution_count": null,
      "metadata": {},
      "outputs": [],
      "source": [
        "# OR use this to get the optimization trace of the ENTIRE experiment i.e. all trials:\n",
        "# Equivalent to calling _get_hypervolume repeatedly, with an increasing sequence of trial_indices \n",
        "# and with use_model_predictions = FALSE, though this does it more efficiently.\n",
        "hypervolume_trace = ax_client.get_trace()\n",
        "print(hypervolume_trace)"
      ]
    },
    {
      "cell_type": "markdown",
      "metadata": {},
      "source": [
        "#### Hypervolume over iterations = Optimization trace for multi-objective "
      ]
    },
    {
      "cell_type": "code",
      "execution_count": null,
      "metadata": {},
      "outputs": [],
      "source": [
        "# Plot the hypervolume trace\n",
        "plt.plot(range(1, len(hypervolume_trace) + 1), hypervolume_trace, label='Hypervolume', marker='o', linestyle='-', color='b')\n",
        "plt.xlabel('Iteration')\n",
        "plt.ylabel('Hypervolume')\n",
        "plt.title('Hypervolume over Iterations')\n",
        "plt.grid(True)\n",
        "plt.legend()\n",
        "plt.show()"
      ]
    },
    {
      "cell_type": "markdown",
      "metadata": {},
      "source": [
        "## Visualizations"
      ]
    },
    {
      "cell_type": "code",
      "execution_count": null,
      "metadata": {},
      "outputs": [],
      "source": [
        "from ax.modelbridge.cross_validation import cross_validate\n",
        "from ax.plot.diagnostic import interact_cross_validation\n",
        "from ax.plot.contour import interact_contour\n",
        "from ax.plot.scatter import (\n",
        "    interact_fitted,\n",
        "    plot_objective_vs_constraints,\n",
        "    tile_fitted,\n",
        ")\n",
        "from ax.plot.slice import plot_slice"
      ]
    },
    {
      "cell_type": "markdown",
      "metadata": {},
      "source": [
        "### Cross validation"
      ]
    },
    {
      "cell_type": "code",
      "execution_count": null,
      "metadata": {},
      "outputs": [],
      "source": [
        "model = ax_client.generation_strategy.model\n",
        "cv_results = cross_validate(model, folds= -1) # default folds\n",
        "render(interact_cross_validation(cv_results))"
      ]
    },
    {
      "cell_type": "markdown",
      "metadata": {},
      "source": [
        "#### Contour plot"
      ]
    },
    {
      "cell_type": "code",
      "execution_count": null,
      "metadata": {},
      "outputs": [],
      "source": [
        "# Interactive contour plots, able to switch between different parameter-objective combinations.\n",
        "render(interact_contour(model, metric_name=\"overpotential\"))"
      ]
    },
    {
      "cell_type": "markdown",
      "metadata": {},
      "source": [
        "#### Tradeoff plot "
      ]
    },
    {
      "cell_type": "code",
      "execution_count": null,
      "metadata": {},
      "outputs": [],
      "source": [
        "render(plot_objective_vs_constraints(model, \"overpotential\", rel=False)) # rel = False"
      ]
    },
    {
      "cell_type": "markdown",
      "metadata": {},
      "source": [
        "#### Slice plot"
      ]
    },
    {
      "cell_type": "code",
      "execution_count": null,
      "metadata": {},
      "outputs": [],
      "source": [
        "# Slice plot, can be done for all different parameter-objective combinations.\n",
        "render(plot_slice(model, \"pH\", \"overpotential\"))"
      ]
    },
    {
      "cell_type": "markdown",
      "metadata": {},
      "source": [
        "## More visualizations"
      ]
    },
    {
      "cell_type": "markdown",
      "metadata": {},
      "source": [
        "Data conversion from the Ax dataframe to a list, for visualization purposes."
      ]
    },
    {
      "cell_type": "code",
      "execution_count": 40,
      "metadata": {},
      "outputs": [
        {
          "name": "stdout",
          "output_type": "stream",
          "text": [
            "[[-358.0, 0.00015000000000000001], [-319.0, 6.599999999999999e-05], [-377.0, 0.0001], [-319.0, -0.000518], [-286.0, 8e-05], [-312.0, 2.9e-05], [-309.0, -5.6999999999999996e-05], [-290.0, 0.001656], [-329.0, 0.00013099999999999999], [-305.0, -6.4e-05], [-260.0, -0.002], [-255.0, -0.02], [-245.0, -0.0004], [-245.0, -0.002], [-259.0, 4e-05], [-269.0, -0.0034000000000000002]]\n"
          ]
        }
      ],
      "source": [
        "# Get dataframe and drop the 'sem' column\n",
        "data_df = ax_client.experiment.fetch_data().df\n",
        "data_df = data_df.drop(columns=['sem'])\n",
        "\n",
        "# Convert the DataFrame to a list of lists\n",
        "data_list = []\n",
        "\n",
        "for trial in data_df['trial_index'].unique():\n",
        "    trial_data = data_df[data_df['trial_index'] == trial]\n",
        "    \n",
        "    # Extract data for 'overpotential' and 'overpotential_slope'\n",
        "    overpotential_data = trial_data.loc[trial_data['metric_name'] == 'overpotential', 'mean'].tolist()[0]\n",
        "    slope_data = trial_data.loc[trial_data['metric_name'] == 'overpotential_slope', 'mean'].tolist()[0]\n",
        "    \n",
        "    # Combine the data into a list of tuples\n",
        "    trial_data_list = [overpotential_data, slope_data]\n",
        "    \n",
        "    # Extend the main list\n",
        "    data_list.append(trial_data_list)\n",
        "\n",
        "# Now data_list has the format you want\n",
        "print(data_list)"
      ]
    },
    {
      "cell_type": "markdown",
      "metadata": {},
      "source": [
        "### Plot by batch or by trial"
      ]
    },
    {
      "cell_type": "code",
      "execution_count": 42,
      "metadata": {},
      "outputs": [
        {
          "data": {
            "image/png": "[encoded data removed]",
            "text/plain": [
              "<Figure size 1000x600 with 1 Axes>"
            ]
          },
          "metadata": {},
          "output_type": "display_data"
        }
      ],
      "source": [
        "from src.ax_code.visualizations import plot_pareto\n",
        "\n",
        "# Need to be manually organized by batch, see visualizations.py \n",
        "# (needed for the 'by batch' plot, doesn't matter for the rest)\n",
        "\n",
        "# Choose the visualization type ('batch' or 'trial')\n",
        "visualization_type = 'batch' \n",
        "\n",
        "# Call the function to plot the Pareto front\n",
        "plot_pareto(data_list, visualization_type)"
      ]
    },
    {
      "cell_type": "markdown",
      "metadata": {},
      "source": [
        "### Plot by tracking one of the two objectives over the trials"
      ]
    },
    {
      "cell_type": "code",
      "execution_count": 43,
      "metadata": {},
      "outputs": [
        {
          "data": {
            "image/png": "[encoded data removed]",
            "text/plain": [
              "<Figure size 1000x600 with 2 Axes>"
            ]
          },
          "metadata": {},
          "output_type": "display_data"
        }
      ],
      "source": [
        "from src.ax_code.visualizations import plot_pareto_objective\n",
        "\n",
        "# Choose the visualization type ('value' or 'slope')\n",
        "visualization_type = 'slope' \n",
        "\n",
        "# Call the function to plot the Pareto front based on tracking the chosen objective\n",
        "plot_pareto_objective(data_list, visualization_type)"
      ]
    }
  ],
  "metadata": {
    "colab": {
      "provenance": []
    },
    "kernelspec": {
      "display_name": "Python 3.9.13 ('sdl-demo')",
      "language": "python",
      "name": "python3"
    },
    "language_info": {
      "codemirror_mode": {
        "name": "ipython",
        "version": 3
      },
      "file_extension": ".py",
      "mimetype": "text/x-python",
      "name": "python",
      "nbconvert_exporter": "python",
      "pygments_lexer": "ipython3",
      "version": "3.10.11"
    },
    "vscode": {
      "interpreter": {
        "hash": "70cb6d4911b67e25d1487ebd620c5d1370239efaaf47f3851af44f5c5a26f988"
      }
    }
  },
  "nbformat": 4,
  "nbformat_minor": 0
}
