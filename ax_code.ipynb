{
  "cells": [
    {
      "cell_type": "markdown",
      "metadata": {},
      "source": [
        "### **To-Do List:**\n",
        "\n",
        "1. Look into which other parts of the code I can turn into functions/modules. \n",
        "   \n",
        "2. Find where I can meaningfully test with pytest (see [here](https://realpython.com/python-testing/) and [here](https://coderefinery.github.io/testing/)).\n",
        "   \n",
        " --> **Read articles, how much of this should I immediately go into? Installed pytest, confirmed it works with:\n",
        " \"pytest -v tests/test.py\", looking for practical things to test.**\n",
        "\n",
        "3. Make package pip-installable, as per the instructions [here](https://aaltoscicomp.github.io/python-for-scicomp/packaging/). \n",
        "  \n",
        "  --> **Added pyproject.toml, made it Git-ignorable, haven't tested local pip install yet.**\n",
        "\n",
        "4. More detailed README and module documentation, based on recommendations [here](https://coderefinery.github.io/documentation/). **Can GitHub Copilot help?**\n",
        "\n",
        "5. Add LICENSE file (https://github.com/coderefinery/social-coding/blob/main/licensing-and-cakes.md).\n",
        "\n",
        "**Warnings:**\n",
        "\n",
        "- FutureWarning: The behavior of DataFrame concatenation with empty or all-NA entries is deprecated. In a future version, this will no longer exclude empty or all-NA columns when determining the result dtypes. To retain the old behavior, exclude the relevant entries before the concat operation.\n",
        "  return cls(df=pd.concat(dfs, axis=0, sort=True))\n",
        "\n",
        "--> **Seems like different types are being concatenated and this warning is triggered, but it's fine for now. Track future Pandas developments. It's also possible the NaN values are because I am not specifying any noise level (NaN column).**\n",
        "\n",
        "- c:\\Users\\lordm\\Desktop\\Projects\\code_mqs\\.venv\\lib\\site-packages\\ax\\core\\data.py\n",
        "  \n",
        "FutureWarning: Passing literal json to 'read_json' is deprecated and will be removed in a future version. To read from a literal string, wrap it in a 'StringIO' object. args[\"df\"] = pd.read_json(args[\"df\"][\"value\"], dtype=False)\n",
        "\n",
        "--> In data.py, I replaced this:\n",
        "\n",
        "        if \"df\" in args and not isinstance(args[\"df\"], pd.DataFrame):\n",
        "            # NOTE: Need dtype=False, otherwise infers arm_names like\n",
        "            # \"4_1\" should be int 41.\n",
        "            args[\"df\"] = pd.read_json(args[\"df\"][\"value\"], dtype=False)\n",
        "\n",
        "with this:\n",
        "\n",
        "        import io\n",
        "        if \"df\" in args and not isinstance(args[\"df\"], pd.DataFrame):\n",
        "            # Wrap the JSON string in a StringIO object and use pd.io.json.read_json\n",
        "            args[\"df\"] = pd.io.json.read_json(io.StringIO(args[\"df\"][\"value\"]), dtype=False)\n",
        "        return extract_init_args(args=args, class_=cls)\n",
        "\n",
        "--> **Fixed.**"
      ]
    },
    {
      "cell_type": "markdown",
      "metadata": {},
      "source": [
        "### Imports"
      ]
    },
    {
      "cell_type": "code",
      "execution_count": 1,
      "metadata": {
        "colab": {
          "base_uri": "https://localhost:8080/",
          "height": 269
        },
        "id": "frb6kTSIpZug",
        "outputId": "c80669f5-08d4-4e65-89ad-6aa5f8bf5f0c"
      },
      "outputs": [],
      "source": [
        "import numpy as np\n",
        "import pandas as pd\n",
        "import matplotlib.pyplot as plt\n",
        "\n",
        "from ax.service.ax_client import AxClient\n",
        "from ax.service.utils.instantiation import ObjectiveProperties\n",
        "from ax.modelbridge.generation_strategy import GenerationStrategy, GenerationStep\n",
        "from ax.modelbridge.registry import Models"
      ]
    },
    {
      "cell_type": "markdown",
      "metadata": {},
      "source": [
        "### Training Data and Parameters"
      ]
    },
    {
      "cell_type": "code",
      "execution_count": 2,
      "metadata": {},
      "outputs": [
        {
          "data": {
            "text/html": [
              "<div>\n",
              "<style scoped>\n",
              "    .dataframe tbody tr th:only-of-type {\n",
              "        vertical-align: middle;\n",
              "    }\n",
              "\n",
              "    .dataframe tbody tr th {\n",
              "        vertical-align: top;\n",
              "    }\n",
              "\n",
              "    .dataframe thead th {\n",
              "        text-align: right;\n",
              "    }\n",
              "</style>\n",
              "<table border=\"1\" class=\"dataframe\">\n",
              "  <thead>\n",
              "    <tr style=\"text-align: right;\">\n",
              "      <th></th>\n",
              "      <th>tungstate_concentration</th>\n",
              "      <th>current_density</th>\n",
              "      <th>deposition_time</th>\n",
              "      <th>pH</th>\n",
              "    </tr>\n",
              "  </thead>\n",
              "  <tbody>\n",
              "    <tr>\n",
              "      <th>0</th>\n",
              "      <td>0.05</td>\n",
              "      <td>10.0</td>\n",
              "      <td>500.0</td>\n",
              "      <td>5.0</td>\n",
              "    </tr>\n",
              "    <tr>\n",
              "      <th>1</th>\n",
              "      <td>0.05</td>\n",
              "      <td>50.0</td>\n",
              "      <td>300.0</td>\n",
              "      <td>6.0</td>\n",
              "    </tr>\n",
              "    <tr>\n",
              "      <th>2</th>\n",
              "      <td>0.10</td>\n",
              "      <td>10.0</td>\n",
              "      <td>300.0</td>\n",
              "      <td>7.0</td>\n",
              "    </tr>\n",
              "    <tr>\n",
              "      <th>3</th>\n",
              "      <td>0.10</td>\n",
              "      <td>10.0</td>\n",
              "      <td>600.0</td>\n",
              "      <td>8.0</td>\n",
              "    </tr>\n",
              "    <tr>\n",
              "      <th>4</th>\n",
              "      <td>0.10</td>\n",
              "      <td>50.0</td>\n",
              "      <td>600.0</td>\n",
              "      <td>7.5</td>\n",
              "    </tr>\n",
              "    <tr>\n",
              "      <th>5</th>\n",
              "      <td>0.10</td>\n",
              "      <td>100.0</td>\n",
              "      <td>600.0</td>\n",
              "      <td>10.0</td>\n",
              "    </tr>\n",
              "    <tr>\n",
              "      <th>6</th>\n",
              "      <td>0.10</td>\n",
              "      <td>50.0</td>\n",
              "      <td>400.0</td>\n",
              "      <td>6.5</td>\n",
              "    </tr>\n",
              "    <tr>\n",
              "      <th>7</th>\n",
              "      <td>0.10</td>\n",
              "      <td>30.0</td>\n",
              "      <td>600.0</td>\n",
              "      <td>8.5</td>\n",
              "    </tr>\n",
              "    <tr>\n",
              "      <th>8</th>\n",
              "      <td>0.15</td>\n",
              "      <td>10.0</td>\n",
              "      <td>600.0</td>\n",
              "      <td>9.5</td>\n",
              "    </tr>\n",
              "    <tr>\n",
              "      <th>9</th>\n",
              "      <td>0.15</td>\n",
              "      <td>50.0</td>\n",
              "      <td>300.0</td>\n",
              "      <td>9.5</td>\n",
              "    </tr>\n",
              "  </tbody>\n",
              "</table>\n",
              "</div>"
            ],
            "text/plain": [
              "   tungstate_concentration  current_density  deposition_time    pH\n",
              "0                     0.05             10.0            500.0   5.0\n",
              "1                     0.05             50.0            300.0   6.0\n",
              "2                     0.10             10.0            300.0   7.0\n",
              "3                     0.10             10.0            600.0   8.0\n",
              "4                     0.10             50.0            600.0   7.5\n",
              "5                     0.10            100.0            600.0  10.0\n",
              "6                     0.10             50.0            400.0   6.5\n",
              "7                     0.10             30.0            600.0   8.5\n",
              "8                     0.15             10.0            600.0   9.5\n",
              "9                     0.15             50.0            300.0   9.5"
            ]
          },
          "execution_count": 2,
          "metadata": {},
          "output_type": "execute_result"
        }
      ],
      "source": [
        "unique_parameters = [\"tungstate_concentration\", \"current_density\", \"deposition_time\", \"pH\"] \n",
        "# temperature avoided, kept constant at 25 C\n",
        "\n",
        "# EXAMPLE, here use actual data\n",
        "X_train = np.array([[0.05, 10, 500, 5],\n",
        "               [0.05, 50, 300, 6],\n",
        "               [0.1, 10, 300, 7],\n",
        "               [0.1, 10, 600, 8],\n",
        "               \n",
        "               [0.1, 50, 600, 7.5],\n",
        "               [0.1, 100, 600, 10],\n",
        "               [0.1, 50, 400, 6.5],\n",
        "               [0.1, 30, 600, 8.5],\n",
        "               [0.15, 10, 600, 9.5],\n",
        "               [0.15, 50, 300, 9.5],\n",
        "               \n",
        "               # NEW OPTIMIZATION DATA    \n",
        "               ])\n",
        "\n",
        "# Convert to dataframe\n",
        "X_train = pd.DataFrame(X_train, columns=unique_parameters)\n",
        "X_train"
      ]
    },
    {
      "cell_type": "code",
      "execution_count": 3,
      "metadata": {
        "colab": {
          "base_uri": "https://localhost:8080/"
        },
        "id": "9T4ugJ-Jqr3m",
        "outputId": "60993244-cb60-4c43-facd-b096918e9e71"
      },
      "outputs": [
        {
          "data": {
            "text/html": [
              "<div>\n",
              "<style scoped>\n",
              "    .dataframe tbody tr th:only-of-type {\n",
              "        vertical-align: middle;\n",
              "    }\n",
              "\n",
              "    .dataframe tbody tr th {\n",
              "        vertical-align: top;\n",
              "    }\n",
              "\n",
              "    .dataframe thead th {\n",
              "        text-align: right;\n",
              "    }\n",
              "</style>\n",
              "<table border=\"1\" class=\"dataframe\">\n",
              "  <thead>\n",
              "    <tr style=\"text-align: right;\">\n",
              "      <th></th>\n",
              "      <th>overpotential</th>\n",
              "      <th>overpotential_slope</th>\n",
              "    </tr>\n",
              "  </thead>\n",
              "  <tbody>\n",
              "    <tr>\n",
              "      <th>0</th>\n",
              "      <td>-358.0</td>\n",
              "      <td>0.000150</td>\n",
              "    </tr>\n",
              "    <tr>\n",
              "      <th>1</th>\n",
              "      <td>-319.0</td>\n",
              "      <td>0.000066</td>\n",
              "    </tr>\n",
              "    <tr>\n",
              "      <th>2</th>\n",
              "      <td>-377.0</td>\n",
              "      <td>0.000100</td>\n",
              "    </tr>\n",
              "    <tr>\n",
              "      <th>3</th>\n",
              "      <td>-319.0</td>\n",
              "      <td>-0.000518</td>\n",
              "    </tr>\n",
              "    <tr>\n",
              "      <th>4</th>\n",
              "      <td>-286.0</td>\n",
              "      <td>0.000080</td>\n",
              "    </tr>\n",
              "    <tr>\n",
              "      <th>5</th>\n",
              "      <td>-312.0</td>\n",
              "      <td>0.000029</td>\n",
              "    </tr>\n",
              "    <tr>\n",
              "      <th>6</th>\n",
              "      <td>-309.0</td>\n",
              "      <td>-0.000057</td>\n",
              "    </tr>\n",
              "    <tr>\n",
              "      <th>7</th>\n",
              "      <td>-290.0</td>\n",
              "      <td>0.001656</td>\n",
              "    </tr>\n",
              "    <tr>\n",
              "      <th>8</th>\n",
              "      <td>-329.0</td>\n",
              "      <td>0.000131</td>\n",
              "    </tr>\n",
              "    <tr>\n",
              "      <th>9</th>\n",
              "      <td>-305.0</td>\n",
              "      <td>-0.000064</td>\n",
              "    </tr>\n",
              "  </tbody>\n",
              "</table>\n",
              "</div>"
            ],
            "text/plain": [
              "   overpotential  overpotential_slope\n",
              "0         -358.0             0.000150\n",
              "1         -319.0             0.000066\n",
              "2         -377.0             0.000100\n",
              "3         -319.0            -0.000518\n",
              "4         -286.0             0.000080\n",
              "5         -312.0             0.000029\n",
              "6         -309.0            -0.000057\n",
              "7         -290.0             0.001656\n",
              "8         -329.0             0.000131\n",
              "9         -305.0            -0.000064"
            ]
          },
          "execution_count": 3,
          "metadata": {},
          "output_type": "execute_result"
        }
      ],
      "source": [
        "# Number of data points\n",
        "n_train = X_train.shape[0]\n",
        "\n",
        "unique_objectives = [\"overpotential\", \"overpotential_slope\"]\n",
        "\n",
        "# EXAMPLE, here use actual observations\n",
        "y_train = np.array([[-358,0.00015], \n",
        "                    [-319,0.000066], \n",
        "                    [-377,0.0001], \n",
        "                    [-319,-0.000518],\n",
        "                    [-286,0.00008], \n",
        "                    [-312,0.000029], \n",
        "                    [-309,-0.000057], \n",
        "                    [-290,0.001656],\n",
        "                    [-329,0.000131], \n",
        "                    [-305,-0.000064],\n",
        "\n",
        "                    # NEW OPTIMIZATION DATA                    \n",
        "                    ])\n",
        "\n",
        "# Convert to dataframe\n",
        "y_train = pd.DataFrame(y_train, columns=unique_objectives)\n",
        "y_train"
      ]
    },
    {
      "cell_type": "code",
      "execution_count": 4,
      "metadata": {},
      "outputs": [],
      "source": [
        "parameters = [\n",
        "    {\n",
        "        \"name\": \"tungstate_concentration\",\n",
        "        \"type\": \"range\",\n",
        "        \"bounds\": [0.05, 0.2],\n",
        "        \"value_type\": \"float\"  \n",
        "    },\n",
        "    {\n",
        "        \"name\": \"current_density\",\n",
        "        \"type\": \"range\",\n",
        "        \"bounds\": [5, 125],\n",
        "        \"value_type\": \"int\"  \n",
        "    },\n",
        "    {\n",
        "        \"name\": \"deposition_time\",\n",
        "        \"type\": \"range\",\n",
        "        \"bounds\": [60, 600],\n",
        "        \"value_type\": \"int\"  \n",
        "    },\n",
        "    {\n",
        "        \"name\": \"pH\",\n",
        "        \"type\": \"range\",\n",
        "        \"bounds\": [5, 10],\n",
        "        \"value_type\": \"int\"  \n",
        "    }\n",
        "]"
      ]
    },
    {
      "cell_type": "markdown",
      "metadata": {},
      "source": [
        "### Generation Strategy "
      ]
    },
    {
      "cell_type": "code",
      "execution_count": 5,
      "metadata": {
        "colab": {
          "base_uri": "https://localhost:8080/"
        },
        "id": "npCeW3_9pjyG",
        "outputId": "541a9786-46ec-4bc8-d125-6709f14e237c"
      },
      "outputs": [],
      "source": [
        "# Specify a custom generation strategy - Skips the pseudo-random initial suggested points \n",
        "gs = GenerationStrategy(\n",
        "    steps=[\n",
        "        GenerationStep(\n",
        "            model = Models.MOO, \n",
        "            # Uses qNEHVI by default, instead of GPEI (for single) and PAREGO (for multi but worse than qNEHVI)\n",
        "            # Not passing any information about the observation noise; so the model is inferring a Gaussian noise level on the observations - SingleTaskGP\n",
        "            num_trials=-1,  # No limitation on how many trials should be produced from this step\n",
        "            max_parallelism=3  # BATCH/Parallelism limit for this step, often lower than for Sobol\n",
        "                    )\n",
        "            ]\n",
        ")"
      ]
    },
    {
      "cell_type": "markdown",
      "metadata": {},
      "source": [
        "### Setup the experiment"
      ]
    },
    {
      "cell_type": "code",
      "execution_count": 6,
      "metadata": {},
      "outputs": [
        {
          "name": "stderr",
          "output_type": "stream",
          "text": [
            "[INFO 02-09 22:34:53] ax.service.ax_client: Starting optimization with verbose logging. To disable logging, set the `verbose_logging` argument to `False`. Note that float values in the logs are rounded to 6 decimal points.\n",
            "[INFO 02-09 22:34:53] ax.service.utils.instantiation: Created search space: SearchSpace(parameters=[RangeParameter(name='tungstate_concentration', parameter_type=FLOAT, range=[0.05, 0.2]), RangeParameter(name='current_density', parameter_type=INT, range=[5, 125]), RangeParameter(name='deposition_time', parameter_type=INT, range=[60, 600]), RangeParameter(name='pH', parameter_type=INT, range=[5, 10])], parameter_constraints=[]).\n"
          ]
        }
      ],
      "source": [
        "ax_client = AxClient(generation_strategy=gs)\n",
        "ax_client.create_experiment(\n",
        "    name=\"NiW\",\n",
        "    parameters=parameters,\n",
        "    objectives={\n",
        "        \"overpotential\": ObjectiveProperties(minimize=False, threshold = -350), # How ambitious + what is max (min) allowable value?\n",
        "        \"overpotential_slope\": ObjectiveProperties(minimize=False, threshold = -0.001) # Not clear, looking for >=0 if possible\n",
        "    },\n",
        "    overwrite_existing_experiment=False, # To make sure my progress is being saved\n",
        "    is_test = False, # Set this to False when running a REAL experiment\n",
        "    choose_generation_strategy_kwargs = {\"max_parallelism_override\": 3} # Parallel/Batch evaluation, max batch size = 3\n",
        ")"
      ]
    },
    {
      "cell_type": "markdown",
      "metadata": {},
      "source": [
        "### Input training data & Instantiate model (run this only the FIRST time)"
      ]
    },
    {
      "cell_type": "code",
      "execution_count": 7,
      "metadata": {},
      "outputs": [
        {
          "name": "stderr",
          "output_type": "stream",
          "text": [
            "[INFO 02-09 22:34:55] ax.core.experiment: Attached custom parameterizations [{'tungstate_concentration': 0.05, 'current_density': 10, 'deposition_time': 500, 'pH': 5}] as trial 0.\n",
            "[INFO 02-09 22:34:55] ax.service.ax_client: Completed trial 0 with data: {'overpotential': (-358.0, None), 'overpotential_slope': (0.00015, None)}.\n",
            "[INFO 02-09 22:34:55] ax.core.experiment: Attached custom parameterizations [{'tungstate_concentration': 0.05, 'current_density': 50, 'deposition_time': 300, 'pH': 6}] as trial 1.\n",
            "[INFO 02-09 22:34:55] ax.service.ax_client: Completed trial 1 with data: {'overpotential': (-319.0, None), 'overpotential_slope': (6.6e-05, None)}.\n",
            "[INFO 02-09 22:34:55] ax.core.experiment: Attached custom parameterizations [{'tungstate_concentration': 0.1, 'current_density': 10, 'deposition_time': 300, 'pH': 7}] as trial 2.\n",
            "[INFO 02-09 22:34:55] ax.service.ax_client: Completed trial 2 with data: {'overpotential': (-377.0, None), 'overpotential_slope': (0.0001, None)}.\n",
            "[INFO 02-09 22:34:55] ax.core.experiment: Attached custom parameterizations [{'tungstate_concentration': 0.1, 'current_density': 10, 'deposition_time': 600, 'pH': 8}] as trial 3.\n",
            "[INFO 02-09 22:34:55] ax.service.ax_client: Completed trial 3 with data: {'overpotential': (-319.0, None), 'overpotential_slope': (-0.000518, None)}.\n",
            "[INFO 02-09 22:34:55] ax.core.experiment: Attached custom parameterizations [{'tungstate_concentration': 0.1, 'current_density': 50, 'deposition_time': 600, 'pH': 7}] as trial 4.\n",
            "[INFO 02-09 22:34:55] ax.service.ax_client: Completed trial 4 with data: {'overpotential': (-286.0, None), 'overpotential_slope': (8e-05, None)}.\n",
            "[INFO 02-09 22:34:55] ax.core.experiment: Attached custom parameterizations [{'tungstate_concentration': 0.1, 'current_density': 100, 'deposition_time': 600, 'pH': 10}] as trial 5.\n",
            "[INFO 02-09 22:34:55] ax.service.ax_client: Completed trial 5 with data: {'overpotential': (-312.0, None), 'overpotential_slope': (2.9e-05, None)}.\n",
            "[INFO 02-09 22:34:55] ax.core.experiment: Attached custom parameterizations [{'tungstate_concentration': 0.1, 'current_density': 50, 'deposition_time': 400, 'pH': 6}] as trial 6.\n",
            "[INFO 02-09 22:34:55] ax.service.ax_client: Completed trial 6 with data: {'overpotential': (-309.0, None), 'overpotential_slope': (-5.7e-05, None)}.\n",
            "[INFO 02-09 22:34:55] ax.core.experiment: Attached custom parameterizations [{'tungstate_concentration': 0.1, 'current_density': 30, 'deposition_time': 600, 'pH': 8}] as trial 7.\n",
            "[INFO 02-09 22:34:55] ax.service.ax_client: Completed trial 7 with data: {'overpotential': (-290.0, None), 'overpotential_slope': (0.001656, None)}.\n",
            "[INFO 02-09 22:34:55] ax.core.experiment: Attached custom parameterizations [{'tungstate_concentration': 0.15, 'current_density': 10, 'deposition_time': 600, 'pH': 9}] as trial 8.\n",
            "[INFO 02-09 22:34:55] ax.service.ax_client: Completed trial 8 with data: {'overpotential': (-329.0, None), 'overpotential_slope': (0.000131, None)}.\n",
            "[INFO 02-09 22:34:55] ax.core.experiment: Attached custom parameterizations [{'tungstate_concentration': 0.15, 'current_density': 50, 'deposition_time': 300, 'pH': 9}] as trial 9.\n",
            "[INFO 02-09 22:34:55] ax.service.ax_client: Completed trial 9 with data: {'overpotential': (-305.0, None), 'overpotential_slope': (-6.4e-05, None)}.\n"
          ]
        }
      ],
      "source": [
        "from src.ax_code.attach_training_data import attach_training_data\n",
        "attach_training_data(ax_client, X_train, y_train, unique_objectives)"
      ]
    },
    {
      "cell_type": "code",
      "execution_count": 8,
      "metadata": {},
      "outputs": [
        {
          "name": "stderr",
          "output_type": "stream",
          "text": [
            "[INFO 02-09 22:34:56] ax.service.ax_client: get_model_predictions() has been called when no model is instantiated. Attempting to instantiate the model for the first time.\n",
            "[INFO 02-09 22:34:56] ax.service.ax_client: Successfully instantiated a model for the first time.\n",
            "[INFO 02-09 22:34:56] ax.modelbridge.torch: The observations are identical to the last set of observations used to fit the model. Skipping model fitting.\n"
          ]
        },
        {
          "name": "stdout",
          "output_type": "stream",
          "text": [
            "model: <ax.modelbridge.torch.TorchModelBridge object at 0x0000029ADEA6EE30>\n"
          ]
        }
      ],
      "source": [
        "# Instantiate the first model\n",
        "ax_client.fit_model()\n",
        "print('model:', ax_client.generation_strategy.model)"
      ]
    },
    {
      "cell_type": "markdown",
      "metadata": {},
      "source": [
        "### Run optimization and get next suggestions "
      ]
    },
    {
      "cell_type": "code",
      "execution_count": 9,
      "metadata": {},
      "outputs": [
        {
          "name": "stderr",
          "output_type": "stream",
          "text": [
            "[INFO 02-09 22:34:58] ax.modelbridge.torch: The observations are identical to the last set of observations used to fit the model. Skipping model fitting.\n",
            "[INFO 02-09 22:35:01] ax.service.ax_client: Generated new trial 10 with parameters {'tungstate_concentration': 0.098546, 'current_density': 48, 'deposition_time': 600, 'pH': 9}.\n",
            "c:\\Users\\lordm\\Desktop\\Projects\\code_mqs\\.venv\\lib\\site-packages\\ax\\core\\data.py:302: FutureWarning: The behavior of DataFrame concatenation with empty or all-NA entries is deprecated. In a future version, this will no longer exclude empty or all-NA columns when determining the result dtypes. To retain the old behavior, exclude the relevant entries before the concat operation.\n",
            "  return cls(df=pd.concat(dfs, axis=0, sort=True))\n",
            "[INFO 02-09 22:35:01] ax.modelbridge.torch: The observations are identical to the last set of observations used to fit the model. Skipping model fitting.\n"
          ]
        },
        {
          "name": "stdout",
          "output_type": "stream",
          "text": [
            "next suggested experiment:  {'tungstate_concentration': 0.0985460500369825, 'current_density': 48, 'deposition_time': 600, 'pH': 9}\n"
          ]
        },
        {
          "name": "stderr",
          "output_type": "stream",
          "text": [
            "[INFO 02-09 22:35:05] ax.service.ax_client: Generated new trial 11 with parameters {'tungstate_concentration': 0.062687, 'current_density': 42, 'deposition_time': 600, 'pH': 8}.\n",
            "c:\\Users\\lordm\\Desktop\\Projects\\code_mqs\\.venv\\lib\\site-packages\\ax\\core\\data.py:302: FutureWarning: The behavior of DataFrame concatenation with empty or all-NA entries is deprecated. In a future version, this will no longer exclude empty or all-NA columns when determining the result dtypes. To retain the old behavior, exclude the relevant entries before the concat operation.\n",
            "  return cls(df=pd.concat(dfs, axis=0, sort=True))\n",
            "[INFO 02-09 22:35:05] ax.modelbridge.torch: The observations are identical to the last set of observations used to fit the model. Skipping model fitting.\n"
          ]
        },
        {
          "name": "stdout",
          "output_type": "stream",
          "text": [
            "next suggested experiment:  {'tungstate_concentration': 0.06268740896315327, 'current_density': 42, 'deposition_time': 600, 'pH': 8}\n"
          ]
        },
        {
          "name": "stderr",
          "output_type": "stream",
          "text": [
            "[INFO 02-09 22:35:09] ax.service.ax_client: Generated new trial 12 with parameters {'tungstate_concentration': 0.141009, 'current_density': 47, 'deposition_time': 600, 'pH': 8}.\n"
          ]
        },
        {
          "name": "stdout",
          "output_type": "stream",
          "text": [
            "next suggested experiment:  {'tungstate_concentration': 0.14100944799286003, 'current_density': 47, 'deposition_time': 600, 'pH': 8}\n"
          ]
        }
      ],
      "source": [
        "# Generate a batch of 3 new trials\n",
        "for i in range(3): \n",
        "    next_experiment, trial_index = ax_client.get_next_trial() \n",
        "    print(\"next suggested experiment: \", next_experiment)"
      ]
    },
    {
      "cell_type": "code",
      "execution_count": 10,
      "metadata": {},
      "outputs": [
        {
          "name": "stderr",
          "output_type": "stream",
          "text": [
            "[INFO 02-09 22:36:01] ax.modelbridge.generation_strategy: Note that parameter values in dataframe are rounded to 2 decimal points; the values in the dataframe are thus not the exact ones suggested by Ax in trials.\n"
          ]
        },
        {
          "data": {
            "text/html": [
              "<div>\n",
              "<style scoped>\n",
              "    .dataframe tbody tr th:only-of-type {\n",
              "        vertical-align: middle;\n",
              "    }\n",
              "\n",
              "    .dataframe tbody tr th {\n",
              "        vertical-align: top;\n",
              "    }\n",
              "\n",
              "    .dataframe thead th {\n",
              "        text-align: right;\n",
              "    }\n",
              "</style>\n",
              "<table border=\"1\" class=\"dataframe\">\n",
              "  <thead>\n",
              "    <tr style=\"text-align: right;\">\n",
              "      <th></th>\n",
              "      <th>Generation Step</th>\n",
              "      <th>Generation Model</th>\n",
              "      <th>Trial Index</th>\n",
              "      <th>Trial Status</th>\n",
              "      <th>Arm Parameterizations</th>\n",
              "    </tr>\n",
              "  </thead>\n",
              "  <tbody>\n",
              "    <tr>\n",
              "      <th>0</th>\n",
              "      <td>GenerationStep_0</td>\n",
              "      <td>MOO</td>\n",
              "      <td>10</td>\n",
              "      <td>RUNNING</td>\n",
              "      <td>{'10_0': {'tungstate_concentration': 0.1, 'cur...</td>\n",
              "    </tr>\n",
              "    <tr>\n",
              "      <th>1</th>\n",
              "      <td>GenerationStep_0</td>\n",
              "      <td>MOO</td>\n",
              "      <td>11</td>\n",
              "      <td>RUNNING</td>\n",
              "      <td>{'11_0': {'tungstate_concentration': 0.06, 'cu...</td>\n",
              "    </tr>\n",
              "    <tr>\n",
              "      <th>2</th>\n",
              "      <td>GenerationStep_0</td>\n",
              "      <td>MOO</td>\n",
              "      <td>12</td>\n",
              "      <td>RUNNING</td>\n",
              "      <td>{'12_0': {'tungstate_concentration': 0.14, 'cu...</td>\n",
              "    </tr>\n",
              "  </tbody>\n",
              "</table>\n",
              "</div>"
            ],
            "text/plain": [
              "    Generation Step Generation Model  Trial Index Trial Status  \\\n",
              "0  GenerationStep_0              MOO           10      RUNNING   \n",
              "1  GenerationStep_0              MOO           11      RUNNING   \n",
              "2  GenerationStep_0              MOO           12      RUNNING   \n",
              "\n",
              "                               Arm Parameterizations  \n",
              "0  {'10_0': {'tungstate_concentration': 0.1, 'cur...  \n",
              "1  {'11_0': {'tungstate_concentration': 0.06, 'cu...  \n",
              "2  {'12_0': {'tungstate_concentration': 0.14, 'cu...  "
            ]
          },
          "execution_count": 10,
          "metadata": {},
          "output_type": "execute_result"
        }
      ],
      "source": [
        "# Confirm running trials\n",
        "ax_client.generation_strategy.trials_as_df"
      ]
    },
    {
      "cell_type": "markdown",
      "metadata": {},
      "source": [
        "### Perform lab experiments and get new objectives"
      ]
    },
    {
      "cell_type": "code",
      "execution_count": 11,
      "metadata": {},
      "outputs": [
        {
          "name": "stderr",
          "output_type": "stream",
          "text": [
            "[INFO 02-09 22:36:04] ax.service.ax_client: Completed trial 10 with data: {'overpotential': (-260.0, None), 'overpotential_slope': (-0.002, None)}.\n",
            "[INFO 02-09 22:36:04] ax.service.ax_client: Completed trial 11 with data: {'overpotential': (-255.0, None), 'overpotential_slope': (-0.02, None)}.\n",
            "[INFO 02-09 22:36:04] ax.service.ax_client: Completed trial 12 with data: {'overpotential': (-245.0, None), 'overpotential_slope': (-0.0004, None)}.\n"
          ]
        }
      ],
      "source": [
        "# Complete pendings trials\n",
        "# We manually set SEM = None to indicate that we know the function to be noisy, but would like Ax to estimate the noise for us.\n",
        "ax_client.complete_trial(trial_index=10, raw_data={'overpotential': (-260.0, None), 'overpotential_slope': (-0.002, None)})\n",
        "ax_client.complete_trial(trial_index=11, raw_data={'overpotential': (-255.0, None), 'overpotential_slope': (-0.02, None)})\n",
        "ax_client.complete_trial(trial_index=12, raw_data={'overpotential': (-245.0, None), 'overpotential_slope': (-0.0004, None)})"
      ]
    },
    {
      "cell_type": "code",
      "execution_count": 12,
      "metadata": {},
      "outputs": [
        {
          "name": "stderr",
          "output_type": "stream",
          "text": [
            "[INFO 02-09 22:36:05] ax.modelbridge.generation_strategy: Note that parameter values in dataframe are rounded to 2 decimal points; the values in the dataframe are thus not the exact ones suggested by Ax in trials.\n"
          ]
        },
        {
          "data": {
            "text/html": [
              "<div>\n",
              "<style scoped>\n",
              "    .dataframe tbody tr th:only-of-type {\n",
              "        vertical-align: middle;\n",
              "    }\n",
              "\n",
              "    .dataframe tbody tr th {\n",
              "        vertical-align: top;\n",
              "    }\n",
              "\n",
              "    .dataframe thead th {\n",
              "        text-align: right;\n",
              "    }\n",
              "</style>\n",
              "<table border=\"1\" class=\"dataframe\">\n",
              "  <thead>\n",
              "    <tr style=\"text-align: right;\">\n",
              "      <th></th>\n",
              "      <th>Generation Step</th>\n",
              "      <th>Generation Model</th>\n",
              "      <th>Trial Index</th>\n",
              "      <th>Trial Status</th>\n",
              "      <th>Arm Parameterizations</th>\n",
              "    </tr>\n",
              "  </thead>\n",
              "  <tbody>\n",
              "    <tr>\n",
              "      <th>0</th>\n",
              "      <td>GenerationStep_0</td>\n",
              "      <td>MOO</td>\n",
              "      <td>10</td>\n",
              "      <td>COMPLETED</td>\n",
              "      <td>{'10_0': {'tungstate_concentration': 0.1, 'cur...</td>\n",
              "    </tr>\n",
              "    <tr>\n",
              "      <th>1</th>\n",
              "      <td>GenerationStep_0</td>\n",
              "      <td>MOO</td>\n",
              "      <td>11</td>\n",
              "      <td>COMPLETED</td>\n",
              "      <td>{'11_0': {'tungstate_concentration': 0.06, 'cu...</td>\n",
              "    </tr>\n",
              "    <tr>\n",
              "      <th>2</th>\n",
              "      <td>GenerationStep_0</td>\n",
              "      <td>MOO</td>\n",
              "      <td>12</td>\n",
              "      <td>COMPLETED</td>\n",
              "      <td>{'12_0': {'tungstate_concentration': 0.14, 'cu...</td>\n",
              "    </tr>\n",
              "  </tbody>\n",
              "</table>\n",
              "</div>"
            ],
            "text/plain": [
              "    Generation Step Generation Model  Trial Index Trial Status  \\\n",
              "0  GenerationStep_0              MOO           10    COMPLETED   \n",
              "1  GenerationStep_0              MOO           11    COMPLETED   \n",
              "2  GenerationStep_0              MOO           12    COMPLETED   \n",
              "\n",
              "                               Arm Parameterizations  \n",
              "0  {'10_0': {'tungstate_concentration': 0.1, 'cur...  \n",
              "1  {'11_0': {'tungstate_concentration': 0.06, 'cu...  \n",
              "2  {'12_0': {'tungstate_concentration': 0.14, 'cu...  "
            ]
          },
          "execution_count": 12,
          "metadata": {},
          "output_type": "execute_result"
        }
      ],
      "source": [
        "# Confirm completed trials\n",
        "ax_client.generation_strategy.trials_as_df"
      ]
    },
    {
      "cell_type": "markdown",
      "metadata": {},
      "source": [
        "#### Confirm model instantiation again"
      ]
    },
    {
      "cell_type": "code",
      "execution_count": 13,
      "metadata": {},
      "outputs": [
        {
          "name": "stdout",
          "output_type": "stream",
          "text": [
            "model: <ax.modelbridge.torch.TorchModelBridge object at 0x0000029ADEA6EE30>\n"
          ]
        }
      ],
      "source": [
        "ax_client.fit_model()\n",
        "print('model:', ax_client.generation_strategy.model)"
      ]
    },
    {
      "cell_type": "markdown",
      "metadata": {},
      "source": [
        "#### Repeat as neeeded"
      ]
    },
    {
      "cell_type": "code",
      "execution_count": null,
      "metadata": {},
      "outputs": [],
      "source": [
        "for i in range(3): # generate a batch of 3 new trials\n",
        "    next_experiment, trial_index = ax_client.get_next_trial() \n",
        "    print(\"next suggested experiment: \", next_experiment)"
      ]
    },
    {
      "cell_type": "code",
      "execution_count": null,
      "metadata": {},
      "outputs": [],
      "source": [
        "ax_client.complete_trial(trial_index=13, raw_data={'overpotential': (-245.0, None), 'overpotential_slope': (-0.002, None)})\n",
        "ax_client.complete_trial(trial_index=14, raw_data={'overpotential': (-259.0, None), 'overpotential_slope': (+0.00004, None)})\n",
        "ax_client.complete_trial(trial_index=15, raw_data={'overpotential': (-269.0, None), 'overpotential_slope': (-0.0034, None)})"
      ]
    },
    {
      "cell_type": "code",
      "execution_count": null,
      "metadata": {},
      "outputs": [],
      "source": [
        "ax_client.generation_strategy.trials_as_df"
      ]
    },
    {
      "cell_type": "code",
      "execution_count": null,
      "metadata": {},
      "outputs": [],
      "source": [
        "ax_client.fit_model()\n",
        "print('model:', ax_client.generation_strategy.model)"
      ]
    },
    {
      "cell_type": "markdown",
      "metadata": {},
      "source": [
        "### Save/Load the experiment"
      ]
    },
    {
      "cell_type": "code",
      "execution_count": 14,
      "metadata": {},
      "outputs": [
        {
          "name": "stderr",
          "output_type": "stream",
          "text": [
            "[INFO 02-09 22:36:12] ax.service.ax_client: Saved JSON-serialized state of optimization to `ax_client_snapshot.json`.\n"
          ]
        }
      ],
      "source": [
        "# Save the experiment state to disk.\n",
        "ax_client.save_to_json_file(\"ax_client_snapshot.json\")  "
      ]
    },
    {
      "cell_type": "code",
      "execution_count": 15,
      "metadata": {},
      "outputs": [
        {
          "name": "stderr",
          "output_type": "stream",
          "text": [
            "[INFO 02-09 22:36:12] ax.service.ax_client: Starting optimization with verbose logging. To disable logging, set the `verbose_logging` argument to `False`. Note that float values in the logs are rounded to 6 decimal points.\n"
          ]
        }
      ],
      "source": [
        "# Restore the experiment state from disk.  \n",
        "ax_client = AxClient.load_from_json_file(\"ax_client_snapshot.json\") \n",
        "# For custom filepath, pass `filepath` argument.\n",
        "# For any loading issues: https://github.com/facebook/Ax/issues/1565"
      ]
    },
    {
      "cell_type": "code",
      "execution_count": 17,
      "metadata": {},
      "outputs": [
        {
          "data": {
            "text/html": [
              "<div>\n",
              "<style scoped>\n",
              "    .dataframe tbody tr th:only-of-type {\n",
              "        vertical-align: middle;\n",
              "    }\n",
              "\n",
              "    .dataframe tbody tr th {\n",
              "        vertical-align: top;\n",
              "    }\n",
              "\n",
              "    .dataframe thead th {\n",
              "        text-align: right;\n",
              "    }\n",
              "</style>\n",
              "<table border=\"1\" class=\"dataframe\">\n",
              "  <thead>\n",
              "    <tr style=\"text-align: right;\">\n",
              "      <th></th>\n",
              "      <th>arm_name</th>\n",
              "      <th>metric_name</th>\n",
              "      <th>mean</th>\n",
              "      <th>sem</th>\n",
              "      <th>trial_index</th>\n",
              "    </tr>\n",
              "  </thead>\n",
              "  <tbody>\n",
              "    <tr>\n",
              "      <th>0</th>\n",
              "      <td>0_0</td>\n",
              "      <td>overpotential</td>\n",
              "      <td>-358.000000</td>\n",
              "      <td>NaN</td>\n",
              "      <td>0</td>\n",
              "    </tr>\n",
              "    <tr>\n",
              "      <th>1</th>\n",
              "      <td>0_0</td>\n",
              "      <td>overpotential_slope</td>\n",
              "      <td>0.000150</td>\n",
              "      <td>NaN</td>\n",
              "      <td>0</td>\n",
              "    </tr>\n",
              "    <tr>\n",
              "      <th>2</th>\n",
              "      <td>1_0</td>\n",
              "      <td>overpotential</td>\n",
              "      <td>-319.000000</td>\n",
              "      <td>NaN</td>\n",
              "      <td>1</td>\n",
              "    </tr>\n",
              "    <tr>\n",
              "      <th>3</th>\n",
              "      <td>1_0</td>\n",
              "      <td>overpotential_slope</td>\n",
              "      <td>0.000066</td>\n",
              "      <td>NaN</td>\n",
              "      <td>1</td>\n",
              "    </tr>\n",
              "    <tr>\n",
              "      <th>4</th>\n",
              "      <td>2_0</td>\n",
              "      <td>overpotential</td>\n",
              "      <td>-377.000000</td>\n",
              "      <td>NaN</td>\n",
              "      <td>2</td>\n",
              "    </tr>\n",
              "    <tr>\n",
              "      <th>5</th>\n",
              "      <td>2_0</td>\n",
              "      <td>overpotential_slope</td>\n",
              "      <td>0.000100</td>\n",
              "      <td>NaN</td>\n",
              "      <td>2</td>\n",
              "    </tr>\n",
              "    <tr>\n",
              "      <th>6</th>\n",
              "      <td>3_0</td>\n",
              "      <td>overpotential</td>\n",
              "      <td>-319.000000</td>\n",
              "      <td>NaN</td>\n",
              "      <td>3</td>\n",
              "    </tr>\n",
              "    <tr>\n",
              "      <th>7</th>\n",
              "      <td>3_0</td>\n",
              "      <td>overpotential_slope</td>\n",
              "      <td>-0.000518</td>\n",
              "      <td>NaN</td>\n",
              "      <td>3</td>\n",
              "    </tr>\n",
              "    <tr>\n",
              "      <th>8</th>\n",
              "      <td>4_0</td>\n",
              "      <td>overpotential</td>\n",
              "      <td>-286.000000</td>\n",
              "      <td>NaN</td>\n",
              "      <td>4</td>\n",
              "    </tr>\n",
              "    <tr>\n",
              "      <th>9</th>\n",
              "      <td>4_0</td>\n",
              "      <td>overpotential_slope</td>\n",
              "      <td>0.000080</td>\n",
              "      <td>NaN</td>\n",
              "      <td>4</td>\n",
              "    </tr>\n",
              "    <tr>\n",
              "      <th>10</th>\n",
              "      <td>5_0</td>\n",
              "      <td>overpotential</td>\n",
              "      <td>-312.000000</td>\n",
              "      <td>NaN</td>\n",
              "      <td>5</td>\n",
              "    </tr>\n",
              "    <tr>\n",
              "      <th>11</th>\n",
              "      <td>5_0</td>\n",
              "      <td>overpotential_slope</td>\n",
              "      <td>0.000029</td>\n",
              "      <td>NaN</td>\n",
              "      <td>5</td>\n",
              "    </tr>\n",
              "    <tr>\n",
              "      <th>12</th>\n",
              "      <td>6_0</td>\n",
              "      <td>overpotential</td>\n",
              "      <td>-309.000000</td>\n",
              "      <td>NaN</td>\n",
              "      <td>6</td>\n",
              "    </tr>\n",
              "    <tr>\n",
              "      <th>13</th>\n",
              "      <td>6_0</td>\n",
              "      <td>overpotential_slope</td>\n",
              "      <td>-0.000057</td>\n",
              "      <td>NaN</td>\n",
              "      <td>6</td>\n",
              "    </tr>\n",
              "    <tr>\n",
              "      <th>14</th>\n",
              "      <td>7_0</td>\n",
              "      <td>overpotential</td>\n",
              "      <td>-290.000000</td>\n",
              "      <td>NaN</td>\n",
              "      <td>7</td>\n",
              "    </tr>\n",
              "    <tr>\n",
              "      <th>15</th>\n",
              "      <td>7_0</td>\n",
              "      <td>overpotential_slope</td>\n",
              "      <td>0.001656</td>\n",
              "      <td>NaN</td>\n",
              "      <td>7</td>\n",
              "    </tr>\n",
              "    <tr>\n",
              "      <th>16</th>\n",
              "      <td>8_0</td>\n",
              "      <td>overpotential</td>\n",
              "      <td>-329.000000</td>\n",
              "      <td>NaN</td>\n",
              "      <td>8</td>\n",
              "    </tr>\n",
              "    <tr>\n",
              "      <th>17</th>\n",
              "      <td>8_0</td>\n",
              "      <td>overpotential_slope</td>\n",
              "      <td>0.000131</td>\n",
              "      <td>NaN</td>\n",
              "      <td>8</td>\n",
              "    </tr>\n",
              "    <tr>\n",
              "      <th>18</th>\n",
              "      <td>9_0</td>\n",
              "      <td>overpotential</td>\n",
              "      <td>-305.000000</td>\n",
              "      <td>NaN</td>\n",
              "      <td>9</td>\n",
              "    </tr>\n",
              "    <tr>\n",
              "      <th>19</th>\n",
              "      <td>9_0</td>\n",
              "      <td>overpotential_slope</td>\n",
              "      <td>-0.000064</td>\n",
              "      <td>NaN</td>\n",
              "      <td>9</td>\n",
              "    </tr>\n",
              "    <tr>\n",
              "      <th>20</th>\n",
              "      <td>10_0</td>\n",
              "      <td>overpotential</td>\n",
              "      <td>-260.000000</td>\n",
              "      <td>NaN</td>\n",
              "      <td>10</td>\n",
              "    </tr>\n",
              "    <tr>\n",
              "      <th>21</th>\n",
              "      <td>10_0</td>\n",
              "      <td>overpotential_slope</td>\n",
              "      <td>-0.002000</td>\n",
              "      <td>NaN</td>\n",
              "      <td>10</td>\n",
              "    </tr>\n",
              "    <tr>\n",
              "      <th>22</th>\n",
              "      <td>11_0</td>\n",
              "      <td>overpotential</td>\n",
              "      <td>-255.000000</td>\n",
              "      <td>NaN</td>\n",
              "      <td>11</td>\n",
              "    </tr>\n",
              "    <tr>\n",
              "      <th>23</th>\n",
              "      <td>11_0</td>\n",
              "      <td>overpotential_slope</td>\n",
              "      <td>-0.020000</td>\n",
              "      <td>NaN</td>\n",
              "      <td>11</td>\n",
              "    </tr>\n",
              "    <tr>\n",
              "      <th>24</th>\n",
              "      <td>12_0</td>\n",
              "      <td>overpotential</td>\n",
              "      <td>-245.000000</td>\n",
              "      <td>NaN</td>\n",
              "      <td>12</td>\n",
              "    </tr>\n",
              "    <tr>\n",
              "      <th>25</th>\n",
              "      <td>12_0</td>\n",
              "      <td>overpotential_slope</td>\n",
              "      <td>-0.000400</td>\n",
              "      <td>NaN</td>\n",
              "      <td>12</td>\n",
              "    </tr>\n",
              "  </tbody>\n",
              "</table>\n",
              "</div>"
            ],
            "text/plain": [
              "   arm_name          metric_name        mean  sem  trial_index\n",
              "0       0_0        overpotential -358.000000  NaN            0\n",
              "1       0_0  overpotential_slope    0.000150  NaN            0\n",
              "2       1_0        overpotential -319.000000  NaN            1\n",
              "3       1_0  overpotential_slope    0.000066  NaN            1\n",
              "4       2_0        overpotential -377.000000  NaN            2\n",
              "5       2_0  overpotential_slope    0.000100  NaN            2\n",
              "6       3_0        overpotential -319.000000  NaN            3\n",
              "7       3_0  overpotential_slope   -0.000518  NaN            3\n",
              "8       4_0        overpotential -286.000000  NaN            4\n",
              "9       4_0  overpotential_slope    0.000080  NaN            4\n",
              "10      5_0        overpotential -312.000000  NaN            5\n",
              "11      5_0  overpotential_slope    0.000029  NaN            5\n",
              "12      6_0        overpotential -309.000000  NaN            6\n",
              "13      6_0  overpotential_slope   -0.000057  NaN            6\n",
              "14      7_0        overpotential -290.000000  NaN            7\n",
              "15      7_0  overpotential_slope    0.001656  NaN            7\n",
              "16      8_0        overpotential -329.000000  NaN            8\n",
              "17      8_0  overpotential_slope    0.000131  NaN            8\n",
              "18      9_0        overpotential -305.000000  NaN            9\n",
              "19      9_0  overpotential_slope   -0.000064  NaN            9\n",
              "20     10_0        overpotential -260.000000  NaN           10\n",
              "21     10_0  overpotential_slope   -0.002000  NaN           10\n",
              "22     11_0        overpotential -255.000000  NaN           11\n",
              "23     11_0  overpotential_slope   -0.020000  NaN           11\n",
              "24     12_0        overpotential -245.000000  NaN           12\n",
              "25     12_0  overpotential_slope   -0.000400  NaN           12"
            ]
          },
          "execution_count": 17,
          "metadata": {},
          "output_type": "execute_result"
        }
      ],
      "source": [
        "# Show all available data\n",
        "ax_client.experiment.fetch_data().df"
      ]
    },
    {
      "cell_type": "markdown",
      "metadata": {},
      "source": [
        "### Get Pareto optimal parameters"
      ]
    },
    {
      "cell_type": "code",
      "execution_count": 16,
      "metadata": {
        "colab": {
          "base_uri": "https://localhost:8080/"
        },
        "id": "6Uh9FZFuq-mR",
        "outputId": "736d8511-54f5-469a-d112-57be5a6cc60a"
      },
      "outputs": [
        {
          "name": "stdout",
          "output_type": "stream",
          "text": [
            "Pareto optimal parameters: OrderedDict([(7, ({'tungstate_concentration': 0.1, 'current_density': 30, 'deposition_time': 600, 'pH': 8}, ({'overpotential': -287.04258392792804, 'overpotential_slope': 0.0008264057875902431}, {'overpotential': {'overpotential': 62.62297423014495, 'overpotential_slope': 0.0}, 'overpotential_slope': {'overpotential': 0.0, 'overpotential_slope': 9.73291281365827e-07}}))), (4, ({'tungstate_concentration': 0.1, 'current_density': 50, 'deposition_time': 600, 'pH': 7}, ({'overpotential': -282.3060336909546, 'overpotential_slope': 0.00019292754544286217}, {'overpotential': {'overpotential': 64.55854746658517, 'overpotential_slope': 0.0}, 'overpotential_slope': {'overpotential': 0.0, 'overpotential_slope': 1.3616222561670561e-06}}))), (12, ({'tungstate_concentration': 0.14100944799286003, 'current_density': 47, 'deposition_time': 600, 'pH': 8}, ({'overpotential': -251.17794063772214, 'overpotential_slope': -0.00037691933938424236}, {'overpotential': {'overpotential': 63.32319481082105, 'overpotential_slope': 0.0}, 'overpotential_slope': {'overpotential': 0.0, 'overpotential_slope': 1.433874755246333e-06}})))])\n"
          ]
        },
        {
          "name": "stderr",
          "output_type": "stream",
          "text": [
            "c:\\Users\\lordm\\Desktop\\Projects\\code_mqs\\.venv\\lib\\site-packages\\ax\\modelbridge\\modelbridge_utils.py:707: UserWarning: FYI: The default behavior of `get_pareto_frontier_and_configs` when `transform_outcomes_and_configs` is not specified has changed. Previously, the default was `transform_outcomes_and_configs=True`; now this argument is deprecated and behavior is as if `transform_outcomes_and_configs=False`. You did not specify `transform_outcomes_and_configs`, so this warning requires no action.\n",
            "  warnings.warn(\n"
          ]
        }
      ],
      "source": [
        "pareto_optimal_params = ax_client.get_pareto_optimal_parameters(use_model_predictions=True) \n",
        "# use_model_predictions=True by default, also try False?\n",
        "print(\"Pareto optimal parameters:\", pareto_optimal_params)"
      ]
    },
    {
      "cell_type": "markdown",
      "metadata": {},
      "source": [
        "### Plot (Posterior) Pareto front "
      ]
    },
    {
      "cell_type": "code",
      "execution_count": 17,
      "metadata": {},
      "outputs": [],
      "source": [
        "# Plotting imports and initialization\n",
        "from ax.utils.notebook.plotting import render\n",
        "from ax.plot.pareto_utils import compute_posterior_pareto_frontier\n",
        "from ax.plot.pareto_frontier import plot_pareto_frontier"
      ]
    },
    {
      "cell_type": "code",
      "execution_count": 18,
      "metadata": {},
      "outputs": [
        {
          "data": {
            "application/vnd.plotly.v1+json": {
              "config": {
                "linkText": "Export to plot.ly",
                "plotlyServerURL": "https://plot.ly",
                "showLink": false
              },
              "data": [
                {
                  "error_x": {
                    "array": [
                      13.628166140381273,
                      14.458183675239045,
                      14.465520004406706,
                      14.856478562932192,
                      14.459182025365504,
                      13.93434876589896,
                      14.477463351734238,
                      14.819936120851896,
                      14.766261736748266,
                      14.557106573620294,
                      14.366012144269948,
                      13.634936623312532,
                      14.720473726886816,
                      14.622094610866744,
                      13.458542619085227,
                      13.216014879935276
                    ],
                    "color": "rgba(128,177,211,0.4)",
                    "thickness": 2,
                    "type": "data"
                  },
                  "error_y": {
                    "array": [
                      0.0021931698833708197,
                      0.002904153772936101,
                      0.002357617335784962,
                      0.003861420860681901,
                      0.00294762937061082,
                      0.002241566632526781,
                      0.0031101144362555943,
                      0.004056635216893138,
                      0.004334063374601772,
                      0.005279897388197594,
                      0.005953743088942284,
                      0.007246974993163457,
                      0.004560225459605236,
                      0.0032748121376735013,
                      0.0070942703236439785,
                      0.006644642789585158
                    ],
                    "color": "rgba(128,177,211,0.4)",
                    "thickness": 2,
                    "type": "data"
                  },
                  "hoverinfo": "text",
                  "legendgroup": "mean",
                  "marker": {
                    "color": "rgba(128,177,211,1)"
                  },
                  "mode": "markers",
                  "name": "mean",
                  "text": [
                    "<b>Parameterization 0</b><br>overpotential: -275.726 [-289.354, -262.098]<br>overpotential_slope: 0.001 [-0.001, 0.004]<br><br><em>Parameterization:</em><br>tungstate_concentration: 0.10208421511350121<br>current_density: 34<br>deposition_time: 596<br>pH: 8",
                    "<b>Parameterization 1</b><br>overpotential: -253.574 [-268.032, -239.116]<br>overpotential_slope: 0.001 [-0.001, 0.004]<br><br><em>Parameterization:</em><br>tungstate_concentration: 0.1027347526344923<br>current_density: 44<br>deposition_time: 597<br>pH: 8",
                    "<b>Parameterization 2</b><br>overpotential: -267.278 [-281.743, -252.812]<br>overpotential_slope: 0.001 [-0.001, 0.004]<br><br><em>Parameterization:</em><br>tungstate_concentration: 0.10219936107147852<br>current_density: 37<br>deposition_time: 596<br>pH: 8",
                    "<b>Parameterization 3</b><br>overpotential: -251.389 [-266.245, -236.532]<br>overpotential_slope: 0.002 [-0.002, 0.006]<br><br><em>Parameterization:</em><br>tungstate_concentration: 0.10505967207968889<br>current_density: 47<br>deposition_time: 600<br>pH: 8",
                    "<b>Parameterization 4</b><br>overpotential: -253.564 [-268.023, -239.105]<br>overpotential_slope: 0.001 [-0.002, 0.004]<br><br><em>Parameterization:</em><br>tungstate_concentration: 0.10287511387836451<br>current_density: 44<br>deposition_time: 597<br>pH: 8",
                    "<b>Parameterization 5</b><br>overpotential: -272.828 [-286.762, -258.894]<br>overpotential_slope: 0.001 [-0.001, 0.004]<br><br><em>Parameterization:</em><br>tungstate_concentration: 0.10211148415785541<br>current_density: 35<br>deposition_time: 596<br>pH: 8",
                    "<b>Parameterization 6</b><br>overpotential: -252.59 [-267.067, -238.112]<br>overpotential_slope: 0.001 [-0.002, 0.005]<br><br><em>Parameterization:</em><br>tungstate_concentration: 0.10320412185114344<br>current_density: 45<br>deposition_time: 598<br>pH: 8",
                    "<b>Parameterization 7</b><br>overpotential: -251.339 [-266.159, -236.519]<br>overpotential_slope: 0.002 [-0.002, 0.006]<br><br><em>Parameterization:</em><br>tungstate_concentration: 0.105598406113242<br>current_density: 47<br>deposition_time: 600<br>pH: 8",
                    "<b>Parameterization 8</b><br>overpotential: -251.27 [-266.036, -236.504]<br>overpotential_slope: 0.002 [-0.003, 0.006]<br><br><em>Parameterization:</em><br>tungstate_concentration: 0.1063576191149179<br>current_density: 47<br>deposition_time: 600<br>pH: 8",
                    "<b>Parameterization 9</b><br>overpotential: -251.042 [-265.600, -236.485]<br>overpotential_slope: 0.002 [-0.003, 0.007]<br><br><em>Parameterization:</em><br>tungstate_concentration: 0.10903850197789977<br>current_density: 47<br>deposition_time: 600<br>pH: 8",
                    "<b>Parameterization 10</b><br>overpotential: -250.876 [-265.242, -236.510]<br>overpotential_slope: 0.002 [-0.004, 0.008]<br><br><em>Parameterization:</em><br>tungstate_concentration: 0.11122169636775758<br>current_density: 47<br>deposition_time: 600<br>pH: 8",
                    "<b>Parameterization 11</b><br>overpotential: -250.139 [-263.774, -236.504]<br>overpotential_slope: 0.001 [-0.006, 0.008]<br><br><em>Parameterization:</em><br>tungstate_concentration: 0.12208547732611208<br>current_density: 48<br>deposition_time: 600<br>pH: 8",
                    "<b>Parameterization 12</b><br>overpotential: -251.215 [-265.936, -236.495]<br>overpotential_slope: 0.002 [-0.003, 0.006]<br><br><em>Parameterization:</em><br>tungstate_concentration: 0.10697888117409107<br>current_density: 47<br>deposition_time: 600<br>pH: 8",
                    "<b>Parameterization 13</b><br>overpotential: -251.903 [-266.525, -237.281]<br>overpotential_slope: 0.001 [-0.002, 0.005]<br><br><em>Parameterization:</em><br>tungstate_concentration: 0.10352976136277864<br>current_density: 46<br>deposition_time: 599<br>pH: 8",
                    "<b>Parameterization 14</b><br>overpotential: -250.099 [-263.558, -236.641]<br>overpotential_slope: 0.001 [-0.006, 0.008]<br><br><em>Parameterization:</em><br>tungstate_concentration: 0.12386094245171994<br>current_density: 48<br>deposition_time: 600<br>pH: 8",
                    "<b>Parameterization 15</b><br>overpotential: -250.077 [-263.293, -236.861]<br>overpotential_slope: 0.0 [-0.006, 0.007]<br><br><em>Parameterization:</em><br>tungstate_concentration: 0.1266454259462678<br>current_density: 48<br>deposition_time: 600<br>pH: 8"
                  ],
                  "type": "scatter",
                  "x": [
                    -275.726274803955,
                    -253.5736889550301,
                    -267.27790723728845,
                    -251.38863137090598,
                    -253.56417635657,
                    -272.82811114037014,
                    -252.58961997007873,
                    -251.3387713471967,
                    -251.2700489330564,
                    -251.04246887815657,
                    -250.87569121098488,
                    -250.13869791287397,
                    -251.21518430378438,
                    -251.9033477679113,
                    -250.09926395992863,
                    -250.07716766044
                  ],
                  "y": [
                    0.001391257192540049,
                    0.0014178013601350674,
                    0.001419686709988168,
                    0.0016485498263266664,
                    0.0014422205335189527,
                    0.0014021658850920347,
                    0.001468794643693305,
                    0.0016980935487181346,
                    0.0017533752303683786,
                    0.0018296911972387028,
                    0.001782180322786691,
                    0.000873173687391596,
                    0.0017867281617269673,
                    0.001489238509682772,
                    0.0007021127812277266,
                    0.00044821744313587597
                  ]
                }
              ],
              "layout": {
                "height": 500,
                "hovermode": "closest",
                "legend": {
                  "orientation": "h"
                },
                "margin": {
                  "b": 75,
                  "l": 225,
                  "pad": 4,
                  "t": 75
                },
                "template": {
                  "data": {
                    "bar": [
                      {
                        "error_x": {
                          "color": "#2a3f5f"
                        },
                        "error_y": {
                          "color": "#2a3f5f"
                        },
                        "marker": {
                          "line": {
                            "color": "#E5ECF6",
                            "width": 0.5
                          },
                          "pattern": {
                            "fillmode": "overlay",
                            "size": 10,
                            "solidity": 0.2
                          }
                        },
                        "type": "bar"
                      }
                    ],
                    "barpolar": [
                      {
                        "marker": {
                          "line": {
                            "color": "#E5ECF6",
                            "width": 0.5
                          },
                          "pattern": {
                            "fillmode": "overlay",
                            "size": 10,
                            "solidity": 0.2
                          }
                        },
                        "type": "barpolar"
                      }
                    ],
                    "carpet": [
                      {
                        "aaxis": {
                          "endlinecolor": "#2a3f5f",
                          "gridcolor": "white",
                          "linecolor": "white",
                          "minorgridcolor": "white",
                          "startlinecolor": "#2a3f5f"
                        },
                        "baxis": {
                          "endlinecolor": "#2a3f5f",
                          "gridcolor": "white",
                          "linecolor": "white",
                          "minorgridcolor": "white",
                          "startlinecolor": "#2a3f5f"
                        },
                        "type": "carpet"
                      }
                    ],
                    "choropleth": [
                      {
                        "colorbar": {
                          "outlinewidth": 0,
                          "ticks": ""
                        },
                        "type": "choropleth"
                      }
                    ],
                    "contour": [
                      {
                        "colorbar": {
                          "outlinewidth": 0,
                          "ticks": ""
                        },
                        "colorscale": [
                          [
                            0,
                            "#0d0887"
                          ],
                          [
                            0.1111111111111111,
                            "#46039f"
                          ],
                          [
                            0.2222222222222222,
                            "#7201a8"
                          ],
                          [
                            0.3333333333333333,
                            "#9c179e"
                          ],
                          [
                            0.4444444444444444,
                            "#bd3786"
                          ],
                          [
                            0.5555555555555556,
                            "#d8576b"
                          ],
                          [
                            0.6666666666666666,
                            "#ed7953"
                          ],
                          [
                            0.7777777777777778,
                            "#fb9f3a"
                          ],
                          [
                            0.8888888888888888,
                            "#fdca26"
                          ],
                          [
                            1,
                            "#f0f921"
                          ]
                        ],
                        "type": "contour"
                      }
                    ],
                    "contourcarpet": [
                      {
                        "colorbar": {
                          "outlinewidth": 0,
                          "ticks": ""
                        },
                        "type": "contourcarpet"
                      }
                    ],
                    "heatmap": [
                      {
                        "colorbar": {
                          "outlinewidth": 0,
                          "ticks": ""
                        },
                        "colorscale": [
                          [
                            0,
                            "#0d0887"
                          ],
                          [
                            0.1111111111111111,
                            "#46039f"
                          ],
                          [
                            0.2222222222222222,
                            "#7201a8"
                          ],
                          [
                            0.3333333333333333,
                            "#9c179e"
                          ],
                          [
                            0.4444444444444444,
                            "#bd3786"
                          ],
                          [
                            0.5555555555555556,
                            "#d8576b"
                          ],
                          [
                            0.6666666666666666,
                            "#ed7953"
                          ],
                          [
                            0.7777777777777778,
                            "#fb9f3a"
                          ],
                          [
                            0.8888888888888888,
                            "#fdca26"
                          ],
                          [
                            1,
                            "#f0f921"
                          ]
                        ],
                        "type": "heatmap"
                      }
                    ],
                    "heatmapgl": [
                      {
                        "colorbar": {
                          "outlinewidth": 0,
                          "ticks": ""
                        },
                        "colorscale": [
                          [
                            0,
                            "#0d0887"
                          ],
                          [
                            0.1111111111111111,
                            "#46039f"
                          ],
                          [
                            0.2222222222222222,
                            "#7201a8"
                          ],
                          [
                            0.3333333333333333,
                            "#9c179e"
                          ],
                          [
                            0.4444444444444444,
                            "#bd3786"
                          ],
                          [
                            0.5555555555555556,
                            "#d8576b"
                          ],
                          [
                            0.6666666666666666,
                            "#ed7953"
                          ],
                          [
                            0.7777777777777778,
                            "#fb9f3a"
                          ],
                          [
                            0.8888888888888888,
                            "#fdca26"
                          ],
                          [
                            1,
                            "#f0f921"
                          ]
                        ],
                        "type": "heatmapgl"
                      }
                    ],
                    "histogram": [
                      {
                        "marker": {
                          "pattern": {
                            "fillmode": "overlay",
                            "size": 10,
                            "solidity": 0.2
                          }
                        },
                        "type": "histogram"
                      }
                    ],
                    "histogram2d": [
                      {
                        "colorbar": {
                          "outlinewidth": 0,
                          "ticks": ""
                        },
                        "colorscale": [
                          [
                            0,
                            "#0d0887"
                          ],
                          [
                            0.1111111111111111,
                            "#46039f"
                          ],
                          [
                            0.2222222222222222,
                            "#7201a8"
                          ],
                          [
                            0.3333333333333333,
                            "#9c179e"
                          ],
                          [
                            0.4444444444444444,
                            "#bd3786"
                          ],
                          [
                            0.5555555555555556,
                            "#d8576b"
                          ],
                          [
                            0.6666666666666666,
                            "#ed7953"
                          ],
                          [
                            0.7777777777777778,
                            "#fb9f3a"
                          ],
                          [
                            0.8888888888888888,
                            "#fdca26"
                          ],
                          [
                            1,
                            "#f0f921"
                          ]
                        ],
                        "type": "histogram2d"
                      }
                    ],
                    "histogram2dcontour": [
                      {
                        "colorbar": {
                          "outlinewidth": 0,
                          "ticks": ""
                        },
                        "colorscale": [
                          [
                            0,
                            "#0d0887"
                          ],
                          [
                            0.1111111111111111,
                            "#46039f"
                          ],
                          [
                            0.2222222222222222,
                            "#7201a8"
                          ],
                          [
                            0.3333333333333333,
                            "#9c179e"
                          ],
                          [
                            0.4444444444444444,
                            "#bd3786"
                          ],
                          [
                            0.5555555555555556,
                            "#d8576b"
                          ],
                          [
                            0.6666666666666666,
                            "#ed7953"
                          ],
                          [
                            0.7777777777777778,
                            "#fb9f3a"
                          ],
                          [
                            0.8888888888888888,
                            "#fdca26"
                          ],
                          [
                            1,
                            "#f0f921"
                          ]
                        ],
                        "type": "histogram2dcontour"
                      }
                    ],
                    "mesh3d": [
                      {
                        "colorbar": {
                          "outlinewidth": 0,
                          "ticks": ""
                        },
                        "type": "mesh3d"
                      }
                    ],
                    "parcoords": [
                      {
                        "line": {
                          "colorbar": {
                            "outlinewidth": 0,
                            "ticks": ""
                          }
                        },
                        "type": "parcoords"
                      }
                    ],
                    "pie": [
                      {
                        "automargin": true,
                        "type": "pie"
                      }
                    ],
                    "scatter": [
                      {
                        "fillpattern": {
                          "fillmode": "overlay",
                          "size": 10,
                          "solidity": 0.2
                        },
                        "type": "scatter"
                      }
                    ],
                    "scatter3d": [
                      {
                        "line": {
                          "colorbar": {
                            "outlinewidth": 0,
                            "ticks": ""
                          }
                        },
                        "marker": {
                          "colorbar": {
                            "outlinewidth": 0,
                            "ticks": ""
                          }
                        },
                        "type": "scatter3d"
                      }
                    ],
                    "scattercarpet": [
                      {
                        "marker": {
                          "colorbar": {
                            "outlinewidth": 0,
                            "ticks": ""
                          }
                        },
                        "type": "scattercarpet"
                      }
                    ],
                    "scattergeo": [
                      {
                        "marker": {
                          "colorbar": {
                            "outlinewidth": 0,
                            "ticks": ""
                          }
                        },
                        "type": "scattergeo"
                      }
                    ],
                    "scattergl": [
                      {
                        "marker": {
                          "colorbar": {
                            "outlinewidth": 0,
                            "ticks": ""
                          }
                        },
                        "type": "scattergl"
                      }
                    ],
                    "scattermapbox": [
                      {
                        "marker": {
                          "colorbar": {
                            "outlinewidth": 0,
                            "ticks": ""
                          }
                        },
                        "type": "scattermapbox"
                      }
                    ],
                    "scatterpolar": [
                      {
                        "marker": {
                          "colorbar": {
                            "outlinewidth": 0,
                            "ticks": ""
                          }
                        },
                        "type": "scatterpolar"
                      }
                    ],
                    "scatterpolargl": [
                      {
                        "marker": {
                          "colorbar": {
                            "outlinewidth": 0,
                            "ticks": ""
                          }
                        },
                        "type": "scatterpolargl"
                      }
                    ],
                    "scatterternary": [
                      {
                        "marker": {
                          "colorbar": {
                            "outlinewidth": 0,
                            "ticks": ""
                          }
                        },
                        "type": "scatterternary"
                      }
                    ],
                    "surface": [
                      {
                        "colorbar": {
                          "outlinewidth": 0,
                          "ticks": ""
                        },
                        "colorscale": [
                          [
                            0,
                            "#0d0887"
                          ],
                          [
                            0.1111111111111111,
                            "#46039f"
                          ],
                          [
                            0.2222222222222222,
                            "#7201a8"
                          ],
                          [
                            0.3333333333333333,
                            "#9c179e"
                          ],
                          [
                            0.4444444444444444,
                            "#bd3786"
                          ],
                          [
                            0.5555555555555556,
                            "#d8576b"
                          ],
                          [
                            0.6666666666666666,
                            "#ed7953"
                          ],
                          [
                            0.7777777777777778,
                            "#fb9f3a"
                          ],
                          [
                            0.8888888888888888,
                            "#fdca26"
                          ],
                          [
                            1,
                            "#f0f921"
                          ]
                        ],
                        "type": "surface"
                      }
                    ],
                    "table": [
                      {
                        "cells": {
                          "fill": {
                            "color": "#EBF0F8"
                          },
                          "line": {
                            "color": "white"
                          }
                        },
                        "header": {
                          "fill": {
                            "color": "#C8D4E3"
                          },
                          "line": {
                            "color": "white"
                          }
                        },
                        "type": "table"
                      }
                    ]
                  },
                  "layout": {
                    "annotationdefaults": {
                      "arrowcolor": "#2a3f5f",
                      "arrowhead": 0,
                      "arrowwidth": 1
                    },
                    "autotypenumbers": "strict",
                    "coloraxis": {
                      "colorbar": {
                        "outlinewidth": 0,
                        "ticks": ""
                      }
                    },
                    "colorscale": {
                      "diverging": [
                        [
                          0,
                          "#8e0152"
                        ],
                        [
                          0.1,
                          "#c51b7d"
                        ],
                        [
                          0.2,
                          "#de77ae"
                        ],
                        [
                          0.3,
                          "#f1b6da"
                        ],
                        [
                          0.4,
                          "#fde0ef"
                        ],
                        [
                          0.5,
                          "#f7f7f7"
                        ],
                        [
                          0.6,
                          "#e6f5d0"
                        ],
                        [
                          0.7,
                          "#b8e186"
                        ],
                        [
                          0.8,
                          "#7fbc41"
                        ],
                        [
                          0.9,
                          "#4d9221"
                        ],
                        [
                          1,
                          "#276419"
                        ]
                      ],
                      "sequential": [
                        [
                          0,
                          "#0d0887"
                        ],
                        [
                          0.1111111111111111,
                          "#46039f"
                        ],
                        [
                          0.2222222222222222,
                          "#7201a8"
                        ],
                        [
                          0.3333333333333333,
                          "#9c179e"
                        ],
                        [
                          0.4444444444444444,
                          "#bd3786"
                        ],
                        [
                          0.5555555555555556,
                          "#d8576b"
                        ],
                        [
                          0.6666666666666666,
                          "#ed7953"
                        ],
                        [
                          0.7777777777777778,
                          "#fb9f3a"
                        ],
                        [
                          0.8888888888888888,
                          "#fdca26"
                        ],
                        [
                          1,
                          "#f0f921"
                        ]
                      ],
                      "sequentialminus": [
                        [
                          0,
                          "#0d0887"
                        ],
                        [
                          0.1111111111111111,
                          "#46039f"
                        ],
                        [
                          0.2222222222222222,
                          "#7201a8"
                        ],
                        [
                          0.3333333333333333,
                          "#9c179e"
                        ],
                        [
                          0.4444444444444444,
                          "#bd3786"
                        ],
                        [
                          0.5555555555555556,
                          "#d8576b"
                        ],
                        [
                          0.6666666666666666,
                          "#ed7953"
                        ],
                        [
                          0.7777777777777778,
                          "#fb9f3a"
                        ],
                        [
                          0.8888888888888888,
                          "#fdca26"
                        ],
                        [
                          1,
                          "#f0f921"
                        ]
                      ]
                    },
                    "colorway": [
                      "#636efa",
                      "#EF553B",
                      "#00cc96",
                      "#ab63fa",
                      "#FFA15A",
                      "#19d3f3",
                      "#FF6692",
                      "#B6E880",
                      "#FF97FF",
                      "#FECB52"
                    ],
                    "font": {
                      "color": "#2a3f5f"
                    },
                    "geo": {
                      "bgcolor": "white",
                      "lakecolor": "white",
                      "landcolor": "#E5ECF6",
                      "showlakes": true,
                      "showland": true,
                      "subunitcolor": "white"
                    },
                    "hoverlabel": {
                      "align": "left"
                    },
                    "hovermode": "closest",
                    "mapbox": {
                      "style": "light"
                    },
                    "paper_bgcolor": "white",
                    "plot_bgcolor": "#E5ECF6",
                    "polar": {
                      "angularaxis": {
                        "gridcolor": "white",
                        "linecolor": "white",
                        "ticks": ""
                      },
                      "bgcolor": "#E5ECF6",
                      "radialaxis": {
                        "gridcolor": "white",
                        "linecolor": "white",
                        "ticks": ""
                      }
                    },
                    "scene": {
                      "xaxis": {
                        "backgroundcolor": "#E5ECF6",
                        "gridcolor": "white",
                        "gridwidth": 2,
                        "linecolor": "white",
                        "showbackground": true,
                        "ticks": "",
                        "zerolinecolor": "white"
                      },
                      "yaxis": {
                        "backgroundcolor": "#E5ECF6",
                        "gridcolor": "white",
                        "gridwidth": 2,
                        "linecolor": "white",
                        "showbackground": true,
                        "ticks": "",
                        "zerolinecolor": "white"
                      },
                      "zaxis": {
                        "backgroundcolor": "#E5ECF6",
                        "gridcolor": "white",
                        "gridwidth": 2,
                        "linecolor": "white",
                        "showbackground": true,
                        "ticks": "",
                        "zerolinecolor": "white"
                      }
                    },
                    "shapedefaults": {
                      "line": {
                        "color": "#2a3f5f"
                      }
                    },
                    "ternary": {
                      "aaxis": {
                        "gridcolor": "white",
                        "linecolor": "white",
                        "ticks": ""
                      },
                      "baxis": {
                        "gridcolor": "white",
                        "linecolor": "white",
                        "ticks": ""
                      },
                      "bgcolor": "#E5ECF6",
                      "caxis": {
                        "gridcolor": "white",
                        "linecolor": "white",
                        "ticks": ""
                      }
                    },
                    "title": {
                      "x": 0.05
                    },
                    "xaxis": {
                      "automargin": true,
                      "gridcolor": "white",
                      "linecolor": "white",
                      "ticks": "",
                      "title": {
                        "standoff": 15
                      },
                      "zerolinecolor": "white",
                      "zerolinewidth": 2
                    },
                    "yaxis": {
                      "automargin": true,
                      "gridcolor": "white",
                      "linecolor": "white",
                      "ticks": "",
                      "title": {
                        "standoff": 15
                      },
                      "zerolinecolor": "white",
                      "zerolinewidth": 2
                    }
                  }
                },
                "title": {
                  "text": "Pareto Frontier"
                },
                "width": 750,
                "xaxis": {
                  "ticksuffix": "",
                  "title": {
                    "text": "overpotential"
                  },
                  "zeroline": true
                },
                "yaxis": {
                  "ticksuffix": "",
                  "title": {
                    "text": "overpotential_slope"
                  },
                  "zeroline": true
                }
              }
            }
          },
          "metadata": {},
          "output_type": "display_data"
        }
      ],
      "source": [
        "objectives = ax_client.experiment.optimization_config.objective.objectives\n",
        "frontier = compute_posterior_pareto_frontier(\n",
        "    experiment=ax_client.experiment,\n",
        "    data=ax_client.experiment.fetch_data(),\n",
        "    primary_objective=objectives[1].metric,\n",
        "    secondary_objective=objectives[0].metric,\n",
        "    absolute_metrics=[\"overpotential\", \"overpotential_slope\"],\n",
        "    num_points=16\n",
        ")\n",
        "render(plot_pareto_frontier(frontier, CI_level=0.90))"
      ]
    },
    {
      "cell_type": "markdown",
      "metadata": {},
      "source": [
        "### Hypervolume: Evaluating the Quality of the Pareto Front"
      ]
    },
    {
      "cell_type": "markdown",
      "metadata": {},
      "source": [
        "#### For specific trial"
      ]
    },
    {
      "cell_type": "code",
      "execution_count": 23,
      "metadata": {},
      "outputs": [
        {
          "name": "stdout",
          "output_type": "stream",
          "text": [
            "Hypervolume With Model Predictions: 0.1400314631171356, For trial: [12]\n",
            "Hypervolume Without Model Predictions: 0.063, For trial: [12]\n"
          ]
        },
        {
          "name": "stderr",
          "output_type": "stream",
          "text": [
            "c:\\Users\\lordm\\Desktop\\Projects\\code_mqs\\.venv\\lib\\site-packages\\ax\\modelbridge\\modelbridge_utils.py:707: UserWarning:\n",
            "\n",
            "FYI: The default behavior of `get_pareto_frontier_and_configs` when `transform_outcomes_and_configs` is not specified has changed. Previously, the default was `transform_outcomes_and_configs=True`; now this argument is deprecated and behavior is as if `transform_outcomes_and_configs=False`. You did not specify `transform_outcomes_and_configs`, so this warning requires no action.\n",
            "\n",
            "c:\\Users\\lordm\\Desktop\\Projects\\code_mqs\\.venv\\lib\\site-packages\\ax\\modelbridge\\modelbridge_utils.py:707: UserWarning:\n",
            "\n",
            "FYI: The default behavior of `get_pareto_frontier_and_configs` when `transform_outcomes_and_configs` is not specified has changed. Previously, the default was `transform_outcomes_and_configs=True`; now this argument is deprecated and behavior is as if `transform_outcomes_and_configs=False`. You did not specify `transform_outcomes_and_configs`, so this warning requires no action.\n",
            "\n"
          ]
        }
      ],
      "source": [
        "from src.ax_code.hypervolume import get_hypervolume, plot_hypervolume_trace\n",
        "\n",
        "# Get hypervolume with model predictions\n",
        "trial_indices = [12]\n",
        "model_true = get_hypervolume(ax_client, trial_indices, True)\n",
        "print(f'Hypervolume With Model Predictions: {model_true}, For trial: {trial_indices}')\n",
        "\n",
        "# Get hypervolume without model predictions\n",
        "model_false = get_hypervolume(ax_client, trial_indices, False)\n",
        "print(f'Hypervolume Without Model Predictions: {model_false}, For trial: {trial_indices}')"
      ]
    },
    {
      "cell_type": "code",
      "execution_count": 27,
      "metadata": {},
      "outputs": [
        {
          "data": {
            "image/png": "[encoded data removed]",
            "text/plain": [
              "<Figure size 640x480 with 1 Axes>"
            ]
          },
          "metadata": {},
          "output_type": "display_data"
        }
      ],
      "source": [
        "# Plot Hypervolume trace = Optimization trace for MOO\n",
        "plot_hypervolume_trace(ax_client)"
      ]
    },
    {
      "cell_type": "markdown",
      "metadata": {},
      "source": [
        "## Visualizations"
      ]
    },
    {
      "cell_type": "code",
      "execution_count": null,
      "metadata": {},
      "outputs": [],
      "source": [
        "from ax.modelbridge.cross_validation import cross_validate\n",
        "from ax.plot.diagnostic import interact_cross_validation\n",
        "from ax.plot.contour import interact_contour\n",
        "from ax.plot.scatter import plot_objective_vs_constraints\n",
        "from ax.plot.slice import plot_slice"
      ]
    },
    {
      "cell_type": "markdown",
      "metadata": {},
      "source": [
        "#### Cross validation"
      ]
    },
    {
      "cell_type": "code",
      "execution_count": null,
      "metadata": {},
      "outputs": [],
      "source": [
        "model = ax_client.generation_strategy.model\n",
        "cv_results = cross_validate(model, folds= -1) # default folds\n",
        "render(interact_cross_validation(cv_results))"
      ]
    },
    {
      "cell_type": "markdown",
      "metadata": {},
      "source": [
        "#### Contour plot"
      ]
    },
    {
      "cell_type": "code",
      "execution_count": null,
      "metadata": {},
      "outputs": [],
      "source": [
        "# Interactive contour plots, able to switch between different parameter-objective combinations.\n",
        "render(interact_contour(model, metric_name=\"overpotential\"))"
      ]
    },
    {
      "cell_type": "markdown",
      "metadata": {},
      "source": [
        "#### Tradeoff plot "
      ]
    },
    {
      "cell_type": "code",
      "execution_count": null,
      "metadata": {},
      "outputs": [],
      "source": [
        "render(plot_objective_vs_constraints(model, \"overpotential\", rel=False)) # rel = False"
      ]
    },
    {
      "cell_type": "markdown",
      "metadata": {},
      "source": [
        "#### Slice plot"
      ]
    },
    {
      "cell_type": "code",
      "execution_count": null,
      "metadata": {},
      "outputs": [],
      "source": [
        "# Slice plot, can be done for all different parameter-objective combinations.\n",
        "render(plot_slice(model, \"pH\", \"overpotential\"))"
      ]
    },
    {
      "cell_type": "markdown",
      "metadata": {},
      "source": [
        "## More visualizations"
      ]
    },
    {
      "cell_type": "markdown",
      "metadata": {},
      "source": [
        "MAKE THIS A FUNCTION"
      ]
    },
    {
      "cell_type": "markdown",
      "metadata": {},
      "source": [
        "Automatic data conversion from the Ax dataframe to a list, for visualization purposes."
      ]
    },
    {
      "cell_type": "code",
      "execution_count": null,
      "metadata": {},
      "outputs": [],
      "source": [
        "# Get dataframe and drop the 'sem' column\n",
        "data_df = ax_client.experiment.fetch_data().df\n",
        "data_df = data_df.drop(columns=['sem'])\n",
        "\n",
        "# Convert the DataFrame to a list of lists\n",
        "data_list = []\n",
        "\n",
        "for trial in data_df['trial_index'].unique():\n",
        "    trial_data = data_df[data_df['trial_index'] == trial]\n",
        "    \n",
        "    # Extract data for 'overpotential' and 'overpotential_slope'\n",
        "    overpotential_data = trial_data.loc[trial_data['metric_name'] == 'overpotential', 'mean'].tolist()[0]\n",
        "    slope_data = trial_data.loc[trial_data['metric_name'] == 'overpotential_slope', 'mean'].tolist()[0]\n",
        "    \n",
        "    # Combine the data into a list of tuples\n",
        "    trial_data_list = [overpotential_data, slope_data]\n",
        "    \n",
        "    # Extend the main list\n",
        "    data_list.append(trial_data_list)\n",
        "\n",
        "# Now data_list has the format I want\n",
        "print(data_list)"
      ]
    },
    {
      "cell_type": "markdown",
      "metadata": {},
      "source": [
        "### Plot by batch or by trial"
      ]
    },
    {
      "cell_type": "code",
      "execution_count": null,
      "metadata": {},
      "outputs": [],
      "source": [
        "from src.ax_code.visualizations import plot_pareto\n",
        "\n",
        "# Need to be manually organized by batch, see visualizations.py \n",
        "# (needed for the 'by batch' plot, doesn't matter for the rest)\n",
        "\n",
        "# Choose the visualization type ('batch' or 'trial')\n",
        "visualization_type = 'batch' \n",
        "\n",
        "# Call the function to plot the Pareto front\n",
        "plot_pareto(data_list, visualization_type)"
      ]
    },
    {
      "cell_type": "markdown",
      "metadata": {},
      "source": [
        "### Plot by tracking one of the two objectives over the trials"
      ]
    },
    {
      "cell_type": "code",
      "execution_count": null,
      "metadata": {},
      "outputs": [],
      "source": [
        "from src.ax_code.visualizations import plot_pareto_objective\n",
        "\n",
        "# Choose the visualization type ('value' or 'slope')\n",
        "visualization_type = 'slope' \n",
        "\n",
        "# Call the function to plot the Pareto front based on tracking the chosen objective\n",
        "plot_pareto_objective(data_list, visualization_type)"
      ]
    }
  ],
  "metadata": {
    "colab": {
      "provenance": []
    },
    "kernelspec": {
      "display_name": "Python 3.9.13 ('sdl-demo')",
      "language": "python",
      "name": "python3"
    },
    "language_info": {
      "codemirror_mode": {
        "name": "ipython",
        "version": 3
      },
      "file_extension": ".py",
      "mimetype": "text/x-python",
      "name": "python",
      "nbconvert_exporter": "python",
      "pygments_lexer": "ipython3",
      "version": "3.10.11"
    },
    "vscode": {
      "interpreter": {
        "hash": "70cb6d4911b67e25d1487ebd620c5d1370239efaaf47f3851af44f5c5a26f988"
      }
    }
  },
  "nbformat": 4,
  "nbformat_minor": 0
}
