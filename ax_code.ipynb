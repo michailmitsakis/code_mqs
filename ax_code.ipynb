{
  "cells": [
    {
      "cell_type": "markdown",
      "metadata": {},
      "source": [
        "### **To-Do List:**\n",
        "\n",
        "1. Look into which other parts of the code I can turn into functions/modules. \n",
        "   \n",
        "2. Find where I can meaningfully test with pytest (see [here](https://realpython.com/python-testing/) and [here](https://coderefinery.github.io/testing/)).\n",
        "   \n",
        " --> **Read articles, how much of this should I immediately go into? Installed pytest, confirmed it works with:\n",
        " \"pytest -v tests/test.py\", looking for practical things to test.**\n",
        "\n",
        "3. Make package pip-installable, as per the instructions [here](https://aaltoscicomp.github.io/python-for-scicomp/packaging/). \n",
        "  \n",
        "  --> **Added pyproject.toml, made it Git-ignorable, haven't tested local pip install yet.**\n",
        "\n",
        "4. More detailed README and module documentation, based on recommendations [here](https://coderefinery.github.io/documentation/). **Can GitHub Copilot help?**\n",
        "\n",
        "5. Add LICENSE file (https://github.com/coderefinery/social-coding/blob/main/licensing-and-cakes.md).\n",
        "\n",
        "**Warnings:**\n",
        "\n",
        "- FutureWarning: The behavior of DataFrame concatenation with empty or all-NA entries is deprecated. In a future version, this will no longer exclude empty or all-NA columns when determining the result dtypes. To retain the old behavior, exclude the relevant entries before the concat operation.\n",
        "  return cls(df=pd.concat(dfs, axis=0, sort=True))\n",
        "\n",
        "--> **Seems like different types are being concatenated and this warning is triggered, but it's fine for now. Track future Pandas developments.**\n",
        "\n",
        "- c:\\Users\\lordm\\Desktop\\Projects\\code_mqs\\.venv\\lib\\site-packages\\ax\\core\\data.py\n",
        "  \n",
        "FutureWarning: Passing literal json to 'read_json' is deprecated and will be removed in a future version. To read from a literal string, wrap it in a 'StringIO' object. args[\"df\"] = pd.read_json(args[\"df\"][\"value\"], dtype=False)\n",
        "\n",
        "--> In data.py, I replaced this:\n",
        "\n",
        "        if \"df\" in args and not isinstance(args[\"df\"], pd.DataFrame):\n",
        "            # NOTE: Need dtype=False, otherwise infers arm_names like\n",
        "            # \"4_1\" should be int 41.\n",
        "            args[\"df\"] = pd.read_json(args[\"df\"][\"value\"], dtype=False)\n",
        "\n",
        "with this:\n",
        "\n",
        "        import io\n",
        "        if \"df\" in args and not isinstance(args[\"df\"], pd.DataFrame):\n",
        "            # Wrap the JSON string in a StringIO object and use pd.io.json.read_json\n",
        "            args[\"df\"] = pd.io.json.read_json(io.StringIO(args[\"df\"][\"value\"]), dtype=False)\n",
        "        return extract_init_args(args=args, class_=cls)\n",
        "\n",
        "--> **Fixed.**"
      ]
    },
    {
      "cell_type": "markdown",
      "metadata": {},
      "source": [
        "### Imports"
      ]
    },
    {
      "cell_type": "code",
      "execution_count": 3,
      "metadata": {
        "colab": {
          "base_uri": "https://localhost:8080/",
          "height": 269
        },
        "id": "frb6kTSIpZug",
        "outputId": "c80669f5-08d4-4e65-89ad-6aa5f8bf5f0c"
      },
      "outputs": [],
      "source": [
        "import numpy as np\n",
        "import pandas as pd\n",
        "import matplotlib.pyplot as plt\n",
        "\n",
        "from ax.service.ax_client import AxClient\n",
        "from ax.service.utils.instantiation import ObjectiveProperties\n",
        "from ax.modelbridge.generation_strategy import GenerationStrategy, GenerationStep\n",
        "from ax.modelbridge.registry import Models"
      ]
    },
    {
      "cell_type": "markdown",
      "metadata": {},
      "source": [
        "### Training Data and Parameters"
      ]
    },
    {
      "cell_type": "code",
      "execution_count": 8,
      "metadata": {},
      "outputs": [
        {
          "data": {
            "text/html": [
              "<div>\n",
              "<style scoped>\n",
              "    .dataframe tbody tr th:only-of-type {\n",
              "        vertical-align: middle;\n",
              "    }\n",
              "\n",
              "    .dataframe tbody tr th {\n",
              "        vertical-align: top;\n",
              "    }\n",
              "\n",
              "    .dataframe thead th {\n",
              "        text-align: right;\n",
              "    }\n",
              "</style>\n",
              "<table border=\"1\" class=\"dataframe\">\n",
              "  <thead>\n",
              "    <tr style=\"text-align: right;\">\n",
              "      <th></th>\n",
              "      <th>tungstate_concentration</th>\n",
              "      <th>current_density</th>\n",
              "      <th>deposition_time</th>\n",
              "      <th>pH</th>\n",
              "    </tr>\n",
              "  </thead>\n",
              "  <tbody>\n",
              "    <tr>\n",
              "      <th>0</th>\n",
              "      <td>0.05</td>\n",
              "      <td>10.0</td>\n",
              "      <td>500.0</td>\n",
              "      <td>5.0</td>\n",
              "    </tr>\n",
              "    <tr>\n",
              "      <th>1</th>\n",
              "      <td>0.05</td>\n",
              "      <td>50.0</td>\n",
              "      <td>300.0</td>\n",
              "      <td>6.0</td>\n",
              "    </tr>\n",
              "    <tr>\n",
              "      <th>2</th>\n",
              "      <td>0.10</td>\n",
              "      <td>10.0</td>\n",
              "      <td>300.0</td>\n",
              "      <td>7.0</td>\n",
              "    </tr>\n",
              "    <tr>\n",
              "      <th>3</th>\n",
              "      <td>0.10</td>\n",
              "      <td>10.0</td>\n",
              "      <td>600.0</td>\n",
              "      <td>8.0</td>\n",
              "    </tr>\n",
              "    <tr>\n",
              "      <th>4</th>\n",
              "      <td>0.10</td>\n",
              "      <td>50.0</td>\n",
              "      <td>600.0</td>\n",
              "      <td>7.5</td>\n",
              "    </tr>\n",
              "    <tr>\n",
              "      <th>5</th>\n",
              "      <td>0.10</td>\n",
              "      <td>100.0</td>\n",
              "      <td>600.0</td>\n",
              "      <td>10.0</td>\n",
              "    </tr>\n",
              "    <tr>\n",
              "      <th>6</th>\n",
              "      <td>0.10</td>\n",
              "      <td>50.0</td>\n",
              "      <td>400.0</td>\n",
              "      <td>6.5</td>\n",
              "    </tr>\n",
              "    <tr>\n",
              "      <th>7</th>\n",
              "      <td>0.10</td>\n",
              "      <td>30.0</td>\n",
              "      <td>600.0</td>\n",
              "      <td>8.5</td>\n",
              "    </tr>\n",
              "    <tr>\n",
              "      <th>8</th>\n",
              "      <td>0.15</td>\n",
              "      <td>10.0</td>\n",
              "      <td>600.0</td>\n",
              "      <td>9.5</td>\n",
              "    </tr>\n",
              "    <tr>\n",
              "      <th>9</th>\n",
              "      <td>0.15</td>\n",
              "      <td>50.0</td>\n",
              "      <td>300.0</td>\n",
              "      <td>9.5</td>\n",
              "    </tr>\n",
              "  </tbody>\n",
              "</table>\n",
              "</div>"
            ],
            "text/plain": [
              "   tungstate_concentration  current_density  deposition_time    pH\n",
              "0                     0.05             10.0            500.0   5.0\n",
              "1                     0.05             50.0            300.0   6.0\n",
              "2                     0.10             10.0            300.0   7.0\n",
              "3                     0.10             10.0            600.0   8.0\n",
              "4                     0.10             50.0            600.0   7.5\n",
              "5                     0.10            100.0            600.0  10.0\n",
              "6                     0.10             50.0            400.0   6.5\n",
              "7                     0.10             30.0            600.0   8.5\n",
              "8                     0.15             10.0            600.0   9.5\n",
              "9                     0.15             50.0            300.0   9.5"
            ]
          },
          "execution_count": 8,
          "metadata": {},
          "output_type": "execute_result"
        }
      ],
      "source": [
        "unique_parameters = [\"tungstate_concentration\", \"current_density\", \"deposition_time\", \"pH\"] \n",
        "# temperature avoided, kept constant at 25 C\n",
        "\n",
        "# EXAMPLE, here use actual data\n",
        "X_train = np.array([[0.05, 10, 500, 5],\n",
        "               [0.05, 50, 300, 6],\n",
        "               [0.1, 10, 300, 7],\n",
        "               [0.1, 10, 600, 8],\n",
        "               \n",
        "               [0.1, 50, 600, 7.5],\n",
        "               [0.1, 100, 600, 10],\n",
        "               [0.1, 50, 400, 6.5],\n",
        "               [0.1, 30, 600, 8.5],\n",
        "               [0.15, 10, 600, 9.5],\n",
        "               [0.15, 50, 300, 9.5],\n",
        "               \n",
        "               # NEW OPTIMIZATION DATA    \n",
        "               ])\n",
        "\n",
        "# Convert to dataframe\n",
        "X_train = pd.DataFrame(X_train, columns=unique_parameters)\n",
        "X_train"
      ]
    },
    {
      "cell_type": "code",
      "execution_count": 9,
      "metadata": {
        "colab": {
          "base_uri": "https://localhost:8080/"
        },
        "id": "9T4ugJ-Jqr3m",
        "outputId": "60993244-cb60-4c43-facd-b096918e9e71"
      },
      "outputs": [
        {
          "data": {
            "text/html": [
              "<div>\n",
              "<style scoped>\n",
              "    .dataframe tbody tr th:only-of-type {\n",
              "        vertical-align: middle;\n",
              "    }\n",
              "\n",
              "    .dataframe tbody tr th {\n",
              "        vertical-align: top;\n",
              "    }\n",
              "\n",
              "    .dataframe thead th {\n",
              "        text-align: right;\n",
              "    }\n",
              "</style>\n",
              "<table border=\"1\" class=\"dataframe\">\n",
              "  <thead>\n",
              "    <tr style=\"text-align: right;\">\n",
              "      <th></th>\n",
              "      <th>overpotential</th>\n",
              "      <th>overpotential_slope</th>\n",
              "    </tr>\n",
              "  </thead>\n",
              "  <tbody>\n",
              "    <tr>\n",
              "      <th>0</th>\n",
              "      <td>-358.0</td>\n",
              "      <td>0.000150</td>\n",
              "    </tr>\n",
              "    <tr>\n",
              "      <th>1</th>\n",
              "      <td>-319.0</td>\n",
              "      <td>0.000066</td>\n",
              "    </tr>\n",
              "    <tr>\n",
              "      <th>2</th>\n",
              "      <td>-377.0</td>\n",
              "      <td>0.000100</td>\n",
              "    </tr>\n",
              "    <tr>\n",
              "      <th>3</th>\n",
              "      <td>-319.0</td>\n",
              "      <td>-0.000518</td>\n",
              "    </tr>\n",
              "    <tr>\n",
              "      <th>4</th>\n",
              "      <td>-286.0</td>\n",
              "      <td>0.000080</td>\n",
              "    </tr>\n",
              "    <tr>\n",
              "      <th>5</th>\n",
              "      <td>-312.0</td>\n",
              "      <td>0.000029</td>\n",
              "    </tr>\n",
              "    <tr>\n",
              "      <th>6</th>\n",
              "      <td>-309.0</td>\n",
              "      <td>-0.000057</td>\n",
              "    </tr>\n",
              "    <tr>\n",
              "      <th>7</th>\n",
              "      <td>-290.0</td>\n",
              "      <td>0.001656</td>\n",
              "    </tr>\n",
              "    <tr>\n",
              "      <th>8</th>\n",
              "      <td>-329.0</td>\n",
              "      <td>0.000131</td>\n",
              "    </tr>\n",
              "    <tr>\n",
              "      <th>9</th>\n",
              "      <td>-305.0</td>\n",
              "      <td>-0.000064</td>\n",
              "    </tr>\n",
              "  </tbody>\n",
              "</table>\n",
              "</div>"
            ],
            "text/plain": [
              "   overpotential  overpotential_slope\n",
              "0         -358.0             0.000150\n",
              "1         -319.0             0.000066\n",
              "2         -377.0             0.000100\n",
              "3         -319.0            -0.000518\n",
              "4         -286.0             0.000080\n",
              "5         -312.0             0.000029\n",
              "6         -309.0            -0.000057\n",
              "7         -290.0             0.001656\n",
              "8         -329.0             0.000131\n",
              "9         -305.0            -0.000064"
            ]
          },
          "execution_count": 9,
          "metadata": {},
          "output_type": "execute_result"
        }
      ],
      "source": [
        "# Number of data points\n",
        "n_train = X_train.shape[0]\n",
        "\n",
        "unique_objectives = [\"overpotential\", \"overpotential_slope\"]\n",
        "\n",
        "# EXAMPLE, here use actual observations\n",
        "y_train = np.array([[-358,0.00015], \n",
        "                    [-319,0.000066], \n",
        "                    [-377,0.0001], \n",
        "                    [-319,-0.000518],\n",
        "                    [-286,0.00008], \n",
        "                    [-312,0.000029], \n",
        "                    [-309,-0.000057], \n",
        "                    [-290,0.001656],\n",
        "                    [-329,0.000131], \n",
        "                    [-305,-0.000064],\n",
        "\n",
        "                    # NEW OPTIMIZATION DATA                    \n",
        "                    ])\n",
        "\n",
        "# Convert to dataframe\n",
        "y_train = pd.DataFrame(y_train, columns=unique_objectives)\n",
        "y_train"
      ]
    },
    {
      "cell_type": "code",
      "execution_count": 10,
      "metadata": {},
      "outputs": [],
      "source": [
        "parameters=[\n",
        "        {\n",
        "            \"name\": \"tungstate_concentration\",\n",
        "            \"type\": \"range\",\n",
        "            \"bounds\": [0.05, 0.2],\n",
        "        },\n",
        "        {\n",
        "            \"name\": \"current_density\",\n",
        "            \"type\": \"range\",\n",
        "            \"bounds\": [5, 125],\n",
        "        },\n",
        "        {\n",
        "            \"name\": \"deposition_time\",\n",
        "            \"type\": \"range\",\n",
        "            \"bounds\": [60, 600],\n",
        "        },\n",
        "        {\n",
        "            \"name\": \"pH\",\n",
        "            \"type\": \"range\",\n",
        "            \"bounds\": [5, 10],\n",
        "        }\n",
        "        ]"
      ]
    },
    {
      "cell_type": "markdown",
      "metadata": {},
      "source": [
        "### Generation Strategy"
      ]
    },
    {
      "cell_type": "code",
      "execution_count": 12,
      "metadata": {
        "colab": {
          "base_uri": "https://localhost:8080/"
        },
        "id": "npCeW3_9pjyG",
        "outputId": "541a9786-46ec-4bc8-d125-6709f14e237c"
      },
      "outputs": [],
      "source": [
        "# Specify a custom generation strategy - Skips the pseudo-random initial suggested points \n",
        "gs = GenerationStrategy(\n",
        "    steps=[\n",
        "        # Quasi-random Sobol sequence along with my initial data\n",
        "        # GenerationStep(\n",
        "            # model=Models.SOBOL, \n",
        "            # num_trials=5,  # How many trials to produce during generation step\n",
        "            # min_trials_observed=3,  # How many trials to be completed before next model\n",
        "            # max_parallelism=5  # Max parallelism for this step\n",
        "        # ),\n",
        "        ################\n",
        "        # Skips SOBOL sampling step (which is the default first step) and uses the initial data provided\n",
        "        # Bayesian optimization step (requires data obtained from previous phase and learns\n",
        "        # from all data available at the time of each new candidate generation call)\n",
        "        GenerationStep(\n",
        "            model = Models.MOO,\n",
        "            # Uses qNEHVI by default, use instead of GPEI (for single) and PAREGO (for multi but worse than qNEHVI)\n",
        "            # Not passing any information about the observation noise; so the model is inferring a Gaussian noise level on the observations - SingleTaskGP\n",
        "            num_trials=-1,  # No limitation on how many trials should be produced from this step\n",
        "            max_parallelism=3  # BATCH/Parallelism limit for this step, often lower than for Sobol\n",
        "                    )\n",
        "            ]\n",
        ")"
      ]
    },
    {
      "cell_type": "markdown",
      "metadata": {},
      "source": [
        "### Setup the experiment"
      ]
    },
    {
      "cell_type": "code",
      "execution_count": 13,
      "metadata": {},
      "outputs": [
        {
          "name": "stderr",
          "output_type": "stream",
          "text": [
            "[INFO 02-09 20:26:46] ax.service.ax_client: Starting optimization with verbose logging. To disable logging, set the `verbose_logging` argument to `False`. Note that float values in the logs are rounded to 6 decimal points.\n",
            "[INFO 02-09 20:26:46] ax.service.utils.instantiation: Inferred value type of ParameterType.FLOAT for parameter tungstate_concentration. If that is not the expected value type, you can explicitly specify 'value_type' ('int', 'float', 'bool' or 'str') in parameter dict.\n",
            "[INFO 02-09 20:26:46] ax.service.utils.instantiation: Inferred value type of ParameterType.INT for parameter current_density. If that is not the expected value type, you can explicitly specify 'value_type' ('int', 'float', 'bool' or 'str') in parameter dict.\n",
            "[INFO 02-09 20:26:46] ax.service.utils.instantiation: Inferred value type of ParameterType.INT for parameter deposition_time. If that is not the expected value type, you can explicitly specify 'value_type' ('int', 'float', 'bool' or 'str') in parameter dict.\n",
            "[INFO 02-09 20:26:46] ax.service.utils.instantiation: Inferred value type of ParameterType.INT for parameter pH. If that is not the expected value type, you can explicitly specify 'value_type' ('int', 'float', 'bool' or 'str') in parameter dict.\n",
            "[INFO 02-09 20:26:46] ax.service.utils.instantiation: Created search space: SearchSpace(parameters=[RangeParameter(name='tungstate_concentration', parameter_type=FLOAT, range=[0.05, 0.2]), RangeParameter(name='current_density', parameter_type=INT, range=[5, 125]), RangeParameter(name='deposition_time', parameter_type=INT, range=[60, 600]), RangeParameter(name='pH', parameter_type=INT, range=[5, 10])], parameter_constraints=[]).\n"
          ]
        }
      ],
      "source": [
        "ax_client = AxClient(generation_strategy=gs)\n",
        "ax_client.create_experiment(\n",
        "    name=\"NiW\",\n",
        "    parameters=parameters,\n",
        "    objectives={\n",
        "        \"overpotential\": ObjectiveProperties(minimize=False, threshold = -350), # How ambitious + what is max (min) allowable value?\n",
        "        \"overpotential_slope\": ObjectiveProperties(minimize=False, threshold = -0.001) # Not clear, looking for >=0 if possible\n",
        "    },\n",
        "    overwrite_existing_experiment=False, # I am saving my data anyway, but just to make sure\n",
        "    is_test = False, # Set this to False when running a REAL experiment\n",
        "    choose_generation_strategy_kwargs = {\"max_parallelism_override\": 3} # Parallel/Batch evaluation, max batch size = 3\n",
        ")"
      ]
    },
    {
      "cell_type": "markdown",
      "metadata": {},
      "source": [
        "### Input training data (run this only the FIRST time)"
      ]
    },
    {
      "cell_type": "markdown",
      "metadata": {},
      "source": [
        "Doing this manually while also specifying parameter data types, to avoid odd errors (e.g. initial data is one type, while in the dataframe it is another + need to use **iloc** function to iterate through dataframe)."
      ]
    },
    {
      "cell_type": "code",
      "execution_count": 14,
      "metadata": {},
      "outputs": [
        {
          "name": "stderr",
          "output_type": "stream",
          "text": [
            "[INFO 02-09 20:26:51] ax.core.experiment: Attached custom parameterizations [{'tungstate_concentration': 0.05, 'current_density': 10, 'deposition_time': 500, 'pH': 5}] as trial 0.\n",
            "[INFO 02-09 20:26:51] ax.service.ax_client: Completed trial 0 with data: {'overpotential': (-358.0, None), 'overpotential_slope': (0.00015, None)}.\n",
            "[INFO 02-09 20:26:51] ax.core.experiment: Attached custom parameterizations [{'tungstate_concentration': 0.05, 'current_density': 50, 'deposition_time': 300, 'pH': 6}] as trial 1.\n",
            "[INFO 02-09 20:26:51] ax.service.ax_client: Completed trial 1 with data: {'overpotential': (-319.0, None), 'overpotential_slope': (6.6e-05, None)}.\n",
            "[INFO 02-09 20:26:51] ax.core.experiment: Attached custom parameterizations [{'tungstate_concentration': 0.1, 'current_density': 10, 'deposition_time': 300, 'pH': 7}] as trial 2.\n",
            "[INFO 02-09 20:26:51] ax.service.ax_client: Completed trial 2 with data: {'overpotential': (-377.0, None), 'overpotential_slope': (0.0001, None)}.\n",
            "[INFO 02-09 20:26:51] ax.core.experiment: Attached custom parameterizations [{'tungstate_concentration': 0.1, 'current_density': 10, 'deposition_time': 600, 'pH': 8}] as trial 3.\n",
            "[INFO 02-09 20:26:51] ax.service.ax_client: Completed trial 3 with data: {'overpotential': (-319.0, None), 'overpotential_slope': (-0.000518, None)}.\n",
            "[INFO 02-09 20:26:51] ax.core.experiment: Attached custom parameterizations [{'tungstate_concentration': 0.1, 'current_density': 50, 'deposition_time': 600, 'pH': 7}] as trial 4.\n",
            "[INFO 02-09 20:26:51] ax.service.ax_client: Completed trial 4 with data: {'overpotential': (-286.0, None), 'overpotential_slope': (8e-05, None)}.\n",
            "[INFO 02-09 20:26:51] ax.core.experiment: Attached custom parameterizations [{'tungstate_concentration': 0.1, 'current_density': 100, 'deposition_time': 600, 'pH': 10}] as trial 5.\n",
            "[INFO 02-09 20:26:51] ax.service.ax_client: Completed trial 5 with data: {'overpotential': (-312.0, None), 'overpotential_slope': (2.9e-05, None)}.\n",
            "[INFO 02-09 20:26:51] ax.core.experiment: Attached custom parameterizations [{'tungstate_concentration': 0.1, 'current_density': 50, 'deposition_time': 400, 'pH': 6}] as trial 6.\n",
            "[INFO 02-09 20:26:51] ax.service.ax_client: Completed trial 6 with data: {'overpotential': (-309.0, None), 'overpotential_slope': (-5.7e-05, None)}.\n",
            "[INFO 02-09 20:26:51] ax.core.experiment: Attached custom parameterizations [{'tungstate_concentration': 0.1, 'current_density': 30, 'deposition_time': 600, 'pH': 8}] as trial 7.\n",
            "[INFO 02-09 20:26:51] ax.service.ax_client: Completed trial 7 with data: {'overpotential': (-290.0, None), 'overpotential_slope': (0.001656, None)}.\n",
            "[INFO 02-09 20:26:51] ax.core.experiment: Attached custom parameterizations [{'tungstate_concentration': 0.15, 'current_density': 10, 'deposition_time': 600, 'pH': 9}] as trial 8.\n",
            "[INFO 02-09 20:26:51] ax.service.ax_client: Completed trial 8 with data: {'overpotential': (-329.0, None), 'overpotential_slope': (0.000131, None)}.\n",
            "[INFO 02-09 20:26:51] ax.core.experiment: Attached custom parameterizations [{'tungstate_concentration': 0.15, 'current_density': 50, 'deposition_time': 300, 'pH': 9}] as trial 9.\n",
            "[INFO 02-09 20:26:51] ax.service.ax_client: Completed trial 9 with data: {'overpotential': (-305.0, None), 'overpotential_slope': (-6.4e-05, None)}.\n"
          ]
        }
      ],
      "source": [
        "# Initialize trial index\n",
        "trial_index = 0\n",
        "\n",
        "# Attach the training data\n",
        "for i in range(n_train):\n",
        "    trial_parameters = {\n",
        "        param: int(value) if param in [\"current_density\", \"deposition_time\", \"pH\"] else float(value)\n",
        "        for param, value in X_train.iloc[i, :].items()\n",
        "    }\n",
        "    \n",
        "    # Create a dictionary with the raw data for each objective\n",
        "    trial_raw_data = {obj: float(value) for obj, value in zip(unique_objectives, y_train.iloc[i])}\n",
        "    \n",
        "    # Attach trial and complete it\n",
        "    ax_client.attach_trial(trial_parameters)\n",
        "    ax_client.complete_trial(trial_index=trial_index, raw_data=trial_raw_data)\n",
        "    \n",
        "    # Increment trial index\n",
        "    trial_index += 1"
      ]
    },
    {
      "cell_type": "markdown",
      "metadata": {},
      "source": [
        "### Run optimization and get next suggestions (repeat cell as needed)"
      ]
    },
    {
      "cell_type": "code",
      "execution_count": 15,
      "metadata": {},
      "outputs": [
        {
          "name": "stderr",
          "output_type": "stream",
          "text": [
            "[INFO 02-09 20:26:57] ax.service.ax_client: Generated new trial 10 with parameters {'tungstate_concentration': 0.096083, 'current_density': 49, 'deposition_time': 600, 'pH': 9}.\n",
            "c:\\Users\\lordm\\Desktop\\Projects\\code_mqs\\.venv\\lib\\site-packages\\ax\\core\\data.py:292: FutureWarning: The behavior of DataFrame concatenation with empty or all-NA entries is deprecated. In a future version, this will no longer exclude empty or all-NA columns when determining the result dtypes. To retain the old behavior, exclude the relevant entries before the concat operation.\n",
            "  return cls(df=pd.concat(dfs, axis=0, sort=True))\n",
            "[INFO 02-09 20:26:57] ax.modelbridge.torch: The observations are identical to the last set of observations used to fit the model. Skipping model fitting.\n"
          ]
        },
        {
          "name": "stdout",
          "output_type": "stream",
          "text": [
            "next suggested experiment:  {'tungstate_concentration': 0.09608333121237567, 'current_density': 49, 'deposition_time': 600, 'pH': 9}\n"
          ]
        },
        {
          "name": "stderr",
          "output_type": "stream",
          "text": [
            "[INFO 02-09 20:27:02] ax.service.ax_client: Generated new trial 11 with parameters {'tungstate_concentration': 0.135191, 'current_density': 45, 'deposition_time': 600, 'pH': 8}.\n",
            "c:\\Users\\lordm\\Desktop\\Projects\\code_mqs\\.venv\\lib\\site-packages\\ax\\core\\data.py:292: FutureWarning: The behavior of DataFrame concatenation with empty or all-NA entries is deprecated. In a future version, this will no longer exclude empty or all-NA columns when determining the result dtypes. To retain the old behavior, exclude the relevant entries before the concat operation.\n",
            "  return cls(df=pd.concat(dfs, axis=0, sort=True))\n",
            "[INFO 02-09 20:27:02] ax.modelbridge.torch: The observations are identical to the last set of observations used to fit the model. Skipping model fitting.\n"
          ]
        },
        {
          "name": "stdout",
          "output_type": "stream",
          "text": [
            "next suggested experiment:  {'tungstate_concentration': 0.13519093174888336, 'current_density': 45, 'deposition_time': 600, 'pH': 8}\n"
          ]
        },
        {
          "name": "stderr",
          "output_type": "stream",
          "text": [
            "[INFO 02-09 20:27:06] ax.service.ax_client: Generated new trial 12 with parameters {'tungstate_concentration': 0.062703, 'current_density': 44, 'deposition_time': 600, 'pH': 8}.\n"
          ]
        },
        {
          "name": "stdout",
          "output_type": "stream",
          "text": [
            "next suggested experiment:  {'tungstate_concentration': 0.06270290109136085, 'current_density': 44, 'deposition_time': 600, 'pH': 8}\n"
          ]
        }
      ],
      "source": [
        "for i in range(3): # generate a batch of 3 new trials\n",
        "    next_experiment, trial_index = ax_client.get_next_trial() \n",
        "    print(\"next suggested experiment: \", next_experiment)"
      ]
    },
    {
      "cell_type": "code",
      "execution_count": null,
      "metadata": {},
      "outputs": [],
      "source": [
        "# Confirm running trials\n",
        "ax_client.generation_strategy.trials_as_df"
      ]
    },
    {
      "cell_type": "markdown",
      "metadata": {},
      "source": [
        "### Perform lab experiments and get new objectives"
      ]
    },
    {
      "cell_type": "code",
      "execution_count": 16,
      "metadata": {},
      "outputs": [
        {
          "name": "stderr",
          "output_type": "stream",
          "text": [
            "[INFO 02-09 20:27:11] ax.service.ax_client: Completed trial 10 with data: {'overpotential': (-260.0, None), 'overpotential_slope': (-0.002, None)}.\n",
            "[INFO 02-09 20:27:11] ax.service.ax_client: Completed trial 11 with data: {'overpotential': (-255.0, None), 'overpotential_slope': (-0.02, None)}.\n",
            "[INFO 02-09 20:27:11] ax.service.ax_client: Completed trial 12 with data: {'overpotential': (-245.0, None), 'overpotential_slope': (-0.0004, None)}.\n"
          ]
        }
      ],
      "source": [
        "# Complete pendings trials\n",
        "# We manually set SEM = None to indicate that we know the function to be noisy, but would like Ax to estimate the noise for us.\n",
        "ax_client.complete_trial(trial_index=10, raw_data={'overpotential': (-260.0, None), 'overpotential_slope': (-0.002, None)})\n",
        "ax_client.complete_trial(trial_index=11, raw_data={'overpotential': (-255.0, None), 'overpotential_slope': (-0.02, None)})\n",
        "ax_client.complete_trial(trial_index=12, raw_data={'overpotential': (-245.0, None), 'overpotential_slope': (-0.0004, None)})"
      ]
    },
    {
      "cell_type": "code",
      "execution_count": null,
      "metadata": {},
      "outputs": [],
      "source": [
        "# Confirm completed trials\n",
        "ax_client.generation_strategy.trials_as_df"
      ]
    },
    {
      "cell_type": "markdown",
      "metadata": {},
      "source": [
        "#### Repeat etc."
      ]
    },
    {
      "cell_type": "code",
      "execution_count": null,
      "metadata": {},
      "outputs": [],
      "source": [
        "for i in range(3): # generate a batch of 3 new trials\n",
        "    next_experiment, trial_index = ax_client.get_next_trial() \n",
        "    print(\"next suggested experiment: \", next_experiment)"
      ]
    },
    {
      "cell_type": "code",
      "execution_count": null,
      "metadata": {},
      "outputs": [],
      "source": [
        "ax_client.complete_trial(trial_index=13, raw_data={'overpotential': (-245.0, None), 'overpotential_slope': (-0.002, None)})\n",
        "ax_client.complete_trial(trial_index=14, raw_data={'overpotential': (-259.0, None), 'overpotential_slope': (+0.00004, None)})\n",
        "ax_client.complete_trial(trial_index=15, raw_data={'overpotential': (-269.0, None), 'overpotential_slope': (-0.0034, None)})"
      ]
    },
    {
      "cell_type": "code",
      "execution_count": null,
      "metadata": {},
      "outputs": [],
      "source": [
        "ax_client.generation_strategy.trials_as_df"
      ]
    },
    {
      "cell_type": "markdown",
      "metadata": {},
      "source": [
        "### Save/Load the experiment"
      ]
    },
    {
      "cell_type": "code",
      "execution_count": 17,
      "metadata": {},
      "outputs": [
        {
          "name": "stderr",
          "output_type": "stream",
          "text": [
            "[INFO 02-09 20:27:19] ax.service.ax_client: Saved JSON-serialized state of optimization to `ax_client_snapshot.json`.\n"
          ]
        }
      ],
      "source": [
        "# Save the experiment state to disk.\n",
        "ax_client.save_to_json_file(\"ax_client_snapshot.json\")  "
      ]
    },
    {
      "cell_type": "code",
      "execution_count": 18,
      "metadata": {},
      "outputs": [
        {
          "name": "stderr",
          "output_type": "stream",
          "text": [
            "[INFO 02-09 20:27:20] ax.service.ax_client: Starting optimization with verbose logging. To disable logging, set the `verbose_logging` argument to `False`. Note that float values in the logs are rounded to 6 decimal points.\n"
          ]
        }
      ],
      "source": [
        "# Restore the experiment state from disk.  \n",
        "ax_client = AxClient.load_from_json_file(\"ax_client_snapshot.json\") \n",
        "# For custom filepath, pass `filepath` argument.\n",
        "# For any loading issues: https://github.com/facebook/Ax/issues/1565"
      ]
    },
    {
      "cell_type": "markdown",
      "metadata": {},
      "source": [
        "### Confirm model instantiation and data so far"
      ]
    },
    {
      "cell_type": "code",
      "execution_count": 19,
      "metadata": {},
      "outputs": [
        {
          "name": "stderr",
          "output_type": "stream",
          "text": [
            "[INFO 02-09 20:33:37] ax.service.ax_client: get_model_predictions() has been called when no model is instantiated. Attempting to instantiate the model for the first time.\n"
          ]
        },
        {
          "name": "stdout",
          "output_type": "stream",
          "text": [
            "model: None\n"
          ]
        },
        {
          "name": "stderr",
          "output_type": "stream",
          "text": [
            "[INFO 02-09 20:33:38] ax.service.ax_client: Successfully instantiated a model for the first time.\n",
            "[INFO 02-09 20:33:38] ax.modelbridge.torch: The observations are identical to the last set of observations used to fit the model. Skipping model fitting.\n"
          ]
        }
      ],
      "source": [
        "print('model:', ax_client.generation_strategy.model)\n",
        "ax_client.fit_model()\n",
        "\n",
        "# ax.service.ax_client: Successfully instantiated a model for the first time. ==> ?\n",
        "# Maybe run this before get_next_trial() ?"
      ]
    },
    {
      "cell_type": "code",
      "execution_count": 20,
      "metadata": {},
      "outputs": [
        {
          "data": {
            "text/html": [
              "<div>\n",
              "<style scoped>\n",
              "    .dataframe tbody tr th:only-of-type {\n",
              "        vertical-align: middle;\n",
              "    }\n",
              "\n",
              "    .dataframe tbody tr th {\n",
              "        vertical-align: top;\n",
              "    }\n",
              "\n",
              "    .dataframe thead th {\n",
              "        text-align: right;\n",
              "    }\n",
              "</style>\n",
              "<table border=\"1\" class=\"dataframe\">\n",
              "  <thead>\n",
              "    <tr style=\"text-align: right;\">\n",
              "      <th></th>\n",
              "      <th>arm_name</th>\n",
              "      <th>metric_name</th>\n",
              "      <th>mean</th>\n",
              "      <th>sem</th>\n",
              "      <th>trial_index</th>\n",
              "    </tr>\n",
              "  </thead>\n",
              "  <tbody>\n",
              "    <tr>\n",
              "      <th>0</th>\n",
              "      <td>0_0</td>\n",
              "      <td>overpotential</td>\n",
              "      <td>-358.000000</td>\n",
              "      <td>NaN</td>\n",
              "      <td>0</td>\n",
              "    </tr>\n",
              "    <tr>\n",
              "      <th>1</th>\n",
              "      <td>0_0</td>\n",
              "      <td>overpotential_slope</td>\n",
              "      <td>0.000150</td>\n",
              "      <td>NaN</td>\n",
              "      <td>0</td>\n",
              "    </tr>\n",
              "    <tr>\n",
              "      <th>2</th>\n",
              "      <td>1_0</td>\n",
              "      <td>overpotential</td>\n",
              "      <td>-319.000000</td>\n",
              "      <td>NaN</td>\n",
              "      <td>1</td>\n",
              "    </tr>\n",
              "    <tr>\n",
              "      <th>3</th>\n",
              "      <td>1_0</td>\n",
              "      <td>overpotential_slope</td>\n",
              "      <td>0.000066</td>\n",
              "      <td>NaN</td>\n",
              "      <td>1</td>\n",
              "    </tr>\n",
              "    <tr>\n",
              "      <th>4</th>\n",
              "      <td>2_0</td>\n",
              "      <td>overpotential</td>\n",
              "      <td>-377.000000</td>\n",
              "      <td>NaN</td>\n",
              "      <td>2</td>\n",
              "    </tr>\n",
              "    <tr>\n",
              "      <th>5</th>\n",
              "      <td>2_0</td>\n",
              "      <td>overpotential_slope</td>\n",
              "      <td>0.000100</td>\n",
              "      <td>NaN</td>\n",
              "      <td>2</td>\n",
              "    </tr>\n",
              "    <tr>\n",
              "      <th>6</th>\n",
              "      <td>3_0</td>\n",
              "      <td>overpotential</td>\n",
              "      <td>-319.000000</td>\n",
              "      <td>NaN</td>\n",
              "      <td>3</td>\n",
              "    </tr>\n",
              "    <tr>\n",
              "      <th>7</th>\n",
              "      <td>3_0</td>\n",
              "      <td>overpotential_slope</td>\n",
              "      <td>-0.000518</td>\n",
              "      <td>NaN</td>\n",
              "      <td>3</td>\n",
              "    </tr>\n",
              "    <tr>\n",
              "      <th>8</th>\n",
              "      <td>4_0</td>\n",
              "      <td>overpotential</td>\n",
              "      <td>-286.000000</td>\n",
              "      <td>NaN</td>\n",
              "      <td>4</td>\n",
              "    </tr>\n",
              "    <tr>\n",
              "      <th>9</th>\n",
              "      <td>4_0</td>\n",
              "      <td>overpotential_slope</td>\n",
              "      <td>0.000080</td>\n",
              "      <td>NaN</td>\n",
              "      <td>4</td>\n",
              "    </tr>\n",
              "    <tr>\n",
              "      <th>10</th>\n",
              "      <td>5_0</td>\n",
              "      <td>overpotential</td>\n",
              "      <td>-312.000000</td>\n",
              "      <td>NaN</td>\n",
              "      <td>5</td>\n",
              "    </tr>\n",
              "    <tr>\n",
              "      <th>11</th>\n",
              "      <td>5_0</td>\n",
              "      <td>overpotential_slope</td>\n",
              "      <td>0.000029</td>\n",
              "      <td>NaN</td>\n",
              "      <td>5</td>\n",
              "    </tr>\n",
              "    <tr>\n",
              "      <th>12</th>\n",
              "      <td>6_0</td>\n",
              "      <td>overpotential</td>\n",
              "      <td>-309.000000</td>\n",
              "      <td>NaN</td>\n",
              "      <td>6</td>\n",
              "    </tr>\n",
              "    <tr>\n",
              "      <th>13</th>\n",
              "      <td>6_0</td>\n",
              "      <td>overpotential_slope</td>\n",
              "      <td>-0.000057</td>\n",
              "      <td>NaN</td>\n",
              "      <td>6</td>\n",
              "    </tr>\n",
              "    <tr>\n",
              "      <th>14</th>\n",
              "      <td>7_0</td>\n",
              "      <td>overpotential</td>\n",
              "      <td>-290.000000</td>\n",
              "      <td>NaN</td>\n",
              "      <td>7</td>\n",
              "    </tr>\n",
              "    <tr>\n",
              "      <th>15</th>\n",
              "      <td>7_0</td>\n",
              "      <td>overpotential_slope</td>\n",
              "      <td>0.001656</td>\n",
              "      <td>NaN</td>\n",
              "      <td>7</td>\n",
              "    </tr>\n",
              "    <tr>\n",
              "      <th>16</th>\n",
              "      <td>8_0</td>\n",
              "      <td>overpotential</td>\n",
              "      <td>-329.000000</td>\n",
              "      <td>NaN</td>\n",
              "      <td>8</td>\n",
              "    </tr>\n",
              "    <tr>\n",
              "      <th>17</th>\n",
              "      <td>8_0</td>\n",
              "      <td>overpotential_slope</td>\n",
              "      <td>0.000131</td>\n",
              "      <td>NaN</td>\n",
              "      <td>8</td>\n",
              "    </tr>\n",
              "    <tr>\n",
              "      <th>18</th>\n",
              "      <td>9_0</td>\n",
              "      <td>overpotential</td>\n",
              "      <td>-305.000000</td>\n",
              "      <td>NaN</td>\n",
              "      <td>9</td>\n",
              "    </tr>\n",
              "    <tr>\n",
              "      <th>19</th>\n",
              "      <td>9_0</td>\n",
              "      <td>overpotential_slope</td>\n",
              "      <td>-0.000064</td>\n",
              "      <td>NaN</td>\n",
              "      <td>9</td>\n",
              "    </tr>\n",
              "    <tr>\n",
              "      <th>20</th>\n",
              "      <td>10_0</td>\n",
              "      <td>overpotential</td>\n",
              "      <td>-260.000000</td>\n",
              "      <td>NaN</td>\n",
              "      <td>10</td>\n",
              "    </tr>\n",
              "    <tr>\n",
              "      <th>21</th>\n",
              "      <td>10_0</td>\n",
              "      <td>overpotential_slope</td>\n",
              "      <td>-0.002000</td>\n",
              "      <td>NaN</td>\n",
              "      <td>10</td>\n",
              "    </tr>\n",
              "    <tr>\n",
              "      <th>22</th>\n",
              "      <td>11_0</td>\n",
              "      <td>overpotential</td>\n",
              "      <td>-255.000000</td>\n",
              "      <td>NaN</td>\n",
              "      <td>11</td>\n",
              "    </tr>\n",
              "    <tr>\n",
              "      <th>23</th>\n",
              "      <td>11_0</td>\n",
              "      <td>overpotential_slope</td>\n",
              "      <td>-0.020000</td>\n",
              "      <td>NaN</td>\n",
              "      <td>11</td>\n",
              "    </tr>\n",
              "    <tr>\n",
              "      <th>24</th>\n",
              "      <td>12_0</td>\n",
              "      <td>overpotential</td>\n",
              "      <td>-245.000000</td>\n",
              "      <td>NaN</td>\n",
              "      <td>12</td>\n",
              "    </tr>\n",
              "    <tr>\n",
              "      <th>25</th>\n",
              "      <td>12_0</td>\n",
              "      <td>overpotential_slope</td>\n",
              "      <td>-0.000400</td>\n",
              "      <td>NaN</td>\n",
              "      <td>12</td>\n",
              "    </tr>\n",
              "  </tbody>\n",
              "</table>\n",
              "</div>"
            ],
            "text/plain": [
              "   arm_name          metric_name        mean  sem  trial_index\n",
              "0       0_0        overpotential -358.000000  NaN            0\n",
              "1       0_0  overpotential_slope    0.000150  NaN            0\n",
              "2       1_0        overpotential -319.000000  NaN            1\n",
              "3       1_0  overpotential_slope    0.000066  NaN            1\n",
              "4       2_0        overpotential -377.000000  NaN            2\n",
              "5       2_0  overpotential_slope    0.000100  NaN            2\n",
              "6       3_0        overpotential -319.000000  NaN            3\n",
              "7       3_0  overpotential_slope   -0.000518  NaN            3\n",
              "8       4_0        overpotential -286.000000  NaN            4\n",
              "9       4_0  overpotential_slope    0.000080  NaN            4\n",
              "10      5_0        overpotential -312.000000  NaN            5\n",
              "11      5_0  overpotential_slope    0.000029  NaN            5\n",
              "12      6_0        overpotential -309.000000  NaN            6\n",
              "13      6_0  overpotential_slope   -0.000057  NaN            6\n",
              "14      7_0        overpotential -290.000000  NaN            7\n",
              "15      7_0  overpotential_slope    0.001656  NaN            7\n",
              "16      8_0        overpotential -329.000000  NaN            8\n",
              "17      8_0  overpotential_slope    0.000131  NaN            8\n",
              "18      9_0        overpotential -305.000000  NaN            9\n",
              "19      9_0  overpotential_slope   -0.000064  NaN            9\n",
              "20     10_0        overpotential -260.000000  NaN           10\n",
              "21     10_0  overpotential_slope   -0.002000  NaN           10\n",
              "22     11_0        overpotential -255.000000  NaN           11\n",
              "23     11_0  overpotential_slope   -0.020000  NaN           11\n",
              "24     12_0        overpotential -245.000000  NaN           12\n",
              "25     12_0  overpotential_slope   -0.000400  NaN           12"
            ]
          },
          "execution_count": 20,
          "metadata": {},
          "output_type": "execute_result"
        }
      ],
      "source": [
        "ax_client.experiment.fetch_data().df"
      ]
    },
    {
      "cell_type": "markdown",
      "metadata": {},
      "source": [
        "### Get Pareto optimal parameters"
      ]
    },
    {
      "cell_type": "code",
      "execution_count": 22,
      "metadata": {
        "colab": {
          "base_uri": "https://localhost:8080/"
        },
        "id": "6Uh9FZFuq-mR",
        "outputId": "736d8511-54f5-469a-d112-57be5a6cc60a"
      },
      "outputs": [
        {
          "ename": "TypeError",
          "evalue": "AxClient.get_pareto_optimal_parameters() got an unexpected keyword argument 'transform_outcomes_and_configs'",
          "output_type": "error",
          "traceback": [
            "\u001b[1;31m---------------------------------------------------------------------------\u001b[0m",
            "\u001b[1;31mTypeError\u001b[0m                                 Traceback (most recent call last)",
            "Cell \u001b[1;32mIn[22], line 1\u001b[0m\n\u001b[1;32m----> 1\u001b[0m pareto_optimal_params \u001b[38;5;241m=\u001b[39m \u001b[43max_client\u001b[49m\u001b[38;5;241;43m.\u001b[39;49m\u001b[43mget_pareto_optimal_parameters\u001b[49m\u001b[43m(\u001b[49m\u001b[43muse_model_predictions\u001b[49m\u001b[38;5;241;43m=\u001b[39;49m\u001b[38;5;28;43;01mTrue\u001b[39;49;00m\u001b[43m,\u001b[49m\n\u001b[0;32m      2\u001b[0m \u001b[43m                                                                \u001b[49m\u001b[43mtransform_outcomes_and_configs\u001b[49m\u001b[38;5;241;43m=\u001b[39;49m\u001b[38;5;28;43;01mFalse\u001b[39;49;00m\u001b[43m)\u001b[49m \n\u001b[0;32m      3\u001b[0m \u001b[38;5;66;03m# use_model_predictions=True by default, also try False?\u001b[39;00m\n\u001b[0;32m      4\u001b[0m \u001b[38;5;28mprint\u001b[39m(\u001b[38;5;124m\"\u001b[39m\u001b[38;5;124mPareto optimal parameters:\u001b[39m\u001b[38;5;124m\"\u001b[39m, pareto_optimal_params)\n",
            "\u001b[1;31mTypeError\u001b[0m: AxClient.get_pareto_optimal_parameters() got an unexpected keyword argument 'transform_outcomes_and_configs'"
          ]
        }
      ],
      "source": [
        "pareto_optimal_params = ax_client.get_pareto_optimal_parameters(use_model_predictions=True) \n",
        "# use_model_predictions=True by default, also try False?\n",
        "print(\"Pareto optimal parameters:\", pareto_optimal_params)"
      ]
    },
    {
      "cell_type": "markdown",
      "metadata": {},
      "source": [
        "### Plot (Posterior) Pareto front "
      ]
    },
    {
      "cell_type": "code",
      "execution_count": null,
      "metadata": {},
      "outputs": [],
      "source": [
        "# Plotting imports and initialization\n",
        "from ax.utils.notebook.plotting import render, init_notebook_plotting\n",
        "from ax.plot.pareto_utils import compute_posterior_pareto_frontier\n",
        "from ax.plot.pareto_frontier import plot_pareto_frontier"
      ]
    },
    {
      "cell_type": "code",
      "execution_count": null,
      "metadata": {},
      "outputs": [],
      "source": [
        "objectives = ax_client.experiment.optimization_config.objective.objectives\n",
        "frontier = compute_posterior_pareto_frontier(\n",
        "    experiment=ax_client.experiment,\n",
        "    data=ax_client.experiment.fetch_data(),\n",
        "    primary_objective=objectives[1].metric,\n",
        "    secondary_objective=objectives[0].metric,\n",
        "    absolute_metrics=[\"overpotential\", \"overpotential_slope\"],\n",
        "    num_points=16\n",
        ")\n",
        "render(plot_pareto_frontier(frontier, CI_level=0.90))"
      ]
    },
    {
      "cell_type": "markdown",
      "metadata": {},
      "source": [
        "## Hypervolume: Evaluating the Quality of a Pareto Front"
      ]
    },
    {
      "cell_type": "markdown",
      "metadata": {},
      "source": [
        "#### Hypervolume for specific trial"
      ]
    },
    {
      "cell_type": "code",
      "execution_count": null,
      "metadata": {},
      "outputs": [],
      "source": [
        "# Do this for every trial - by default calculates hypervolume UP TO and INCLUDING the current trial\n",
        "# Observe difference betweeen use_model_predictions=True/False\n",
        "\n",
        "trial_indices = [15]\n",
        "model_true = ax_client.get_hypervolume(trial_indices = trial_indices, use_model_predictions=True)\n",
        "model_false = ax_client.get_hypervolume(trial_indices = trial_indices, use_model_predictions=False)\n",
        "\n",
        "print(f'Hypervolume With Model Predictions: {model_true}, Without: {model_false}, For trial: {trial_indices}')"
      ]
    },
    {
      "cell_type": "code",
      "execution_count": null,
      "metadata": {},
      "outputs": [],
      "source": [
        "# OR use this to get the optimization trace of the ENTIRE experiment i.e. all trials:\n",
        "# Equivalent to calling _get_hypervolume repeatedly, with an increasing sequence of trial_indices \n",
        "# and with use_model_predictions = FALSE, though this does it more efficiently.\n",
        "hypervolume_trace = ax_client.get_trace()\n",
        "print(hypervolume_trace)"
      ]
    },
    {
      "cell_type": "markdown",
      "metadata": {},
      "source": [
        "#### Hypervolume over iterations = Optimization trace for multi-objective "
      ]
    },
    {
      "cell_type": "code",
      "execution_count": null,
      "metadata": {},
      "outputs": [],
      "source": [
        "# Plot the hypervolume trace\n",
        "plt.plot(range(1, len(hypervolume_trace) + 1), hypervolume_trace, label='Hypervolume', marker='o', linestyle='-', color='b')\n",
        "plt.xlabel('Iteration')\n",
        "plt.ylabel('Hypervolume')\n",
        "plt.title('Hypervolume over Iterations')\n",
        "plt.grid(True)\n",
        "plt.legend()\n",
        "plt.show()"
      ]
    },
    {
      "cell_type": "markdown",
      "metadata": {},
      "source": [
        "## Visualizations"
      ]
    },
    {
      "cell_type": "code",
      "execution_count": null,
      "metadata": {},
      "outputs": [],
      "source": [
        "from ax.modelbridge.cross_validation import cross_validate\n",
        "from ax.plot.diagnostic import interact_cross_validation\n",
        "from ax.plot.contour import interact_contour\n",
        "from ax.plot.scatter import (\n",
        "    interact_fitted,\n",
        "    plot_objective_vs_constraints,\n",
        "    tile_fitted,\n",
        ")\n",
        "from ax.plot.slice import plot_slice"
      ]
    },
    {
      "cell_type": "markdown",
      "metadata": {},
      "source": [
        "### Cross validation"
      ]
    },
    {
      "cell_type": "code",
      "execution_count": null,
      "metadata": {},
      "outputs": [],
      "source": [
        "model = ax_client.generation_strategy.model\n",
        "cv_results = cross_validate(model, folds= -1) # default folds\n",
        "render(interact_cross_validation(cv_results))"
      ]
    },
    {
      "cell_type": "markdown",
      "metadata": {},
      "source": [
        "#### Contour plot"
      ]
    },
    {
      "cell_type": "code",
      "execution_count": null,
      "metadata": {},
      "outputs": [],
      "source": [
        "# Interactive contour plots, able to switch between different parameter-objective combinations.\n",
        "render(interact_contour(model, metric_name=\"overpotential\"))"
      ]
    },
    {
      "cell_type": "markdown",
      "metadata": {},
      "source": [
        "#### Tradeoff plot "
      ]
    },
    {
      "cell_type": "code",
      "execution_count": null,
      "metadata": {},
      "outputs": [],
      "source": [
        "render(plot_objective_vs_constraints(model, \"overpotential\", rel=False)) # rel = False"
      ]
    },
    {
      "cell_type": "markdown",
      "metadata": {},
      "source": [
        "#### Slice plot"
      ]
    },
    {
      "cell_type": "code",
      "execution_count": null,
      "metadata": {},
      "outputs": [],
      "source": [
        "# Slice plot, can be done for all different parameter-objective combinations.\n",
        "render(plot_slice(model, \"pH\", \"overpotential\"))"
      ]
    },
    {
      "cell_type": "markdown",
      "metadata": {},
      "source": [
        "## More visualizations"
      ]
    },
    {
      "cell_type": "markdown",
      "metadata": {},
      "source": [
        "Automatic data conversion from the Ax dataframe to a list, for visualization purposes."
      ]
    },
    {
      "cell_type": "code",
      "execution_count": null,
      "metadata": {},
      "outputs": [],
      "source": [
        "# Get dataframe and drop the 'sem' column\n",
        "data_df = ax_client.experiment.fetch_data().df\n",
        "data_df = data_df.drop(columns=['sem'])\n",
        "\n",
        "# Convert the DataFrame to a list of lists\n",
        "data_list = []\n",
        "\n",
        "for trial in data_df['trial_index'].unique():\n",
        "    trial_data = data_df[data_df['trial_index'] == trial]\n",
        "    \n",
        "    # Extract data for 'overpotential' and 'overpotential_slope'\n",
        "    overpotential_data = trial_data.loc[trial_data['metric_name'] == 'overpotential', 'mean'].tolist()[0]\n",
        "    slope_data = trial_data.loc[trial_data['metric_name'] == 'overpotential_slope', 'mean'].tolist()[0]\n",
        "    \n",
        "    # Combine the data into a list of tuples\n",
        "    trial_data_list = [overpotential_data, slope_data]\n",
        "    \n",
        "    # Extend the main list\n",
        "    data_list.append(trial_data_list)\n",
        "\n",
        "# Now data_list has the format you want\n",
        "print(data_list)"
      ]
    },
    {
      "cell_type": "markdown",
      "metadata": {},
      "source": [
        "### Plot by batch or by trial"
      ]
    },
    {
      "cell_type": "code",
      "execution_count": null,
      "metadata": {},
      "outputs": [],
      "source": [
        "from src.ax_code.visualizations import plot_pareto\n",
        "\n",
        "# Need to be manually organized by batch, see visualizations.py \n",
        "# (needed for the 'by batch' plot, doesn't matter for the rest)\n",
        "\n",
        "# Choose the visualization type ('batch' or 'trial')\n",
        "visualization_type = 'batch' \n",
        "\n",
        "# Call the function to plot the Pareto front\n",
        "plot_pareto(data_list, visualization_type)"
      ]
    },
    {
      "cell_type": "markdown",
      "metadata": {},
      "source": [
        "### Plot by tracking one of the two objectives over the trials"
      ]
    },
    {
      "cell_type": "code",
      "execution_count": null,
      "metadata": {},
      "outputs": [],
      "source": [
        "from src.ax_code.visualizations import plot_pareto_objective\n",
        "\n",
        "# Choose the visualization type ('value' or 'slope')\n",
        "visualization_type = 'slope' \n",
        "\n",
        "# Call the function to plot the Pareto front based on tracking the chosen objective\n",
        "plot_pareto_objective(data_list, visualization_type)"
      ]
    }
  ],
  "metadata": {
    "colab": {
      "provenance": []
    },
    "kernelspec": {
      "display_name": "Python 3.9.13 ('sdl-demo')",
      "language": "python",
      "name": "python3"
    },
    "language_info": {
      "codemirror_mode": {
        "name": "ipython",
        "version": 3
      },
      "file_extension": ".py",
      "mimetype": "text/x-python",
      "name": "python",
      "nbconvert_exporter": "python",
      "pygments_lexer": "ipython3",
      "version": "3.10.11"
    },
    "vscode": {
      "interpreter": {
        "hash": "70cb6d4911b67e25d1487ebd620c5d1370239efaaf47f3851af44f5c5a26f988"
      }
    }
  },
  "nbformat": 4,
  "nbformat_minor": 0
}
