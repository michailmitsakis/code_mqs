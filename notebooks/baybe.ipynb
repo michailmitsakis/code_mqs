{
 "cells": [
  {
   "cell_type": "markdown",
   "metadata": {},
   "source": [
    "## Imports"
   ]
  },
  {
   "cell_type": "code",
   "execution_count": 1,
   "metadata": {},
   "outputs": [],
   "source": [
    "import numpy as np\n",
    "import pandas as pd\n",
    "\n",
    "from baybe.targets import NumericalTarget\n",
    "from baybe.objective import Objective\n",
    "\n",
    "from baybe.parameters import NumericalDiscreteParameter\n",
    "from baybe.searchspace import SearchSpace\n",
    "\n",
    "from baybe.recommenders import RandomRecommender, SequentialGreedyRecommender, NaiveHybridRecommender\n",
    "from baybe.surrogates import GaussianProcessSurrogate\n",
    "\n",
    "from baybe.strategies import TwoPhaseStrategy\n",
    "from baybe import Campaign"
   ]
  },
  {
   "cell_type": "markdown",
   "metadata": {},
   "source": [
    "### Setting the objectives"
   ]
  },
  {
   "cell_type": "markdown",
   "metadata": {},
   "source": [
    "The DESIRABILITY mode enables the combination multiple targets via scalarization into a single value.\n",
    "\n",
    "Connection to the Pareto front? - Alternative way to do it, fully multi-objective optimization is in the works.\n",
    "\n",
    "Check MATCH mode, instead of MAX/MIN + For more details on transformation functions: \n",
    "https://emdgroup.github.io/baybe/userguide/targets.html"
   ]
  },
  {
   "cell_type": "code",
   "execution_count": 2,
   "metadata": {},
   "outputs": [],
   "source": [
    "overpotential = NumericalTarget(\n",
    "    name=\"overpotential\", \n",
    "    mode=\"MAX\", \n",
    "    bounds=(-400, 0),\n",
    "    transformation=\"LINEAR\"  # optional, will be applied if bounds are not None, LINEAR only one available for MAX/MIN\n",
    "    ) \n",
    "\n",
    "overpotential_slope = NumericalTarget(\n",
    "    name=\"overpotential_slope\", \n",
    "    mode=\"MAX\", \n",
    "    bounds=(-0.05, 0.05),\n",
    "    transformation=\"LINEAR\"  # optional, will be applied if bounds are not None, LINEAR only one available for MAX/MIN\n",
    "    )\n",
    "\n",
    "objective = Objective(\n",
    "    mode=\"DESIRABILITY\",\n",
    "    targets=[overpotential, overpotential_slope],\n",
    "    weights=[1.0, 1.0],  # optional, by default all weights are equal\n",
    "    combine_func=\"GEOM_MEAN\",  # optional, geometric mean is the default\n",
    ")"
   ]
  },
  {
   "cell_type": "markdown",
   "metadata": {},
   "source": [
    "### Search Space"
   ]
  },
  {
   "cell_type": "code",
   "execution_count": 3,
   "metadata": {},
   "outputs": [],
   "source": [
    "parameters = [\n",
    "NumericalDiscreteParameter(\n",
    "    name=\"Tungstate_concentration[M]\",\n",
    "    values=np.arange(0.05, 0.21, 0.01),\n",
    "    tolerance = 0.004,  # allows experimental inaccuracies up to 0.004 when reading values\n",
    "    # ValueError: Parameter 'Tungstate_concentration[M]' is initialized with tolerance 0.005 but\n",
    "    # due to the given parameter values, the specified tolerance must be smaller than 0.004999999999999977 to avoid ambiguity.\n",
    "),\n",
    "NumericalDiscreteParameter(\n",
    "    name=\"Current_density[mA/cm2]\",\n",
    "    values=np.arange(5, 130, 5),\n",
    "    tolerance = 2,  # allows experimental inaccuracies up to 2 when reading values, same as above\n",
    "),\n",
    "NumericalDiscreteParameter(\n",
    "    name=\"Deposition_time[s]\",\n",
    "    values=np.arange(60, 610, 10),\n",
    "    tolerance = 4.9,  # allows experimental inaccuracies up to 4.9 when reading values\n",
    "),\n",
    "NumericalDiscreteParameter(\n",
    "        name=\"pH\",\n",
    "        values=np.arange(5, 10.5, 0.5),\n",
    "        tolerance=0.2,  # allows experimental inaccuracies up to 0.49 when reading values\n",
    "    )\n",
    "]\n",
    "\n",
    "searchspace = SearchSpace.from_product(parameters)"
   ]
  },
  {
   "cell_type": "markdown",
   "metadata": {},
   "source": [
    "### Recommenders"
   ]
  },
  {
   "cell_type": "markdown",
   "metadata": {},
   "source": [
    "The **SequentialGreedyRecommender** is a powerful recommender that leverages BoTorch optimization functions to perform sequential Greedy optimization. It can be applied for discrete, continuous and hybrid sarch spaces. It is an implementation of the BoTorch optimization functions for discrete, continuous and mixed spaces. **It is important to note that this recommender performs a brute-force search when applied in hybrid search spaces, as it optimizes the continuous part of the space while exhaustively searching choices in the discrete subspace.** You can customize this behavior to only sample a certain percentage of the discrete subspace via the sample_percentage attribute and to choose different sampling strategies via the hybrid_sampler attribute. \n",
    "\n",
    "e.g.\n",
    "strategy = TwoPhaseStrategy(recommender=SequentialGreedyRecommender(hybrid_sampler=\"Farthest\", sampling_percentage=0.3))\n",
    "\n",
    "The **NaiveHybridRecommender** can be applied to all search spaces, but is intended to be used in hybrid spaces. This recommender **combines individual recommenders for the continuous and the discrete subspaces. It independently optimizes each subspace and consolidates the best results to generate a candidate for the original hybrid space.** "
   ]
  },
  {
   "cell_type": "markdown",
   "metadata": {},
   "source": [
    "For implementing fully customized surrogate models e.g. from sklearn or PyTorch, see:\n",
    "https://emdgroup.github.io/baybe/examples/Custom_Surrogates/Custom_Surrogates.html\n"
   ]
  },
  {
   "cell_type": "code",
   "execution_count": 4,
   "metadata": {},
   "outputs": [
    {
     "name": "stderr",
     "output_type": "stream",
     "text": [
      "c:\\Users\\lordm\\Desktop\\Projects\\baybe\\.venv\\lib\\site-packages\\baybe\\recommenders\\bayesian.py:492: UserWarning: The value of 'allow_recommending_already_measured' differs from what is specified in the discrete recommender. The value of the discrete recommender will be ignored.\n",
      "  warnings.warn(\n"
     ]
    }
   ],
   "source": [
    "available_surr_models = [\n",
    "    \"GaussianProcessSurrogate\", \n",
    "    \"BayesianLinearSurrogate\",\n",
    "    \"MeanPredictionSurrogate\",\n",
    "    \"NGBoostSurrogate\",\n",
    "    \"RandomForestSurrogate\"\n",
    "]\n",
    "\n",
    "available_acq_functions = [\n",
    "    \"qPI\",  # q-Probability Of Improvement\n",
    "    \"qEI\",  # q-Expected Improvement\n",
    "    \"qUCB\", # q-upper confidence bound with beta of 1.0\n",
    "]\n",
    "\n",
    "# Defaults anyway\n",
    "SURROGATE_MODEL = GaussianProcessSurrogate()\n",
    "ACQ_FUNCTION = \"qEI\" # q-Expected Improvement, only q-fuctions are available for batch_size > 1\n",
    "\n",
    "seq_greedy_recommender = SequentialGreedyRecommender(\n",
    "        surrogate_model=SURROGATE_MODEL,\n",
    "        acquisition_function_cls=ACQ_FUNCTION,\n",
    "        hybrid_sampler=\"Farthest\", # find more details in the documentation\n",
    "        sampling_percentage=0.3, # should be relatively low\n",
    "        allow_repeated_recommendations=False,\n",
    "        allow_recommending_already_measured=False,\n",
    "    )\n",
    "\n",
    "hybrid_recommender = NaiveHybridRecommender(\n",
    "    allow_repeated_recommendations=False,\n",
    "    allow_recommending_already_measured=False\n",
    ")"
   ]
  },
  {
   "cell_type": "markdown",
   "metadata": {},
   "source": [
    "### Campaign Strategy"
   ]
  },
  {
   "cell_type": "code",
   "execution_count": 5,
   "metadata": {},
   "outputs": [],
   "source": [
    "strategy = TwoPhaseStrategy(\n",
    "    initial_recommender = RandomRecommender(),  # Initial recommender, if no training data is available\n",
    "    # Other initial recommenders don't seem to work for my hybrid search space/set of parameters\n",
    "    # Doesn't matter since I already have training data\n",
    "    recommender = seq_greedy_recommender,  # Bayesian model-based optimization\n",
    "    # recommender = hybrid_recommender,\n",
    "    switch_after=1  # Switch to the model-based recommender after 1 batch or iteration (so the initial training data)\n",
    ")\n",
    "\n",
    "campaign = Campaign(searchspace, objective, strategy)"
   ]
  },
  {
   "cell_type": "code",
   "execution_count": 6,
   "metadata": {},
   "outputs": [
    {
     "name": "stdout",
     "output_type": "stream",
     "text": [
      "\n",
      "\n",
      "Initial experiments with measured values: \n",
      "|    |   Tungstate_concentration[M] |   Current_density[mA/cm2] |   Deposition_time[s] |   pH |   overpotential |   overpotential_slope |\n",
      "|---:|-----------------------------:|--------------------------:|---------------------:|-----:|----------------:|----------------------:|\n",
      "|  0 |                         0.05 |                        10 |                  500 |  5   |            -358 |              0.00015  |\n",
      "|  1 |                         0.05 |                        50 |                  300 |  6   |            -319 |              6.6e-05  |\n",
      "|  2 |                         0.1  |                        10 |                  300 |  7   |            -377 |              0.0001   |\n",
      "|  3 |                         0.1  |                        10 |                  600 |  8   |            -319 |             -0.000518 |\n",
      "|  4 |                         0.1  |                        50 |                  600 |  7.5 |            -286 |              8e-05    |\n",
      "|  5 |                         0.1  |                       100 |                  600 | 10   |            -312 |              2.9e-05  |\n",
      "|  6 |                         0.1  |                        50 |                  400 |  6.5 |            -309 |             -5.7e-05  |\n",
      "|  7 |                         0.1  |                        30 |                  600 |  8.5 |            -290 |              0.001656 |\n",
      "|  8 |                         0.15 |                        10 |                  600 |  9.5 |            -329 |              0.000131 |\n",
      "|  9 |                         0.15 |                        50 |                  300 |  9.5 |            -305 |             -6.4e-05  |\n"
     ]
    }
   ],
   "source": [
    "unique_parameters = [\"Tungstate_concentration[M]\", \"Current_density[mA/cm2]\", \"Deposition_time[s]\", \"pH\"] \n",
    "unique_objectives = [\"overpotential\", \"overpotential_slope\"]\n",
    "\n",
    "# EXAMPLE, here use actual data\n",
    "X_train = np.array([[0.05, 10, 500, 5],\n",
    "               [0.05, 50, 300, 6],\n",
    "               [0.1, 10, 300, 7],\n",
    "               [0.1, 10, 600, 8],\n",
    "               \n",
    "               [0.1, 50, 600, 7.5],\n",
    "               [0.1, 100, 600, 10],\n",
    "               [0.1, 50, 400, 6.5],\n",
    "               [0.1, 30, 600, 8.5],\n",
    "               [0.15, 10, 600, 9.5],\n",
    "               [0.15, 50, 300, 9.5]])\n",
    "\n",
    "# Convert to dataframe\n",
    "X_train = pd.DataFrame(X_train, columns=unique_parameters)\n",
    "\n",
    "# EXAMPLE, here use actual observations\n",
    "y_train = np.array([[-358,0.00015], \n",
    "                    [-319,0.000066], \n",
    "                    [-377,0.0001], \n",
    "                    [-319,-0.000518],\n",
    "                    [-286,0.00008], \n",
    "                    [-312,0.000029], \n",
    "                    [-309,-0.000057], \n",
    "                    [-290,0.001656],\n",
    "                    [-329,0.000131], \n",
    "                    [-305,-0.000064]])\n",
    "\n",
    "# Convert to dataframe\n",
    "y_train = pd.DataFrame(y_train, columns=unique_objectives)\n",
    "\n",
    "rec_init = pd.concat([X_train, y_train], axis=1)\n",
    "\n",
    "# Add initial data to the campaign\n",
    "campaign.add_measurements(rec_init)\n",
    "print(\"\\n\\nInitial experiments with measured values: \")\n",
    "print(rec_init.to_markdown())"
   ]
  },
  {
   "cell_type": "markdown",
   "metadata": {},
   "source": [
    "Available measurements can be submitted at any time and also several times before querying the next recommendations."
   ]
  },
  {
   "cell_type": "markdown",
   "metadata": {},
   "source": [
    "### Batch Optimization"
   ]
  },
  {
   "cell_type": "markdown",
   "metadata": {},
   "source": [
    "If you have a fixed experimental budget but the luxury of choosing whether to run your experiments sequentially or in parallel, sequential experimentation will give you the better overall results in expectation. This is because in the sequential approach, each subsequent recommendation can leverage the additional data from previous iterations, which allows more accurate predictive models to be built. However, in real-world use cases, the question is typically answered by other factors, such as whether parallel experimentation is feasible in the first place, or whether the given time budget even allows for sequential runs."
   ]
  },
  {
   "cell_type": "code",
   "execution_count": 7,
   "metadata": {},
   "outputs": [
    {
     "name": "stderr",
     "output_type": "stream",
     "text": [
      "c:\\Users\\lordm\\Desktop\\Projects\\baybe\\.venv\\lib\\site-packages\\baybe\\campaign.py:275: FutureWarning: A value is trying to be set on a copy of a DataFrame or Series through chained assignment using an inplace method.\n",
      "The behavior will change in pandas 3.0. This inplace method will never work because the intermediate object on which we are setting values always behaves as a copy.\n",
      "\n",
      "For example, when doing 'df[col].method(value, inplace=True)', try using 'df.method({col: value}, inplace=True)' or df[col] = df[col].method(value) instead, to perform the operation inplace on the original object.\n",
      "\n",
      "\n",
      "  self._measurements_exp[\"FitNr\"].fillna(self.n_fits_done, inplace=True)\n",
      "c:\\Users\\lordm\\Desktop\\Projects\\baybe\\.venv\\lib\\site-packages\\botorch\\acquisition\\monte_carlo.py:399: FutureWarning: Series.__getitem__ treating keys as positions is deprecated. In a future version, integer keys will always be treated as labels (consistent with DataFrame behavior). To access a value by position, use `ser.iloc[pos]`\n",
      "  self.register_buffer(\"best_f\", torch.as_tensor(best_f, dtype=float))\n"
     ]
    },
    {
     "name": "stdout",
     "output_type": "stream",
     "text": [
      "\n",
      "\n",
      "Recommended experiments: \n",
      "|   index |   Tungstate_concentration[M] |   Current_density[mA/cm2] |   Deposition_time[s] |   pH |\n",
      "|--------:|-----------------------------:|--------------------------:|---------------------:|-----:|\n",
      "|   20565 |                         0.06 |                        45 |                  600 |  8   |\n",
      "|   97918 |                         0.11 |                        60 |                  520 |  8.5 |\n",
      "|  127647 |                         0.13 |                        55 |                  600 |  6.5 |\n"
     ]
    }
   ],
   "source": [
    "rec = campaign.recommend(batch_size=3)\n",
    "print(\"\\n\\nRecommended experiments: \")\n",
    "print(rec.to_markdown())"
   ]
  },
  {
   "cell_type": "code",
   "execution_count": 8,
   "metadata": {},
   "outputs": [
    {
     "name": "stdout",
     "output_type": "stream",
     "text": [
      "\n",
      "\n",
      "Recommended experiments with measured values: \n",
      "|   index |   Tungstate_concentration[M] |   Current_density[mA/cm2] |   Deposition_time[s] |   pH |   overpotential |   overpotential_slope |\n",
      "|--------:|-----------------------------:|--------------------------:|---------------------:|-----:|----------------:|----------------------:|\n",
      "|   20565 |                         0.06 |                        45 |                  600 |  8   |            -344 |                 -0.02 |\n",
      "|   97918 |                         0.11 |                        60 |                  520 |  8.5 |            -322 |                 -0.03 |\n",
      "|  127647 |                         0.13 |                        55 |                  600 |  6.5 |            -389 |                 -0.04 |\n"
     ]
    }
   ],
   "source": [
    "rec[\"overpotential\"] = [-344, -322, -389]\n",
    "rec[\"overpotential_slope\"] = [-0.02, -0.03, -0.04]\n",
    "campaign.add_measurements(rec)\n",
    "print(\"\\n\\nRecommended experiments with measured values: \")\n",
    "print(rec.to_markdown())"
   ]
  },
  {
   "cell_type": "code",
   "execution_count": 9,
   "metadata": {},
   "outputs": [
    {
     "name": "stderr",
     "output_type": "stream",
     "text": [
      "c:\\Users\\lordm\\Desktop\\Projects\\baybe\\.venv\\lib\\site-packages\\baybe\\campaign.py:275: FutureWarning: A value is trying to be set on a copy of a DataFrame or Series through chained assignment using an inplace method.\n",
      "The behavior will change in pandas 3.0. This inplace method will never work because the intermediate object on which we are setting values always behaves as a copy.\n",
      "\n",
      "For example, when doing 'df[col].method(value, inplace=True)', try using 'df.method({col: value}, inplace=True)' or df[col] = df[col].method(value) instead, to perform the operation inplace on the original object.\n",
      "\n",
      "\n",
      "  self._measurements_exp[\"FitNr\"].fillna(self.n_fits_done, inplace=True)\n",
      "c:\\Users\\lordm\\Desktop\\Projects\\baybe\\.venv\\lib\\site-packages\\botorch\\acquisition\\monte_carlo.py:399: FutureWarning: Series.__getitem__ treating keys as positions is deprecated. In a future version, integer keys will always be treated as labels (consistent with DataFrame behavior). To access a value by position, use `ser.iloc[pos]`\n",
      "  self.register_buffer(\"best_f\", torch.as_tensor(best_f, dtype=float))\n"
     ]
    },
    {
     "name": "stdout",
     "output_type": "stream",
     "text": [
      "\n",
      "\n",
      "Recommended experiments: \n",
      "|   index |   Tungstate_concentration[M] |   Current_density[mA/cm2] |   Deposition_time[s] |   pH |\n",
      "|--------:|-----------------------------:|--------------------------:|---------------------:|-----:|\n",
      "|   54760 |                         0.08 |                        80 |                  340 |    6 |\n",
      "|  144726 |                         0.14 |                        75 |                  170 |   10 |\n",
      "|  199352 |                         0.18 |                        25 |                  330 |   10 |\n"
     ]
    }
   ],
   "source": [
    "new_rec = campaign.recommend(batch_size=3)\n",
    "print(\"\\n\\nRecommended experiments: \")\n",
    "print(new_rec.to_markdown())"
   ]
  },
  {
   "cell_type": "code",
   "execution_count": 10,
   "metadata": {},
   "outputs": [
    {
     "name": "stdout",
     "output_type": "stream",
     "text": [
      "\n",
      "\n",
      "Recommended experiments with measured values: \n",
      "|   index |   Tungstate_concentration[M] |   Current_density[mA/cm2] |   Deposition_time[s] |   pH |   overpotential |   overpotential_slope |\n",
      "|--------:|-----------------------------:|--------------------------:|---------------------:|-----:|----------------:|----------------------:|\n",
      "|   54760 |                         0.08 |                        80 |                  340 |    6 |            -250 |               -0.025  |\n",
      "|  144726 |                         0.14 |                        75 |                  170 |   10 |            -278 |               -0.0001 |\n",
      "|  199352 |                         0.18 |                        25 |                  330 |   10 |            -298 |               -0.06   |\n"
     ]
    }
   ],
   "source": [
    "new_rec[\"overpotential\"] = [-250, -278, -298]\n",
    "new_rec[\"overpotential_slope\"] = [-0.025, -0.0001, -0.06]\n",
    "print(\"\\n\\nRecommended experiments with measured values: \")\n",
    "print(new_rec.to_markdown())"
   ]
  },
  {
   "cell_type": "markdown",
   "metadata": {},
   "source": [
    "Merge full results into dataframe:"
   ]
  },
  {
   "cell_type": "code",
   "execution_count": 11,
   "metadata": {},
   "outputs": [
    {
     "name": "stdout",
     "output_type": "stream",
     "text": [
      "\n",
      "\n",
      "All experiments with measured values: \n",
      "|        |   Tungstate_concentration[M] |   Current_density[mA/cm2] |   Deposition_time[s] |   pH |   overpotential |   overpotential_slope |\n",
      "|-------:|-----------------------------:|--------------------------:|---------------------:|-----:|----------------:|----------------------:|\n",
      "|      0 |                         0.05 |                        10 |                  500 |  5   |            -358 |              0.00015  |\n",
      "|      1 |                         0.05 |                        50 |                  300 |  6   |            -319 |              6.6e-05  |\n",
      "|      2 |                         0.1  |                        10 |                  300 |  7   |            -377 |              0.0001   |\n",
      "|      3 |                         0.1  |                        10 |                  600 |  8   |            -319 |             -0.000518 |\n",
      "|      4 |                         0.1  |                        50 |                  600 |  7.5 |            -286 |              8e-05    |\n",
      "|      5 |                         0.1  |                       100 |                  600 | 10   |            -312 |              2.9e-05  |\n",
      "|      6 |                         0.1  |                        50 |                  400 |  6.5 |            -309 |             -5.7e-05  |\n",
      "|      7 |                         0.1  |                        30 |                  600 |  8.5 |            -290 |              0.001656 |\n",
      "|      8 |                         0.15 |                        10 |                  600 |  9.5 |            -329 |              0.000131 |\n",
      "|      9 |                         0.15 |                        50 |                  300 |  9.5 |            -305 |             -6.4e-05  |\n",
      "|  20565 |                         0.06 |                        45 |                  600 |  8   |            -344 |             -0.02     |\n",
      "|  97918 |                         0.11 |                        60 |                  520 |  8.5 |            -322 |             -0.03     |\n",
      "| 127647 |                         0.13 |                        55 |                  600 |  6.5 |            -389 |             -0.04     |\n",
      "|  54760 |                         0.08 |                        80 |                  340 |  6   |            -250 |             -0.025    |\n",
      "| 144726 |                         0.14 |                        75 |                  170 | 10   |            -278 |             -0.0001   |\n",
      "| 199352 |                         0.18 |                        25 |                  330 | 10   |            -298 |             -0.06     |\n"
     ]
    }
   ],
   "source": [
    "results = pd.concat([rec_init, rec, new_rec])\n",
    "print(\"\\n\\nAll experiments with measured values: \")\n",
    "print(results.to_markdown())"
   ]
  },
  {
   "cell_type": "code",
   "execution_count": null,
   "metadata": {},
   "outputs": [],
   "source": [
    "# Could also add fake results with:\n",
    "# from baybe.utils.dataframe import add_fake_results\n",
    "# add_fake_results(rec, campaign)\n",
    "# print(\"\\n\\nRecommended experiments with fake measured values: \")\n",
    "# print(rec.to_markdown())\n",
    "\n",
    "# BUT the values provided won't make sense for the given parameters, so I'll just use my 'fake' actual values."
   ]
  },
  {
   "cell_type": "markdown",
   "metadata": {},
   "source": [
    "#### Saving & Loading / (De)Serialization"
   ]
  },
  {
   "cell_type": "markdown",
   "metadata": {},
   "source": [
    "Note that DataFrame objects associated with the Campaign object are converted to a binary format during serialization, which has the consequence that their JSON representation is not human-readable. For more details on config files and their validation: https://emdgroup.github.io/baybe/examples/Serialization/Serialization.html"
   ]
  },
  {
   "cell_type": "code",
   "execution_count": 12,
   "metadata": {},
   "outputs": [],
   "source": [
    "campaign_json = campaign.to_json()\n",
    "recreated_campaign = Campaign.from_json(campaign_json)\n",
    "# assert campaign == recreated_campaign"
   ]
  },
  {
   "cell_type": "markdown",
   "metadata": {},
   "source": [
    "### Simulation loops/Backtesting"
   ]
  },
  {
   "cell_type": "markdown",
   "metadata": {},
   "source": [
    "For more info on running **simulations**, i.e. getting different initial 'lookup' sample data from 'Excel' table-based files, comparing recommenders, and plotting the results:\n",
    "https://emdgroup.github.io/baybe/examples/Backtesting/Backtesting.html\n",
    "\n",
    "Also includes fully custom BoTorch functions."
   ]
  },
  {
   "cell_type": "markdown",
   "metadata": {},
   "source": [
    "### Plotting the data so far"
   ]
  },
  {
   "cell_type": "code",
   "execution_count": 13,
   "metadata": {},
   "outputs": [
    {
     "data": {
      "image/png": "[encoded data removed]",
      "text/plain": [
       "<Figure size 1000x800 with 1 Axes>"
      ]
     },
     "metadata": {},
     "output_type": "display_data"
    }
   ],
   "source": [
    "import matplotlib.pyplot as plt\n",
    "\n",
    "# Extract objective values\n",
    "objective1 = results['overpotential']\n",
    "objective2 = results['overpotential_slope']\n",
    "\n",
    "# Plot objectives against each other\n",
    "plt.figure(figsize=(10, 8))\n",
    "plt.scatter(objective1, objective2, c='skyblue', alpha=0.7, edgecolors='b', linewidths=1.5, label='Data Points', marker='o', s=100)\n",
    "\n",
    "# Add labels and legend\n",
    "plt.xlabel('Overpotential', fontsize=14)\n",
    "plt.ylabel('Overpotential Slope', fontsize=14)\n",
    "plt.title('Optimization Progress', fontsize=16)\n",
    "plt.legend(loc='upper right', fontsize=12)\n",
    "plt.grid(True, linestyle='--', alpha=0.5)\n",
    "\n",
    "# Customize ticks\n",
    "plt.xticks(fontsize=12)\n",
    "plt.yticks(fontsize=12)\n",
    "\n",
    "# Show the plot\n",
    "plt.tight_layout()\n",
    "plt.show()"
   ]
  },
  {
   "cell_type": "code",
   "execution_count": null,
   "metadata": {},
   "outputs": [],
   "source": []
  }
 ],
 "metadata": {
  "kernelspec": {
   "display_name": ".venv",
   "language": "python",
   "name": "python3"
  },
  "language_info": {
   "codemirror_mode": {
    "name": "ipython",
    "version": 3
   },
   "file_extension": ".py",
   "mimetype": "text/x-python",
   "name": "python",
   "nbconvert_exporter": "python",
   "pygments_lexer": "ipython3",
   "version": "3.10.11"
  }
 },
 "nbformat": 4,
 "nbformat_minor": 2
}
